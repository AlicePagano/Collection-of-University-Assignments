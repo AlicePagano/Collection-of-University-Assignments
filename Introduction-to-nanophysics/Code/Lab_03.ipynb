{
 "cells": [
  {
   "cell_type": "markdown",
   "metadata": {},
   "source": [
    "# Laboratory Session 03\n",
    "\n",
    "Student: Alice Pagano, Alessandra Sabatti"
   ]
  },
  {
   "cell_type": "code",
   "execution_count": 2,
   "metadata": {
    "ExecuteTime": {
     "end_time": "2020-07-09T17:26:44.130063Z",
     "start_time": "2020-07-09T17:26:42.451807Z"
    }
   },
   "outputs": [],
   "source": [
    "# Import main packages \n",
    "import pandas as pd\n",
    "import numpy as np\n",
    "import scipy as sp\n",
    "#import seaborn as sns\n",
    "import matplotlib.pyplot as plt\n",
    "import bokeh.palettes as palette # For palette of colors\n",
    "import time\n",
    "from scipy.optimize import curve_fit\n",
    "from mpl_toolkits.mplot3d import Axes3D\n",
    "import matplotlib.colors as colors\n",
    "\n",
    "import os\n",
    "from lmfit.models import PseudoVoigtModel, LinearModel, LognormalModel\n",
    "from scipy.integrate import trapz, simps\n",
    "\n",
    "#from matplotlib import rc\n",
    "#rc('font',**{'family':'sans-serif','sans-serif':['Helvetica']})\n",
    "### for Palatino and other serif fonts use:\n",
    "##rc('font',**{'family':'serif','serif':['Palatino']})\n",
    "#rc('text', usetex=True) \n",
    "\n",
    "def weighted_avg_and_std(values, weights):\n",
    "    \"\"\"\n",
    "    Return the weighted average and standard deviation.\n",
    "\n",
    "    values, weights -- Numpy ndarrays with the same shape.\n",
    "    \"\"\"\n",
    "    average = np.average(values, weights=weights)\n",
    "    # Fast and numerically precise:\n",
    "    variance = 1/sum(weights)\n",
    "    return [average, np.sqrt(variance)]"
   ]
  },
  {
   "cell_type": "code",
   "execution_count": 3,
   "metadata": {
    "ExecuteTime": {
     "end_time": "2020-07-09T17:26:44.184748Z",
     "start_time": "2020-07-09T17:26:44.142451Z"
    }
   },
   "outputs": [],
   "source": [
    "# Import experimental Bulk Dielectric Function for Au \n",
    "path      = \"data3/Work/01_image.csv\"\n",
    "cols      = pd.read_csv(path, sep=\",\", nrows=1, header=None).iloc[0].values[0:]\n",
    "data01 = pd.read_csv(path,sep=\",\",skiprows=1,header=None,names=cols)\n",
    "\n",
    "path      = \"data3/Work/04_image.csv\"\n",
    "cols      = pd.read_csv(path, sep=\",\", nrows=1, header=None).iloc[0].values[0:]\n",
    "data04 = pd.read_csv(path,sep=\",\",skiprows=1,header=None,names=cols)\n",
    "data04 = data04.drop(columns=['X','Y'])\n",
    "\n",
    "path      = \"data3/Work/05_image.csv\"\n",
    "cols      = pd.read_csv(path, sep=\",\", nrows=1, header=None).iloc[0].values[0:]\n",
    "data05 = pd.read_csv(path,sep=\",\",skiprows=1,header=None,names=cols)\n",
    "\n",
    "path      = \"data3/Work/07_image.csv\"\n",
    "cols      = pd.read_csv(path, sep=\",\", nrows=1, header=None).iloc[0].values[0:]\n",
    "data07 = pd.read_csv(path,sep=\",\",skiprows=1,header=None,names=cols)\n",
    "data07 = data07.drop(columns=['X','Y'])"
   ]
  },
  {
   "cell_type": "markdown",
   "metadata": {},
   "source": [
    "## Preliminary"
   ]
  },
  {
   "cell_type": "code",
   "execution_count": 4,
   "metadata": {
    "ExecuteTime": {
     "end_time": "2020-07-09T17:26:45.524380Z",
     "start_time": "2020-07-09T17:26:45.499948Z"
    }
   },
   "outputs": [],
   "source": [
    "data01['aspect_ratio'] = data01['Major']/data01['Minor']\n",
    "data01['R_eff'] = np.sqrt( data01['Area']/np.pi ) \n",
    "\n",
    "data04['aspect_ratio'] = data04['Major']/data04['Minor']\n",
    "data04['R_eff'] = np.sqrt( data04['Area']/np.pi ) \n",
    "\n",
    "data05['aspect_ratio'] = data05['Major']/data05['Minor']\n",
    "data05['R_eff'] = np.sqrt( data05['Area']/np.pi ) \n",
    "\n",
    "data07['aspect_ratio'] = data07['Major']/data07['Minor']\n",
    "data07['R_eff'] = np.sqrt( data07['Area']/np.pi ) "
   ]
  },
  {
   "cell_type": "code",
   "execution_count": 5,
   "metadata": {
    "ExecuteTime": {
     "end_time": "2020-07-09T17:26:46.819903Z",
     "start_time": "2020-07-09T17:26:46.813568Z"
    }
   },
   "outputs": [
    {
     "name": "stdout",
     "output_type": "stream",
     "text": [
      "err01: 0.42839389973870234\n",
      "err04: 0.28567291319502686\n",
      "err05: 0.8570764746119994\n",
      "err07: 0.17138642740894042\n"
     ]
    }
   ],
   "source": [
    "size01 = 1.484\n",
    "size04 = 0.9896\n",
    "size05 = 2.969\n",
    "size07 = 0.5937 \n",
    "\n",
    "err01 = size01/np.sqrt(12)\n",
    "err04 = size04/np.sqrt(12)\n",
    "err05 = size05/np.sqrt(12)\n",
    "err07 = size07/np.sqrt(12)\n",
    "\n",
    "print('err01:',err01)\n",
    "print('err04:',err04)\n",
    "print('err05:',err05)\n",
    "print('err07:',err07)"
   ]
  },
  {
   "cell_type": "code",
   "execution_count": 7,
   "metadata": {
    "ExecuteTime": {
     "end_time": "2020-07-09T17:27:03.714477Z",
     "start_time": "2020-07-09T17:27:03.699919Z"
    }
   },
   "outputs": [
    {
     "name": "stdout",
     "output_type": "stream",
     "text": [
      "Mean 01: 23.97757345971562\n",
      "Mean 04: 23.50811450381679\n",
      "Mean 05: 24.119371042633976\n",
      "Mean 07: 24.21564772727272\n",
      "mean err01: 0.017027128866318787\n",
      "mean err04: 0.017648931517658874\n",
      "mean err05: 0.01760909531445964\n",
      "mean err07: 0.01826985454860746\n",
      "Mean max: 23.955176683359777 \n",
      "\n",
      "\n",
      "Mean max 1: 23.95143932466465 \n",
      "\n",
      "\n",
      "Err Mean max1 : 0.008811168107554558 \n",
      "\n",
      "\n"
     ]
    }
   ],
   "source": [
    "mean_max01 = np.mean(data01['Major'])\n",
    "mean_max04 = np.mean(data04['Major'])\n",
    "mean_max05 = np.mean(data05['Major'])\n",
    "mean_max07 = np.mean(data07['Major'])\n",
    "\n",
    "print('Mean 01:', mean_max01)\n",
    "print('Mean 04:', mean_max04)\n",
    "print('Mean 05:', mean_max05)\n",
    "print('Mean 07:', mean_max07)\n",
    "\n",
    "\n",
    "\n",
    "data01['err_Major'] = err01\n",
    "data04['err_Major'] = err04\n",
    "data05['err_Major'] = err05\n",
    "data07['err_Major'] = err07\n",
    "\n",
    "err_mean_max01 = err01/np.sqrt(data01['Major'].shape[0])\n",
    "err_mean_max04 = err04/np.sqrt(data04['Major'].shape[0])\n",
    "err_mean_max05 = err05/np.sqrt(data05['Major'].shape[0])\n",
    "err_mean_max07 = err07/np.sqrt(data07['Major'].shape[0])\n",
    "\n",
    "print('mean err01:',err_mean_max01)\n",
    "print('mean err04:',err_mean_max04)\n",
    "print('mean err05:',err_mean_max05)\n",
    "print('mean err07:',err_mean_max07)\n",
    "\n",
    "data = np.array([mean_max01,mean_max04,mean_max05,mean_max07])\n",
    "err_data = np.array([err_mean_max01,err_mean_max04,err_mean_max05,err_mean_max07])\n",
    "mean_max = np.mean( data )\n",
    "print('Mean max:', mean_max,'\\n\\n')\n",
    "mean_max_1 = weighted_avg_and_std(data, 1/err_data**2)[0]\n",
    "err_mean_max_1 = weighted_avg_and_std(data, 1/err_data**2)[1]\n",
    "print('Mean max 1:', mean_max_1,'\\n\\n')\n",
    "print('Err Mean max1 :', err_mean_max_1,'\\n\\n')"
   ]
  },
  {
   "cell_type": "code",
   "execution_count": 7,
   "metadata": {
    "ExecuteTime": {
     "end_time": "2020-07-09T15:19:40.769247Z",
     "start_time": "2020-07-09T15:19:40.755894Z"
    }
   },
   "outputs": [
    {
     "name": "stdout",
     "output_type": "stream",
     "text": [
      "Mean 01: 20.287508688783593\n",
      "Mean 04: 20.029824427480918\n",
      "Mean 05: 19.99388096243138\n",
      "Mean 07: 20.306727272727276\n",
      "Mean min: 20.15448533785579 \n",
      "\n",
      "\n",
      "mean err01: 0.017027128866318787\n",
      "mean err04: 0.017648931517658874\n",
      "mean err05: 0.01760909531445964\n",
      "mean err07: 0.01826985454860746\n"
     ]
    }
   ],
   "source": [
    "mean_min01 = np.mean(data01['Minor'])\n",
    "mean_min04 = np.mean(data04['Minor'])\n",
    "mean_min05 = np.mean(data05['Minor'])\n",
    "mean_min07 = np.mean(data07['Minor'])\n",
    "\n",
    "print('Mean 01:', mean_min01)\n",
    "print('Mean 04:', mean_min04)\n",
    "print('Mean 05:', mean_min05)\n",
    "print('Mean 07:', mean_min07)\n",
    "\n",
    "mean_min = np.mean( [mean_min01,mean_min04,mean_min05,mean_min07] )\n",
    "print('Mean min:', mean_min,'\\n\\n')\n",
    "\n",
    "data01['err_Minor'] = err01\n",
    "data04['err_Minor'] = err04\n",
    "data05['err_Minor'] = err05\n",
    "data07['err_Minor'] = err07\n",
    "\n",
    "err_mean01 = err01/np.sqrt(data01['Minor'].shape[0])\n",
    "err_mean04 = err04/np.sqrt(data04['Minor'].shape[0])\n",
    "err_mean05 = err05/np.sqrt(data05['Minor'].shape[0])\n",
    "err_mean07 = err07/np.sqrt(data07['Minor'].shape[0])\n",
    "\n",
    "print('mean err01:',err_mean01)\n",
    "print('mean err04:',err_mean04)\n",
    "print('mean err05:',err_mean05)\n",
    "print('mean err07:',err_mean07)"
   ]
  },
  {
   "cell_type": "code",
   "execution_count": 8,
   "metadata": {
    "ExecuteTime": {
     "end_time": "2020-07-09T15:19:41.081417Z",
     "start_time": "2020-07-09T15:19:41.052940Z"
    }
   },
   "outputs": [
    {
     "name": "stdout",
     "output_type": "stream",
     "text": [
      "Mean 01: 395.5224202211691\n",
      "Mean 04: 384.0756870229007\n",
      "Mean 05: 392.2959886027862\n",
      "Mean 07: 400.1124659090909 \n",
      "\n",
      "\n",
      "mean err01: 0.02407999657102245\n",
      "mean err04: 0.024959358313667152\n",
      "mean err05: 0.02490302141482935\n",
      "mean err07: 0.025837476085224454\n"
     ]
    }
   ],
   "source": [
    "mean_area01 = np.mean(data01['Area'])\n",
    "mean_area04 = np.mean(data04['Area'])\n",
    "mean_area05 = np.mean(data05['Area'])\n",
    "mean_area07 = np.mean(data07['Area'])\n",
    "\n",
    "print('Mean 01:', mean_area01)\n",
    "print('Mean 04:', mean_area04)\n",
    "print('Mean 05:', mean_area05)\n",
    "print('Mean 07:', mean_area07,'\\n\\n')\n",
    "\n",
    "data01['err_Area'] = err01*np.sqrt(2)\n",
    "data04['err_Area'] = err04*np.sqrt(2)\n",
    "data05['err_Area'] = err05*np.sqrt(2)\n",
    "data07['err_Area'] = err07*np.sqrt(2)\n",
    "\n",
    "err_mean_area01 = err01*np.sqrt(2)/np.sqrt(data01['Area'].shape[0])\n",
    "err_mean_area04 = err04*np.sqrt(2)/np.sqrt(data04['Area'].shape[0])\n",
    "err_mean_area05 = err05*np.sqrt(2)/np.sqrt(data05['Area'].shape[0])\n",
    "err_mean_area07 = err07*np.sqrt(2)/np.sqrt(data07['Area'].shape[0])\n",
    "\n",
    "print('mean err01:',err_mean_area01)\n",
    "print('mean err04:',err_mean_area04)\n",
    "print('mean err05:',err_mean_area05)\n",
    "print('mean err07:',err_mean_area07)\n"
   ]
  },
  {
   "cell_type": "code",
   "execution_count": 9,
   "metadata": {
    "ExecuteTime": {
     "end_time": "2020-07-09T15:19:41.446036Z",
     "start_time": "2020-07-09T15:19:41.385874Z"
    }
   },
   "outputs": [
    {
     "name": "stdout",
     "output_type": "stream",
     "text": [
      "Mean 01: 11.803246380692896\n",
      "Mean 04: 11.650413356330018\n",
      "Mean 05: 11.763925583869964\n",
      "Mean 07: 11.910737952052067 \n",
      "\n",
      "\n",
      "mean err01: 0.0003415591589268441\n",
      "mean err04: 0.00035926927346330913\n",
      "mean err05: 0.0003546828392743253\n",
      "mean err07: 0.00036437965005063676\n"
     ]
    },
    {
     "data": {
      "text/html": [
       "<div>\n",
       "<style scoped>\n",
       "    .dataframe tbody tr th:only-of-type {\n",
       "        vertical-align: middle;\n",
       "    }\n",
       "\n",
       "    .dataframe tbody tr th {\n",
       "        vertical-align: top;\n",
       "    }\n",
       "\n",
       "    .dataframe thead th {\n",
       "        text-align: right;\n",
       "    }\n",
       "</style>\n",
       "<table border=\"1\" class=\"dataframe\">\n",
       "  <thead>\n",
       "    <tr style=\"text-align: right;\">\n",
       "      <th></th>\n",
       "      <th></th>\n",
       "      <th>Area</th>\n",
       "      <th>Major</th>\n",
       "      <th>Minor</th>\n",
       "      <th>Angle</th>\n",
       "      <th>aspect_ratio</th>\n",
       "      <th>R_eff</th>\n",
       "      <th>err_Major</th>\n",
       "      <th>err_Minor</th>\n",
       "      <th>err_Area</th>\n",
       "      <th>err_R_eff</th>\n",
       "    </tr>\n",
       "  </thead>\n",
       "  <tbody>\n",
       "    <tr>\n",
       "      <th>0</th>\n",
       "      <td>1</td>\n",
       "      <td>129.933</td>\n",
       "      <td>13.139</td>\n",
       "      <td>12.591</td>\n",
       "      <td>28.066</td>\n",
       "      <td>1.043523</td>\n",
       "      <td>6.431093</td>\n",
       "      <td>0.428394</td>\n",
       "      <td>0.428394</td>\n",
       "      <td>0.60584</td>\n",
       "      <td>0.014993</td>\n",
       "    </tr>\n",
       "    <tr>\n",
       "      <th>1</th>\n",
       "      <td>2</td>\n",
       "      <td>440.451</td>\n",
       "      <td>25.307</td>\n",
       "      <td>22.160</td>\n",
       "      <td>157.494</td>\n",
       "      <td>1.142013</td>\n",
       "      <td>11.840604</td>\n",
       "      <td>0.428394</td>\n",
       "      <td>0.428394</td>\n",
       "      <td>0.60584</td>\n",
       "      <td>0.008143</td>\n",
       "    </tr>\n",
       "    <tr>\n",
       "      <th>2</th>\n",
       "      <td>3</td>\n",
       "      <td>299.507</td>\n",
       "      <td>21.735</td>\n",
       "      <td>17.545</td>\n",
       "      <td>17.894</td>\n",
       "      <td>1.238814</td>\n",
       "      <td>9.764018</td>\n",
       "      <td>0.428394</td>\n",
       "      <td>0.428394</td>\n",
       "      <td>0.60584</td>\n",
       "      <td>0.009875</td>\n",
       "    </tr>\n",
       "    <tr>\n",
       "      <th>3</th>\n",
       "      <td>4</td>\n",
       "      <td>455.867</td>\n",
       "      <td>24.334</td>\n",
       "      <td>23.853</td>\n",
       "      <td>6.947</td>\n",
       "      <td>1.020165</td>\n",
       "      <td>12.046036</td>\n",
       "      <td>0.428394</td>\n",
       "      <td>0.428394</td>\n",
       "      <td>0.60584</td>\n",
       "      <td>0.008005</td>\n",
       "    </tr>\n",
       "    <tr>\n",
       "      <th>4</th>\n",
       "      <td>5</td>\n",
       "      <td>262.068</td>\n",
       "      <td>18.897</td>\n",
       "      <td>17.658</td>\n",
       "      <td>44.863</td>\n",
       "      <td>1.070166</td>\n",
       "      <td>9.133391</td>\n",
       "      <td>0.428394</td>\n",
       "      <td>0.428394</td>\n",
       "      <td>0.60584</td>\n",
       "      <td>0.010557</td>\n",
       "    </tr>\n",
       "    <tr>\n",
       "      <th>...</th>\n",
       "      <td>...</td>\n",
       "      <td>...</td>\n",
       "      <td>...</td>\n",
       "      <td>...</td>\n",
       "      <td>...</td>\n",
       "      <td>...</td>\n",
       "      <td>...</td>\n",
       "      <td>...</td>\n",
       "      <td>...</td>\n",
       "      <td>...</td>\n",
       "      <td>...</td>\n",
       "    </tr>\n",
       "    <tr>\n",
       "      <th>628</th>\n",
       "      <td>629</td>\n",
       "      <td>425.035</td>\n",
       "      <td>24.734</td>\n",
       "      <td>21.880</td>\n",
       "      <td>60.456</td>\n",
       "      <td>1.130439</td>\n",
       "      <td>11.631545</td>\n",
       "      <td>0.428394</td>\n",
       "      <td>0.428394</td>\n",
       "      <td>0.60584</td>\n",
       "      <td>0.008290</td>\n",
       "    </tr>\n",
       "    <tr>\n",
       "      <th>629</th>\n",
       "      <td>630</td>\n",
       "      <td>519.732</td>\n",
       "      <td>25.808</td>\n",
       "      <td>25.641</td>\n",
       "      <td>159.066</td>\n",
       "      <td>1.006513</td>\n",
       "      <td>12.862186</td>\n",
       "      <td>0.428394</td>\n",
       "      <td>0.428394</td>\n",
       "      <td>0.60584</td>\n",
       "      <td>0.007497</td>\n",
       "    </tr>\n",
       "    <tr>\n",
       "      <th>630</th>\n",
       "      <td>631</td>\n",
       "      <td>361.170</td>\n",
       "      <td>23.255</td>\n",
       "      <td>19.774</td>\n",
       "      <td>106.490</td>\n",
       "      <td>1.176039</td>\n",
       "      <td>10.722126</td>\n",
       "      <td>0.428394</td>\n",
       "      <td>0.428394</td>\n",
       "      <td>0.60584</td>\n",
       "      <td>0.008993</td>\n",
       "    </tr>\n",
       "    <tr>\n",
       "      <th>631</th>\n",
       "      <td>632</td>\n",
       "      <td>336.945</td>\n",
       "      <td>22.534</td>\n",
       "      <td>19.038</td>\n",
       "      <td>54.347</td>\n",
       "      <td>1.183633</td>\n",
       "      <td>10.356299</td>\n",
       "      <td>0.428394</td>\n",
       "      <td>0.428394</td>\n",
       "      <td>0.60584</td>\n",
       "      <td>0.009311</td>\n",
       "    </tr>\n",
       "    <tr>\n",
       "      <th>632</th>\n",
       "      <td>633</td>\n",
       "      <td>277.484</td>\n",
       "      <td>18.886</td>\n",
       "      <td>18.707</td>\n",
       "      <td>176.278</td>\n",
       "      <td>1.009569</td>\n",
       "      <td>9.398186</td>\n",
       "      <td>0.428394</td>\n",
       "      <td>0.428394</td>\n",
       "      <td>0.60584</td>\n",
       "      <td>0.010260</td>\n",
       "    </tr>\n",
       "  </tbody>\n",
       "</table>\n",
       "<p>633 rows × 11 columns</p>\n",
       "</div>"
      ],
      "text/plain": [
       "             Area   Major   Minor    Angle  aspect_ratio      R_eff  \\\n",
       "0      1  129.933  13.139  12.591   28.066      1.043523   6.431093   \n",
       "1      2  440.451  25.307  22.160  157.494      1.142013  11.840604   \n",
       "2      3  299.507  21.735  17.545   17.894      1.238814   9.764018   \n",
       "3      4  455.867  24.334  23.853    6.947      1.020165  12.046036   \n",
       "4      5  262.068  18.897  17.658   44.863      1.070166   9.133391   \n",
       "..   ...      ...     ...     ...      ...           ...        ...   \n",
       "628  629  425.035  24.734  21.880   60.456      1.130439  11.631545   \n",
       "629  630  519.732  25.808  25.641  159.066      1.006513  12.862186   \n",
       "630  631  361.170  23.255  19.774  106.490      1.176039  10.722126   \n",
       "631  632  336.945  22.534  19.038   54.347      1.183633  10.356299   \n",
       "632  633  277.484  18.886  18.707  176.278      1.009569   9.398186   \n",
       "\n",
       "     err_Major  err_Minor  err_Area  err_R_eff  \n",
       "0     0.428394   0.428394   0.60584   0.014993  \n",
       "1     0.428394   0.428394   0.60584   0.008143  \n",
       "2     0.428394   0.428394   0.60584   0.009875  \n",
       "3     0.428394   0.428394   0.60584   0.008005  \n",
       "4     0.428394   0.428394   0.60584   0.010557  \n",
       "..         ...        ...       ...        ...  \n",
       "628   0.428394   0.428394   0.60584   0.008290  \n",
       "629   0.428394   0.428394   0.60584   0.007497  \n",
       "630   0.428394   0.428394   0.60584   0.008993  \n",
       "631   0.428394   0.428394   0.60584   0.009311  \n",
       "632   0.428394   0.428394   0.60584   0.010260  \n",
       "\n",
       "[633 rows x 11 columns]"
      ]
     },
     "execution_count": 9,
     "metadata": {},
     "output_type": "execute_result"
    }
   ],
   "source": [
    "def weighted_avg_and_std(values, weights):\n",
    "    \"\"\"\n",
    "    Return the weighted average and standard deviation.\n",
    "\n",
    "    values, weights -- Numpy ndarrays with the same shape.\n",
    "    \"\"\"\n",
    "    average = np.average(values, weights=weights)\n",
    "    # Fast and numerically precise:\n",
    "    variance = 1/sum(weights)\n",
    "    return [average, np.sqrt(variance)]\n",
    "\n",
    "data01['err_R_eff'] = data01['err_Area'] * 1/(2 * np.sqrt(np.pi) * np.sqrt(data01['Area'])) \n",
    "data04['err_R_eff'] = data04['err_Area'] * 1/(2 * np.sqrt(np.pi) * np.sqrt(data04['Area'])) \n",
    "data05['err_R_eff'] = data05['err_Area'] * 1/(2 * np.sqrt(np.pi) * np.sqrt(data05['Area'])) \n",
    "data07['err_R_eff'] = data07['err_Area'] * 1/(2 * np.sqrt(np.pi) * np.sqrt(data07['Area']))  \n",
    "\n",
    "mean01 = weighted_avg_and_std(data01['R_eff'], 1/data01['err_R_eff']**2)[0]\n",
    "mean04 = weighted_avg_and_std(data04['R_eff'], 1/data04['err_R_eff']**2)[0]\n",
    "mean05 = weighted_avg_and_std(data05['R_eff'], 1/data05['err_R_eff']**2)[0]\n",
    "mean07 = weighted_avg_and_std(data07['R_eff'], 1/data07['err_R_eff']**2)[0]\n",
    "\n",
    "print('Mean 01:', mean01)\n",
    "print('Mean 04:', mean04)\n",
    "print('Mean 05:', mean05)\n",
    "print('Mean 07:', mean07,'\\n\\n')\n",
    "\n",
    "mean_R = np.mean(np.array([mean01,mean04,mean05,mean07]))\n",
    "\n",
    "err_mean_R01 = weighted_avg_and_std(data01['R_eff'], 1/data01['err_R_eff']**2)[1]\n",
    "err_mean_R04 = weighted_avg_and_std(data04['R_eff'], 1/data04['err_R_eff']**2)[1]\n",
    "err_mean_R05 = weighted_avg_and_std(data05['R_eff'], 1/data05['err_R_eff']**2)[1] \n",
    "err_mean_R07 = weighted_avg_and_std(data07['R_eff'], 1/data07['err_R_eff']**2)[1]\n",
    "\n",
    "print('mean err01:',err_mean_R01)\n",
    "print('mean err04:',err_mean_R04)\n",
    "print('mean err05:',err_mean_R05)\n",
    "print('mean err07:',err_mean_R07)\n",
    "\n",
    "data01"
   ]
  },
  {
   "cell_type": "markdown",
   "metadata": {},
   "source": [
    "## Aspect ratio histogram"
   ]
  },
  {
   "cell_type": "code",
   "execution_count": 18,
   "metadata": {
    "ExecuteTime": {
     "end_time": "2020-07-09T15:20:59.332339Z",
     "start_time": "2020-07-09T15:20:59.324549Z"
    }
   },
   "outputs": [],
   "source": [
    "df = pd.concat([data01,data04,data05,data07], axis=0)\n",
    "df = df[df['aspect_ratio']<3]"
   ]
  },
  {
   "cell_type": "code",
   "execution_count": 20,
   "metadata": {
    "ExecuteTime": {
     "end_time": "2020-07-09T15:21:46.961984Z",
     "start_time": "2020-07-09T15:21:45.699629Z"
    }
   },
   "outputs": [
    {
     "data": {
      "image/png": "[encoded data removed]",
      "text/plain": [
       "<Figure size 720x576 with 1 Axes>"
      ]
     },
     "metadata": {
      "needs_background": "light"
     },
     "output_type": "display_data"
    }
   ],
   "source": [
    "data = df['aspect_ratio']\n",
    "n =  data.shape[0]\n",
    "N = 40 #int( 1 + np.log2(n) )  \n",
    "\n",
    "fig, axes = plt.subplots(1, 1, figsize=(10, 8))\n",
    "string1 = 'Experimental data:\\n'+str(n)+' counts'\n",
    "\n",
    "axes.hist(data, N, density=True, align='mid',color=palette.inferno(6)[2],\n",
    "                                alpha=0.6, edgecolor=palette.inferno(6)[0],linewidth=0.8,label=string1)\n",
    "axes.set_title(r'Aspect Ratio Distribution',fontsize=18)\n",
    "axes.set_xlabel(r'$a_{r}$',fontsize=18)\n",
    "axes.set_ylabel(r'density',fontsize=18)\n",
    "axes.grid(color='0.93')\n",
    "axes.legend(fontsize=16,title_fontsize=18,loc='best')\n",
    "axes.tick_params(axis=\"x\", labelsize=16)\n",
    "axes.tick_params(axis=\"y\", labelsize=16)\n",
    "axes.set_axisbelow(True)\n",
    "axes.set_xlim(0.5,3)\n",
    "if not os.path.isdir('./data3/images'):\n",
    "        os.mkdir('./data3/images')\n",
    "        \n",
    "plt.rc('text', usetex=True)\n",
    "plt.rc('font', family='serif')\n",
    "\n",
    "plt.tight_layout()\n",
    "plt.savefig('data3/images/histogram_ar.pdf', format='pdf')"
   ]
  },
  {
   "cell_type": "code",
   "execution_count": null,
   "metadata": {},
   "outputs": [],
   "source": []
  },
  {
   "cell_type": "code",
   "execution_count": null,
   "metadata": {},
   "outputs": [],
   "source": []
  },
  {
   "cell_type": "markdown",
   "metadata": {},
   "source": [
    "## Fit with all datasets"
   ]
  },
  {
   "cell_type": "code",
   "execution_count": null,
   "metadata": {
    "ExecuteTime": {
     "end_time": "2020-07-09T07:58:28.896711Z",
     "start_time": "2020-07-09T07:58:28.888188Z"
    }
   },
   "outputs": [],
   "source": [
    "df = pd.concat([data01,data04,data05,data07], axis=0)"
   ]
  },
  {
   "cell_type": "code",
   "execution_count": null,
   "metadata": {},
   "outputs": [],
   "source": [
    "#plt.step(bins_centers,count,where='mid',color='b')\n",
    "#plt.plot(bins_centers,count,'.',color='r')\n",
    "\n",
    "#fig, axes = plt.subplots(1, 1, figsize=(10, 8))\n",
    "#\n",
    "#axes.hist(data, N, density=True, align='mid',color=palette.inferno(6)[2],\n",
    "#                                alpha=0.6, edgecolor=palette.inferno(6)[0],linewidth=1.2,\n",
    "#                                weights=weights)\n",
    "##plt.hist(data, N, density=False, align='mid',color=palette.inferno(6)[1],\n",
    "##                                alpha=0.2, edgecolor=palette.inferno(6)[0],linewidth=1.2)\n",
    "#\n",
    "#\n",
    "#plt.xlabel('$R_{eff}$ (nm)',fontsize=18)\n",
    "#plt.ylabel('density',fontsize=18)\n",
    "#\n",
    "#plt.tick_params(axis=\"x\", labelsize=16)\n",
    "#plt.tick_params(axis=\"y\", labelsize=16)"
   ]
  },
  {
   "cell_type": "code",
   "execution_count": null,
   "metadata": {
    "ExecuteTime": {
     "end_time": "2020-07-09T13:44:01.577048Z",
     "start_time": "2020-07-09T13:44:00.426551Z"
    },
    "scrolled": false
   },
   "outputs": [],
   "source": [
    "data = df['R_eff']\n",
    "weights = [1] * df['err_R_eff'].shape[0] #/np.sqrt(df['err_R_eff']) #**2\n",
    "n =  data.shape[0]\n",
    "N = 30 #int( 1 + np.log2(n) )  \n",
    "\n",
    "#edge = np.logspace(np.log10(data.min()), np.log10(data.max()), 30)\n",
    "\n",
    "count, bins = np.histogram(data,bins=N,density=True,weights=weights)\n",
    "bins_centers = (bins[1:]+bins[:-1])/2 # find bincenters\n",
    "binwidth = (bins[1:]-bins[:-1])  \n",
    "\n",
    "x = bins_centers\n",
    "y = count \n",
    "mean = mean_R\n",
    "\n",
    "\n",
    "# MODEL\n",
    "model = LognormalModel(prefix='lognormal_')\n",
    "params = model.make_params(center=mean, sigma=2)\n",
    "out = model.fit(y, params, x=x)\n",
    "print(out.fit_report(min_correl=0.5))\n",
    "\n",
    "amplitude = out.params['lognormal_amplitude'].value\n",
    "center = out.params['lognormal_center'].value\n",
    "sigma = out.params['lognormal_sigma'].value\n",
    "height = out.params['lognormal_height'].value\n",
    "\n",
    "mean_dist = np.exp(center + sigma**2/2)\n",
    "print('Mean:', mean_dist)\n",
    "\n",
    "fig, axes = plt.subplots(1, 1, figsize=(10, 8))\n",
    "string1 = 'Experimental data:\\n'+str(n)+' counts'\n",
    "\n",
    "axes.hist(data, N, density=True, align='mid',color=palette.inferno(6)[2],\n",
    "                                alpha=0.6, edgecolor=palette.inferno(6)[0],linewidth=0.8,weights=weights, label=string1)\n",
    "string= 'Log-normal distribution:  \\n A='+str(round(amplitude,3))+', $\\\\mu$='+str(round(center,3))+', $\\\\sigma$='+str(round(sigma,3))\n",
    "\n",
    "#c = (trapz(out.best_fit, x))**(-1)\n",
    "#area = trapz(out.best_fit*c, x)\n",
    "#print('Area:', area)\n",
    "\n",
    "result_fit = out.best_fit #* c\n",
    "\n",
    "def log_normal(x,A,mu,sigma):\n",
    "    return A/(sigma*np.sqrt(2*np.pi)) * np.exp(-(np.log(x)-mu)**2 / (2 * sigma**2)) / x\n",
    "\n",
    "x1 = np.linspace(2,25,50)\n",
    "axes.plot(x1, log_normal(x1,amplitude,center,sigma), 'r-', color=palette.inferno(6)[4],label=string,linewidth=3)\n",
    "#axes.plot(x, result_fit, 'r-', color=palette.inferno(6)[4],label=string,linewidth=3)\n",
    "axes.set_title(r'Log-normal Fit',fontsize=18)\n",
    "axes.set_xlabel(r'$R_{eff}$ (nm)',fontsize=18)\n",
    "axes.set_ylabel(r'density',fontsize=18)\n",
    "axes.grid(color='0.93')\n",
    "axes.legend(fontsize=16,title_fontsize=18,loc='best')\n",
    "axes.tick_params(axis=\"x\", labelsize=16)\n",
    "axes.tick_params(axis=\"y\", labelsize=16)\n",
    "axes.set_axisbelow(True)\n",
    "\n",
    "if not os.path.isdir('./data3/images'):\n",
    "        os.mkdir('./data3/images')\n",
    "        \n",
    "plt.rc('text', usetex=True)\n",
    "plt.rc('font', family='serif')\n",
    "\n",
    "plt.tight_layout()\n",
    "plt.savefig('data3/images/histogram_fit.pdf', format='pdf')\n"
   ]
  },
  {
   "cell_type": "code",
   "execution_count": null,
   "metadata": {
    "ExecuteTime": {
     "end_time": "2020-07-09T09:32:09.267168Z",
     "start_time": "2020-07-09T09:32:09.256330Z"
    }
   },
   "outputs": [],
   "source": [
    "c = (trapz(log_normal(x1,amplitude,center,sigma), x1))**(-1)\n",
    "area = trapz(log_normal(x1,amplitude,center,sigma)*c, x1)\n",
    "print('Area:', area)"
   ]
  },
  {
   "cell_type": "markdown",
   "metadata": {},
   "source": [
    "## Fit separated"
   ]
  },
  {
   "cell_type": "markdown",
   "metadata": {
    "heading_collapsed": true
   },
   "source": [
    "### Fit 01 data"
   ]
  },
  {
   "cell_type": "code",
   "execution_count": null,
   "metadata": {
    "ExecuteTime": {
     "end_time": "2020-07-09T07:58:29.599920Z",
     "start_time": "2020-07-09T07:58:26.457Z"
    },
    "hidden": true
   },
   "outputs": [],
   "source": [
    "data = data01['R_eff']\n",
    "n =  data.shape[0]\n",
    "N = int( 1 + np.log2(n) )  \n",
    "\n",
    "#edge = np.logspace(np.log10(data.min()), np.log10(data.max()), 30)\n",
    "\n",
    "count, bins = np.histogram(data,bins=N,density=False)\n",
    "bins_centers = (bins[1:]+bins[:-1])/2 # find bincenters\n",
    "binwidth = (bins[1:]-bins[:-1])  \n",
    "plt.step(bins_centers,count,where='mid',color='b')\n",
    "plt.plot(bins_centers,count,'.',color='r')\n",
    "plt.xlabel('$R$ (nm)',fontsize=18)\n",
    "plt.ylabel('density',fontsize=18)\n",
    "\n",
    "plt.tick_params(axis=\"x\", labelsize=16)\n",
    "plt.tick_params(axis=\"y\", labelsize=16)\n",
    "\n",
    "\n",
    "x = bins_centers\n",
    "y = count \n",
    "n_image = '01'\n",
    "mean = mean01\n",
    "\n",
    "\n",
    "# MODEL\n",
    "model = LognormalModel(prefix='lognormal_')\n",
    "params = model.make_params(center=mean, sigma=2)\n",
    "out = model.fit(y, params, x=x)\n",
    "print(out.fit_report(min_correl=0.5))\n",
    "\n",
    "amplitude = out.params['lognormal_amplitude'].value\n",
    "center = out.params['lognormal_center'].value\n",
    "sigma = out.params['lognormal_sigma'].value\n",
    "height = out.params['lognormal_height'].value\n",
    "\n",
    "mean_dist = np.exp(center + sigma**2/2)\n",
    "\n",
    "fig, axes = plt.subplots(1, 1, figsize=(10, 8))\n",
    "axes.plot(x, y, 'b',color='#440154',label='Experimental data')\n",
    "string= 'Fit:  mean='+str(round(mean_dist,3))+', $\\\\sigma$ ='+str(round(sigma,3))\n",
    "\n",
    "axes.plot(x, out.best_fit, 'r-', color='#22A784',label=string)\n",
    "axes.set_title(r'Lognormal fit for '+n_image+' image',fontsize=18)\n",
    "axes.set_xlabel(r'$R$ (nm)',fontsize=18)\n",
    "axes.set_ylabel(r'Counts',fontsize=18)\n",
    "axes.grid(color='0.93')\n",
    "axes.legend(fontsize=18,title_fontsize=18,loc='best')\n",
    "axes.tick_params(axis=\"x\", labelsize=16)\n",
    "axes.tick_params(axis=\"y\", labelsize=16)\n",
    "\n",
    "if not os.path.isdir('./data3/images'):\n",
    "        os.mkdir('./data3/images')\n",
    "        \n",
    "plt.rc('text', usetex=True)\n",
    "plt.rc('font', family='serif')\n",
    "\n",
    "plt.tight_layout()\n",
    "plt.savefig('data3/images/peak.pdf', format='pdf')\n"
   ]
  },
  {
   "cell_type": "markdown",
   "metadata": {
    "heading_collapsed": true
   },
   "source": [
    "### Fit 04 data"
   ]
  },
  {
   "cell_type": "code",
   "execution_count": null,
   "metadata": {
    "ExecuteTime": {
     "end_time": "2020-07-09T07:58:29.602460Z",
     "start_time": "2020-07-09T07:58:26.463Z"
    },
    "hidden": true
   },
   "outputs": [],
   "source": [
    "data = data04['R_eff']\n",
    "n =  data.shape[0]\n",
    "N = int( 1 + np.log2(n) )  \n",
    "\n",
    "#edge = np.logspace(np.log10(data.min()), np.log10(data.max()), 30)\n",
    "\n",
    "count, bins = np.histogram(data,bins=N,density=False)\n",
    "bins_centers = (bins[1:]+bins[:-1])/2 # find bincenters\n",
    "binwidth = (bins[1:]-bins[:-1])  \n",
    "plt.step(bins_centers,count,where='mid',color='b')\n",
    "plt.plot(bins_centers,count,'.',color='r')\n",
    "plt.xlabel('$R$ (nm)',fontsize=18)\n",
    "plt.ylabel('density',fontsize=18)\n",
    "\n",
    "plt.tick_params(axis=\"x\", labelsize=16)\n",
    "plt.tick_params(axis=\"y\", labelsize=16)\n",
    "\n",
    "\n",
    "x = bins_centers\n",
    "y = count \n",
    "n_image = '04'\n",
    "mean = mean04\n",
    "\n",
    "\n",
    "# MODEL\n",
    "model = LognormalModel(prefix='lognormal_')\n",
    "params = model.make_params(center=mean, sigma=2)\n",
    "out = model.fit(y, params, x=x)\n",
    "print(out.fit_report(min_correl=0.5))\n",
    "\n",
    "amplitude = out.params['lognormal_amplitude'].value\n",
    "center = out.params['lognormal_center'].value\n",
    "sigma = out.params['lognormal_sigma'].value\n",
    "height = out.params['lognormal_height'].value\n",
    "\n",
    "mean_dist = np.exp(center + sigma**2/2)\n",
    "\n",
    "fig, axes = plt.subplots(1, 1, figsize=(10, 8))\n",
    "axes.plot(x, y, 'b',color='#440154',label='Experimental data')\n",
    "string= 'Fit:  mean='+str(round(mean_dist,3))+', $\\\\sigma$ ='+str(round(sigma,3))\n",
    "\n",
    "axes.plot(x, out.best_fit, 'r-', color='#22A784',label=string)\n",
    "axes.set_title(r'Lognormal fit for '+n_image+' image',fontsize=18)\n",
    "axes.set_xlabel(r'$R$ (nm)',fontsize=18)\n",
    "axes.set_ylabel(r'Counts',fontsize=18)\n",
    "axes.grid(color='0.93')\n",
    "axes.legend(fontsize=18,title_fontsize=18,loc='best')\n",
    "axes.tick_params(axis=\"x\", labelsize=16)\n",
    "axes.tick_params(axis=\"y\", labelsize=16)\n",
    "\n",
    "if not os.path.isdir('./data3/images'):\n",
    "        os.mkdir('./data3/images')\n",
    "        \n",
    "plt.rc('text', usetex=True)\n",
    "plt.rc('font', family='serif')\n",
    "\n",
    "plt.tight_layout()\n",
    "plt.savefig('data3/images/peak.pdf', format='pdf')\n",
    "\n"
   ]
  },
  {
   "cell_type": "markdown",
   "metadata": {
    "heading_collapsed": true
   },
   "source": [
    "### Fit 05 data"
   ]
  },
  {
   "cell_type": "code",
   "execution_count": null,
   "metadata": {
    "ExecuteTime": {
     "end_time": "2020-07-09T07:58:29.604746Z",
     "start_time": "2020-07-09T07:58:26.467Z"
    },
    "hidden": true
   },
   "outputs": [],
   "source": [
    "data = data05['R_eff']\n",
    "n =  data.shape[0]\n",
    "N = int( 1 + np.log2(n) )  \n",
    "\n",
    "#edge = np.logspace(np.log10(data.min()), np.log10(data.max()), 30)\n",
    "\n",
    "count, bins = np.histogram(data,bins=N,density=False)\n",
    "bins_centers = (bins[1:]+bins[:-1])/2 # find bincenters\n",
    "binwidth = (bins[1:]-bins[:-1])  \n",
    "plt.step(bins_centers,count,where='mid',color='b')\n",
    "plt.plot(bins_centers,count,'.',color='r')\n",
    "plt.xlabel('$R$ (nm)',fontsize=18)\n",
    "plt.ylabel('density',fontsize=18)\n",
    "\n",
    "plt.tick_params(axis=\"x\", labelsize=16)\n",
    "plt.tick_params(axis=\"y\", labelsize=16)\n",
    "\n",
    "\n",
    "x = bins_centers\n",
    "y = count \n",
    "n_image = '05'\n",
    "mean = mean05\n",
    "\n",
    "\n",
    "# MODEL\n",
    "model = LognormalModel(prefix='lognormal_')\n",
    "params = model.make_params(center=mean, sigma=2)\n",
    "out = model.fit(y, params, x=x)\n",
    "print(out.fit_report(min_correl=0.5))\n",
    "\n",
    "amplitude = out.params['lognormal_amplitude'].value\n",
    "center = out.params['lognormal_center'].value\n",
    "sigma = out.params['lognormal_sigma'].value\n",
    "height = out.params['lognormal_height'].value\n",
    "\n",
    "mean_dist = np.exp(center + sigma**2/2)\n",
    "\n",
    "fig, axes = plt.subplots(1, 1, figsize=(10, 8))\n",
    "axes.plot(x, y, 'b',color='#440154',label='Experimental data')\n",
    "string= 'Fit:  mean='+str(round(mean_dist,3))+', $\\\\sigma$ ='+str(round(sigma,3))\n",
    "\n",
    "axes.plot(x, out.best_fit, 'r-', color='#22A784',label=string)\n",
    "axes.set_title(r'Lognormal fit for '+n_image+' image',fontsize=18)\n",
    "axes.set_xlabel(r'$R$ (nm)',fontsize=18)\n",
    "axes.set_ylabel(r'Counts',fontsize=18)\n",
    "axes.grid(color='0.93')\n",
    "axes.legend(fontsize=18,title_fontsize=18,loc='best')\n",
    "axes.tick_params(axis=\"x\", labelsize=16)\n",
    "axes.tick_params(axis=\"y\", labelsize=16)\n",
    "\n",
    "if not os.path.isdir('./data3/images'):\n",
    "        os.mkdir('./data3/images')\n",
    "        \n",
    "plt.rc('text', usetex=True)\n",
    "plt.rc('font', family='serif')\n",
    "\n",
    "plt.tight_layout()\n",
    "plt.savefig('data3/images/peak.pdf', format='pdf')\n",
    "\n"
   ]
  },
  {
   "cell_type": "markdown",
   "metadata": {
    "ExecuteTime": {
     "end_time": "2020-06-11T16:59:07.139387Z",
     "start_time": "2020-06-11T16:59:07.134541Z"
    },
    "heading_collapsed": true
   },
   "source": [
    "### Fit 07 data"
   ]
  },
  {
   "cell_type": "code",
   "execution_count": null,
   "metadata": {
    "ExecuteTime": {
     "end_time": "2020-07-09T07:58:29.607019Z",
     "start_time": "2020-07-09T07:58:26.472Z"
    },
    "hidden": true
   },
   "outputs": [],
   "source": [
    "data = data07['R_eff']\n",
    "n =  data.shape[0]\n",
    "N = int( 1 + np.log2(n) )  \n",
    "\n",
    "#edge = np.logspace(np.log10(data.min()), np.log10(data.max()), 30)\n",
    "\n",
    "count, bins = np.histogram(data,bins=N,density=False)\n",
    "bins_centers = (bins[1:]+bins[:-1])/2 # find bincenters\n",
    "binwidth = (bins[1:]-bins[:-1])  \n",
    "plt.step(bins_centers,count,where='mid',color='b')\n",
    "plt.plot(bins_centers,count,'.',color='r')\n",
    "plt.xlabel('$R$ (nm)',fontsize=18)\n",
    "plt.ylabel('density',fontsize=18)\n",
    "\n",
    "plt.tick_params(axis=\"x\", labelsize=16)\n",
    "plt.tick_params(axis=\"y\", labelsize=16)\n",
    "\n",
    "\n",
    "x = bins_centers\n",
    "y = count \n",
    "n_image = '07'\n",
    "mean = mean07\n",
    "\n",
    "\n",
    "# MODEL\n",
    "model = LognormalModel(prefix='lognormal_')\n",
    "params = model.make_params(center=mean, sigma=2)\n",
    "out = model.fit(y, params, x=x)\n",
    "print(out.fit_report(min_correl=0.5))\n",
    "\n",
    "amplitude = out.params['lognormal_amplitude'].value\n",
    "center = out.params['lognormal_center'].value\n",
    "sigma = out.params['lognormal_sigma'].value\n",
    "height = out.params['lognormal_height'].value\n",
    "\n",
    "mean_dist = np.exp(center + sigma**2/2)\n",
    "\n",
    "fig, axes = plt.subplots(1, 1, figsize=(10, 8))\n",
    "axes.plot(x, y, 'b',color='#440154',label='Experimental data')\n",
    "string= 'Fit:  mean='+str(round(mean_dist,3))+', $\\\\sigma$ ='+str(round(sigma,3))\n",
    "\n",
    "axes.plot(x, out.best_fit, 'r-', color='#22A784',label=string)\n",
    "axes.set_title(r'Lognormal fit for '+n_image+' image',fontsize=18)\n",
    "axes.set_xlabel(r'$R$ (nm)',fontsize=18)\n",
    "axes.set_ylabel(r'Counts',fontsize=18)\n",
    "axes.grid(color='0.93')\n",
    "axes.legend(fontsize=18,title_fontsize=18,loc='best')\n",
    "axes.tick_params(axis=\"x\", labelsize=16)\n",
    "axes.tick_params(axis=\"y\", labelsize=16)\n",
    "\n",
    "if not os.path.isdir('./data3/images'):\n",
    "        os.mkdir('./data3/images')\n",
    "        \n",
    "plt.rc('text', usetex=True)\n",
    "plt.rc('font', family='serif')\n",
    "\n",
    "plt.tight_layout()\n",
    "plt.savefig('data3/images/peak.pdf', format='pdf')\n",
    "\n"
   ]
  },
  {
   "cell_type": "code",
   "execution_count": null,
   "metadata": {
    "hidden": true
   },
   "outputs": [],
   "source": []
  }
 ],
 "metadata": {
  "kernelspec": {
   "display_name": "Python 3",
   "language": "python",
   "name": "python3"
  },
  "language_info": {
   "codemirror_mode": {
    "name": "ipython",
    "version": 3
   },
   "file_extension": ".py",
   "mimetype": "text/x-python",
   "name": "python",
   "nbconvert_exporter": "python",
   "pygments_lexer": "ipython3",
   "version": "3.7.6"
  },
  "varInspector": {
   "cols": {
    "lenName": 16,
    "lenType": 16,
    "lenVar": 40
   },
   "kernels_config": {
    "python": {
     "delete_cmd_postfix": "",
     "delete_cmd_prefix": "del ",
     "library": "var_list.py",
     "varRefreshCmd": "print(var_dic_list())"
    },
    "r": {
     "delete_cmd_postfix": ") ",
     "delete_cmd_prefix": "rm(",
     "library": "var_list.r",
     "varRefreshCmd": "cat(var_dic_list()) "
    }
   },
   "types_to_exclude": [
    "module",
    "function",
    "builtin_function_or_method",
    "instance",
    "_Feature"
   ],
   "window_display": false
  }
 },
 "nbformat": 4,
 "nbformat_minor": 4
}
