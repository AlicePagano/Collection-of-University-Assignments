{
 "cells": [
  {
   "cell_type": "markdown",
   "metadata": {},
   "source": [
    "# OSEMN Exercises"
   ]
  },
  {
   "cell_type": "code",
   "execution_count": 1,
   "metadata": {},
   "outputs": [],
   "source": [
    "%matplotlib inline\n",
    "import pandas as pd\n",
    "import numpy as np"
   ]
  },
  {
   "cell_type": "markdown",
   "metadata": {},
   "source": [
    "1\\. Create a random list of number and then save it to a text file named \"simple_data.txt\""
   ]
  },
  {
   "cell_type": "code",
   "execution_count": 2,
   "metadata": {},
   "outputs": [
    {
     "name": "stdout",
     "output_type": "stream",
     "text": [
      "0.6964691855978616 0.28613933495037946 0.2268514535642031 0.5513147690828912 0.7194689697855631 0.42310646012446096 0.9807641983846155 0.6848297385848633 0.48093190148436094 0.3921175181941505 0.3431780161508694 0.7290497073840416 0.4385722446796244 0.05967789660956835 0.3980442553304314 0.7379954057320357 0.18249173045349998 0.17545175614749253 0.5315513738418384 0.5318275870968661 0.6344009585513211 0.8494317940777896 0.7244553248606352 0.6110235106775829 0.7224433825702216 0.3229589138531782 0.3617886556223141 0.22826323087895561 0.29371404638882936 0.6309761238544878 0.09210493994507518 0.43370117267952824 0.4308627633296438 0.4936850976503062 0.425830290295828 0.3122612229724653 0.4263513069628082 0.8933891631171348 0.9441600182038796 0.5018366758843366 0.6239529517921112 0.11561839507929572 0.3172854818203209 0.4148262119536318 0.8663091578833659 0.2504553653965067 0.48303426426270435 0.985559785610705 0.5194851192598093 0.6128945257629677 0.12062866599032374 0.8263408005068332 0.6030601284109274 0.5450680064664649 0.3427638337743084 0.3041207890271841 0.4170222110247016 0.6813007657927966 0.8754568417951749 0.5104223374780111 0.6693137829622723 0.5859365525622129 0.6249035020955999 0.6746890509878248 0.8423424376202573 0.08319498833243877 0.7636828414433382 0.243666374536874 0.19422296057877086 0.5724569574914731 0.09571251661238711 0.8853268262751396 0.6272489720512687 0.7234163581899548 0.01612920669501683 0.5944318794450425 0.5567851923942887 0.15895964414472274 0.1530705151247731 0.6955295287709109 0.31876642638187636 0.6919702955318197 0.5543832497177721 0.3889505741231446 0.9251324896139861 0.8416699969127163 0.35739756668317624 0.04359146379904055 0.30476807341109746 0.398185681917981 0.7049588304513622 0.9953584820340174 0.35591486571745956 0.7625478137854338 0.5931769165622212 0.6917017987001771 0.15112745234808023 0.39887629272615654 0.24085589772362448 0.34345601404832493 \n"
     ]
    }
   ],
   "source": [
    "import numpy.random as npr\n",
    "npr.seed(123) # fix seed for reproducible result\n",
    "\n",
    "r = npr.rand(100,)\n",
    "#print(r)\n",
    "\n",
    "\n",
    "f = open(\"simple_data.txt\", \"w\")\n",
    "\n",
    "for i in r:\n",
    "    if i == (len(r)-1):\n",
    "        f.write(str(i))\n",
    "    else:\n",
    "        f.write(str(i)+' ')\n",
    "    \n",
    "f.close()\n",
    "\n",
    "f = open(\"simple_data.txt\", \"r\")\n",
    "print(f.read())"
   ]
  },
  {
   "cell_type": "markdown",
   "metadata": {},
   "source": [
    "2\\. Create a random matrix of 5x5 and then save it to a text file named \"data.txt\""
   ]
  },
  {
   "cell_type": "code",
   "execution_count": 3,
   "metadata": {},
   "outputs": [
    {
     "name": "stdout",
     "output_type": "stream",
     "text": [
      "0.5131281541990022 0.6666245501640716 0.10590848505681383 0.13089495066408074 0.32198060646830806\n",
      "0.6615643366662437 0.8465062252707221 0.5532573447967134 0.8544524875245048 0.3848378112757611\n",
      "0.31678789711837974 0.3542646755916785 0.17108182920509907 0.8291126345018904 0.3386708459143266\n",
      "0.5523700752940731 0.578551468108833 0.5215330593973323 0.002688064574320692 0.98834541928282\n",
      "0.9053415756616099 0.2076358611963245 0.2924894127924248 0.5200101530724834 0.9019113726606706\n",
      "\n"
     ]
    }
   ],
   "source": [
    "r_m = npr.rand(5,5)\n",
    "#print(r)\n",
    "\n",
    "\n",
    "f = open(\"data.txt\", \"w\")\n",
    "\n",
    "for i in r_m:\n",
    "    for m in range(r_m.shape[1]): \n",
    "        if m == (r_m.shape[1]-1):\n",
    "            f.write(str(i[m]))\n",
    "        else:\n",
    "            f.write(str(i[m])+' ')\n",
    "            \n",
    "        \n",
    "    f.write('\\n')\n",
    "    \n",
    "#f.write(str(r_m))           \n",
    "f.close()\n",
    "\n",
    "f = open(\"data.txt\", \"r\")\n",
    "print(f.read())\n",
    "\n",
    "f.close()"
   ]
  },
  {
   "cell_type": "markdown",
   "metadata": {},
   "source": [
    "3\\. Load the saved txt file of point 2 and convert it to a csv file (by hand)"
   ]
  },
  {
   "cell_type": "code",
   "execution_count": 4,
   "metadata": {},
   "outputs": [
    {
     "name": "stdout",
     "output_type": "stream",
     "text": [
      "['0.5131281541990022', '0.6666245501640716', '0.10590848505681383', '0.13089495066408074', '0.32198060646830806']\n",
      "['0.6615643366662437', '0.8465062252707221', '0.5532573447967134', '0.8544524875245048', '0.3848378112757611']\n",
      "['0.31678789711837974', '0.3542646755916785', '0.17108182920509907', '0.8291126345018904', '0.3386708459143266']\n",
      "['0.5523700752940731', '0.578551468108833', '0.5215330593973323', '0.002688064574320692', '0.98834541928282']\n",
      "['0.9053415756616099', '0.2076358611963245', '0.2924894127924248', '0.5200101530724834', '0.9019113726606706']\n"
     ]
    }
   ],
   "source": [
    "f = open(\"data.txt\")\n",
    "\n",
    "import csv\n",
    "\n",
    "with f as data_file:\n",
    "    for line in csv.reader(data_file, delimiter=' '): \n",
    "        print (line)  \n",
    "f.close()"
   ]
  },
  {
   "cell_type": "code",
   "execution_count": 5,
   "metadata": {},
   "outputs": [
    {
     "name": "stdout",
     "output_type": "stream",
     "text": [
      "['0.5131281541990022', '0.6666245501640716', '0.10590848505681383', '0.13089495066408074', '0.32198060646830806']\n",
      "['0.6615643366662437', '0.8465062252707221', '0.5532573447967134', '0.8544524875245048', '0.3848378112757611']\n",
      "['0.31678789711837974', '0.3542646755916785', '0.17108182920509907', '0.8291126345018904', '0.3386708459143266']\n",
      "['0.5523700752940731', '0.578551468108833', '0.5215330593973323', '0.002688064574320692', '0.98834541928282']\n",
      "['0.9053415756616099', '0.2076358611963245', '0.2924894127924248', '0.5200101530724834', '0.9019113726606706']\n"
     ]
    }
   ],
   "source": [
    "with open(\"data.csv\",\"w\") as csvfile:\n",
    "    filewriter = csv.writer(csvfile, delimiter=',')\n",
    "    data = np.loadtxt(\"data.txt\")\n",
    "    for line in data:\n",
    "        filewriter.writerow(line)\n",
    "\n",
    "with open(\"data.csv\",\"r\") as data_file:\n",
    "    for line in csv.reader(data_file, delimiter=','): \n",
    "        print (line)"
   ]
  },
  {
   "cell_type": "markdown",
   "metadata": {},
   "source": [
    "4\\. load the binary file named *credit_card.dat* and convert the data into the real credit-card number"
   ]
  },
  {
   "cell_type": "code",
   "execution_count": 6,
   "metadata": {},
   "outputs": [
    {
     "name": "stdout",
     "output_type": "stream",
     "text": [
      "['7648', '5673', '3775', '2271']\n",
      "['3257', '8247', '3354', '2266']\n",
      "['2722', '0001', '4011', '6652']\n",
      "['0661', '3063', '3742', '3150']\n",
      "['0432', '1608', '1462', '4742']\n",
      "['5827', '2027', '8785', '7303']\n",
      "['5774', '8528', '2087', '1117']\n",
      "['8140', '1210', '6352', '2845']\n",
      "['5764', '1133', '7301', '7100']\n",
      "['6456', '1737', '4126', '6726']\n",
      "['1228', '8631', '7382', '0000']\n",
      "['7051', '0160', '5374', '3166']\n",
      "['0618', '3587', '1630', '6376']\n",
      "['1545', '5454', '7444', '5636']\n",
      "['6735', '3116', '3202', '6834']\n",
      "['7287', '5011', '1547', '8413']\n",
      "['7033', '2607', '3328', '4200']\n",
      "['2568', '5244', '1874', '5024']\n",
      "['1684', '2253', '7570', '7118']\n",
      "['0672', '2576', '0575', '6631']\n",
      "['6332', '8353', '8787', '1340']\n",
      "['1813', '3361', '1175', '4211']\n",
      "['2477', '6450', '8840', '2368']\n",
      "['5512', '3505', '2563', '1326']\n",
      "['3083', '7882', '0621', '0025']\n",
      "['4521', '5148', '8045', '0334']\n",
      "['7563', '3654', '8713', '5787']\n",
      "['8324', '2664', '0476', '5561']\n",
      "['0565', '2504', '7168', '3510']\n",
      "['5107', '5507', '1767', '0738']\n",
      "['2462', '1821', '2448', '1443']\n",
      "['2788', '0638', '6861', '6554']\n",
      "['5851', '5873', '5474', '0547']\n",
      "['0670', '1004', '4013', '2655']\n",
      "['5874', '5506', '3048', '0806']\n",
      "['2805', '5401', '8462', '1260']\n",
      "['5083', '8406', '6310', '1862']\n",
      "['1076', '1445', '3013', '2266']\n",
      "['8440', '4804', '4844', '5277']\n",
      "['4758', '6141', '0686', '1387']\n",
      "['7586', '0675', '0315', '2568']\n",
      "['2544', '1258', '7432', '5165']\n",
      "['3474', '5023', '4434', '5626']\n",
      "['1410', '0270', '0434', '5086']\n",
      "['7315', '4446', '1104', '4215']\n",
      "['0224', '7742', '8300', '0266']\n",
      "['0170', '2700', '3145', '0640']\n",
      "['2006', '2437', '8054', '1600']\n",
      "['8142', '4055', '1776', '0026']\n",
      "['3026', '7380', '1241', '1084']\n",
      "[]\n"
     ]
    }
   ],
   "source": [
    "import struct, time\n",
    "\n",
    "credit_file = open('/Users/alicepagano/Documents/Università/Magistrale-1°anno/Laboratory of Computational Physics/Course/Laboratory/LaboratoryOfComputationalPhysics/credit_card.dat','r')\n",
    "\n",
    "with credit_file as file:        \n",
    "    file_content = file.readlines()\n",
    "    for line in file_content:\n",
    "        m = []\n",
    "        for i in range(0,len(line),6):\n",
    "            m.append(chr(int(line[i:i+6],2)))\n",
    "            m = list(filter(lambda x : x != ' ', m))\n",
    "            m = list(filter(lambda x : x != '\\n', m))\n",
    "        m = [ m[j] + m[j+1] + m[j+2] + m[j+3] for j in range(0, len(m)-3, 4)]\n",
    "        print(m)"
   ]
  },
  {
   "cell_type": "markdown",
   "metadata": {},
   "source": [
    "5\\. Load the file \"user_data.json\", filter the data by the \"CreditCardType\" field equals to \"American Express\". Than save the data a to CSV."
   ]
  },
  {
   "cell_type": "code",
   "execution_count": 7,
   "metadata": {},
   "outputs": [
    {
     "name": "stdout",
     "output_type": "stream",
     "text": [
      "20\n",
      "[('ID', '2'), ('JobTitle', 'Investment  Advisor'), ('EmailAddress', 'Clint_Thorpe5003@bulaffy.com'), ('FirstNameLastName', 'Clint Thorpe'), ('CreditCard', '7083-8766-0251-2345'), ('CreditCardType', 'American Express')] \n",
      "\n",
      "[('ID', '12'), ('JobTitle', 'Retail Trainee'), ('EmailAddress', 'Phillip_Carpenter9505@famism.biz'), ('FirstNameLastName', 'Phillip Carpenter'), ('CreditCard', '3657-0088-0820-5247'), ('CreditCardType', 'American Express')] \n",
      "\n",
      "[('ID', '28'), ('JobTitle', 'Project Manager'), ('EmailAddress', 'Russel_Graves1378@extex.org'), ('FirstNameLastName', 'Russel Graves'), ('CreditCard', '6718-4818-8011-6024'), ('CreditCardType', 'American Express')] \n",
      "\n",
      "[('ID', '39'), ('JobTitle', 'Stockbroker'), ('EmailAddress', 'Leanne_Newton1268@typill.biz'), ('FirstNameLastName', 'Leanne Newton'), ('CreditCard', '5438-0816-4166-4847'), ('CreditCardType', 'American Express')] \n",
      "\n",
      "[('ID', '57'), ('JobTitle', 'Budget Analyst'), ('EmailAddress', 'Tony_Giles1960@iatim.tech'), ('FirstNameLastName', 'Tony Giles'), ('CreditCard', '8130-3425-7573-7745'), ('CreditCardType', 'American Express')] \n",
      "\n",
      "[('ID', '62'), ('JobTitle', 'CNC Operator'), ('EmailAddress', 'Owen_Allcott5125@bauros.biz'), ('FirstNameLastName', 'Owen Allcott'), ('CreditCard', '4156-0107-7210-2630'), ('CreditCardType', 'American Express')] \n",
      "\n",
      "[('ID', '68'), ('JobTitle', 'Project Manager'), ('EmailAddress', 'Liam_Lynn3280@kideod.biz'), ('FirstNameLastName', 'Liam Lynn'), ('CreditCard', '7152-3247-6053-2233'), ('CreditCardType', 'American Express')] \n",
      "\n",
      "[('ID', '74'), ('JobTitle', 'Dentist'), ('EmailAddress', 'Regina_Woodcock5820@yahoo.com'), ('FirstNameLastName', 'Regina Woodcock'), ('CreditCard', '0208-1753-3870-8002'), ('CreditCardType', 'American Express')] \n",
      "\n",
      "[('ID', '81'), ('JobTitle', 'HR Specialist'), ('EmailAddress', 'Carter_Wallace9614@atink.com'), ('FirstNameLastName', 'Carter Wallace'), ('CreditCard', '4256-7201-6717-4322'), ('CreditCardType', 'American Express')] \n",
      "\n",
      "[('ID', '92'), ('JobTitle', 'Staffing Consultant'), ('EmailAddress', 'Maia_Stark2797@jiman.org'), ('FirstNameLastName', 'Maia Stark'), ('CreditCard', '3851-1403-1734-6321'), ('CreditCardType', 'American Express')] \n",
      "\n",
      "[('ID', '97'), ('JobTitle', 'Stockbroker'), ('EmailAddress', 'Ciara_Lomax982@bauros.biz'), ('FirstNameLastName', 'Ciara Lomax'), ('CreditCard', '3702-3440-2472-5424'), ('CreditCardType', 'American Express')] \n",
      "\n",
      "[('ID', '116'), ('JobTitle', 'Staffing Consultant'), ('EmailAddress', 'Isabel_Ellwood1475@fuliss.net'), ('FirstNameLastName', 'Isabel Ellwood'), ('CreditCard', '3738-0882-0066-6683'), ('CreditCardType', 'American Express')] \n",
      "\n",
      "[('ID', '148'), ('JobTitle', 'CNC Operator'), ('EmailAddress', 'Abdul_Townend2202@infotech44.tech'), ('FirstNameLastName', 'Abdul Townend'), ('CreditCard', '4224-1226-3557-3448'), ('CreditCardType', 'American Express')] \n",
      "\n",
      "[('ID', '150'), ('JobTitle', 'Fabricator'), ('EmailAddress', 'Caleb_Poulton1735@atink.com'), ('FirstNameLastName', 'Caleb Poulton'), ('CreditCard', '8203-6875-5225-0341'), ('CreditCardType', 'American Express')] \n",
      "\n",
      "[('ID', '151'), ('JobTitle', 'Restaurant Manager'), ('EmailAddress', 'Ronald_Lewis6777@deavo.com'), ('FirstNameLastName', 'Ronald Lewis'), ('CreditCard', '7212-0155-5014-8471'), ('CreditCardType', 'American Express')] \n",
      "\n",
      "[('ID', '154'), ('JobTitle', 'Bellman'), ('EmailAddress', 'Faith_Seymour3829@twace.org'), ('FirstNameLastName', 'Faith Seymour'), ('CreditCard', '4170-5186-6887-6558'), ('CreditCardType', 'American Express')] \n",
      "\n",
      "[('ID', '169'), ('JobTitle', 'Assistant Buyer'), ('EmailAddress', 'Anthony_Hancock9083@qater.org'), ('FirstNameLastName', 'Anthony Hancock'), ('CreditCard', '0832-3357-6010-6550'), ('CreditCardType', 'American Express')] \n",
      "\n",
      "[('ID', '176'), ('JobTitle', 'Healthcare Specialist'), ('EmailAddress', 'Isabella_Willson5478@nanoff.biz'), ('FirstNameLastName', 'Isabella Willson'), ('CreditCard', '5177-4868-4623-0384'), ('CreditCardType', 'American Express')] \n",
      "\n",
      "[('ID', '182'), ('JobTitle', 'Pharmacist'), ('EmailAddress', 'Stephanie_Darcy3298@bauros.biz'), ('FirstNameLastName', 'Stephanie Darcy'), ('CreditCard', '0264-4020-5106-5576'), ('CreditCardType', 'American Express')] \n",
      "\n",
      "[('ID', '199'), ('JobTitle', 'Investment  Advisor'), ('EmailAddress', 'Ryan_Kennedy5565@corti.com'), ('FirstNameLastName', 'Ryan Kennedy'), ('CreditCard', '3166-6287-6242-7207'), ('CreditCardType', 'American Express')] \n",
      "\n"
     ]
    }
   ],
   "source": [
    "import json\n",
    "\n",
    "data = json.load(open('/Users/alicepagano/Documents/Università/Magistrale-1°anno/Laboratory of Computational Physics/Course/Laboratory/LaboratoryOfComputationalPhysics/user_data.json'))\n",
    "\n",
    "#print(data)\n",
    "n= 0\n",
    "with open(\"credit_card.csv\",\"w\") as csvfile:\n",
    "    for d in data:\n",
    "        if d['CreditCardType'] == 'American Express':\n",
    "            #print(d,'\\n')\n",
    "            n += 1\n",
    "            fieldnames = list(d.keys())\n",
    "            filewriter = csv.DictWriter(csvfile, fieldnames=fieldnames)           \n",
    "            #print(d['CreditCard'])\n",
    "            if n==1: filewriter.writeheader()\n",
    "            filewriter.writerow(d)\n",
    "            \n",
    "print(n)\n",
    "\n",
    "with open(\"credit_card.csv\",\"r\") as data_file:\n",
    "    for line in csv.DictReader(data_file): \n",
    "        #print (list(line.values()),'\\n')  \n",
    "        print (list(line.items()),'\\n') \n",
    "        #print (list(line.keys()),'\\n') "
   ]
  },
  {
   "cell_type": "markdown",
   "metadata": {},
   "source": [
    "6\\. Load the file from this url: [https://www.dropbox.com/s/7u3lm737ogbqsg8/mushrooms_categorized.csv?dl=1](https://www.dropbox.com/s/7u3lm737ogbqsg8/mushrooms_categorized.csv?dl=1) with Pandas. \n",
    "+ Explore the data (see the info of the data)\n",
    "+ Draw the istogram of the 'class' field. Decribe wath yuou see\n"
   ]
  },
  {
   "cell_type": "code",
   "execution_count": 8,
   "metadata": {},
   "outputs": [
    {
     "name": "stdout",
     "output_type": "stream",
     "text": [
      "Index(['class', 'cap-shape', 'cap-surface', 'cap-color', 'bruises', 'odor',\n",
      "       'gill-attachment', 'gill-spacing', 'gill-size', 'gill-color',\n",
      "       'stalk-shape', 'stalk-root', 'stalk-surface-above-ring',\n",
      "       'stalk-surface-below-ring', 'stalk-color-above-ring',\n",
      "       'stalk-color-below-ring', 'veil-type', 'veil-color', 'ring-number',\n",
      "       'ring-type', 'spore-print-color', 'population', 'habitat'],\n",
      "      dtype='object')\n"
     ]
    },
    {
     "data": {
      "text/html": [
       "<div>\n",
       "<style scoped>\n",
       "    .dataframe tbody tr th:only-of-type {\n",
       "        vertical-align: middle;\n",
       "    }\n",
       "\n",
       "    .dataframe tbody tr th {\n",
       "        vertical-align: top;\n",
       "    }\n",
       "\n",
       "    .dataframe thead th {\n",
       "        text-align: right;\n",
       "    }\n",
       "</style>\n",
       "<table border=\"1\" class=\"dataframe\">\n",
       "  <thead>\n",
       "    <tr style=\"text-align: right;\">\n",
       "      <th></th>\n",
       "      <th>class</th>\n",
       "      <th>cap-shape</th>\n",
       "      <th>cap-surface</th>\n",
       "      <th>cap-color</th>\n",
       "      <th>bruises</th>\n",
       "      <th>odor</th>\n",
       "      <th>gill-attachment</th>\n",
       "      <th>gill-spacing</th>\n",
       "      <th>gill-size</th>\n",
       "      <th>gill-color</th>\n",
       "      <th>...</th>\n",
       "      <th>stalk-surface-below-ring</th>\n",
       "      <th>stalk-color-above-ring</th>\n",
       "      <th>stalk-color-below-ring</th>\n",
       "      <th>veil-type</th>\n",
       "      <th>veil-color</th>\n",
       "      <th>ring-number</th>\n",
       "      <th>ring-type</th>\n",
       "      <th>spore-print-color</th>\n",
       "      <th>population</th>\n",
       "      <th>habitat</th>\n",
       "    </tr>\n",
       "  </thead>\n",
       "  <tbody>\n",
       "    <tr>\n",
       "      <td>0</td>\n",
       "      <td>1</td>\n",
       "      <td>5</td>\n",
       "      <td>2</td>\n",
       "      <td>4</td>\n",
       "      <td>1</td>\n",
       "      <td>6</td>\n",
       "      <td>1</td>\n",
       "      <td>0</td>\n",
       "      <td>1</td>\n",
       "      <td>4</td>\n",
       "      <td>...</td>\n",
       "      <td>2</td>\n",
       "      <td>7</td>\n",
       "      <td>7</td>\n",
       "      <td>0</td>\n",
       "      <td>2</td>\n",
       "      <td>1</td>\n",
       "      <td>4</td>\n",
       "      <td>2</td>\n",
       "      <td>3</td>\n",
       "      <td>5</td>\n",
       "    </tr>\n",
       "    <tr>\n",
       "      <td>1</td>\n",
       "      <td>0</td>\n",
       "      <td>5</td>\n",
       "      <td>2</td>\n",
       "      <td>9</td>\n",
       "      <td>1</td>\n",
       "      <td>0</td>\n",
       "      <td>1</td>\n",
       "      <td>0</td>\n",
       "      <td>0</td>\n",
       "      <td>4</td>\n",
       "      <td>...</td>\n",
       "      <td>2</td>\n",
       "      <td>7</td>\n",
       "      <td>7</td>\n",
       "      <td>0</td>\n",
       "      <td>2</td>\n",
       "      <td>1</td>\n",
       "      <td>4</td>\n",
       "      <td>3</td>\n",
       "      <td>2</td>\n",
       "      <td>1</td>\n",
       "    </tr>\n",
       "    <tr>\n",
       "      <td>2</td>\n",
       "      <td>0</td>\n",
       "      <td>0</td>\n",
       "      <td>2</td>\n",
       "      <td>8</td>\n",
       "      <td>1</td>\n",
       "      <td>3</td>\n",
       "      <td>1</td>\n",
       "      <td>0</td>\n",
       "      <td>0</td>\n",
       "      <td>5</td>\n",
       "      <td>...</td>\n",
       "      <td>2</td>\n",
       "      <td>7</td>\n",
       "      <td>7</td>\n",
       "      <td>0</td>\n",
       "      <td>2</td>\n",
       "      <td>1</td>\n",
       "      <td>4</td>\n",
       "      <td>3</td>\n",
       "      <td>2</td>\n",
       "      <td>3</td>\n",
       "    </tr>\n",
       "  </tbody>\n",
       "</table>\n",
       "<p>3 rows × 23 columns</p>\n",
       "</div>"
      ],
      "text/plain": [
       "   class  cap-shape  cap-surface  cap-color  bruises  odor  gill-attachment  \\\n",
       "0      1          5            2          4        1     6                1   \n",
       "1      0          5            2          9        1     0                1   \n",
       "2      0          0            2          8        1     3                1   \n",
       "\n",
       "   gill-spacing  gill-size  gill-color  ...  stalk-surface-below-ring  \\\n",
       "0             0          1           4  ...                         2   \n",
       "1             0          0           4  ...                         2   \n",
       "2             0          0           5  ...                         2   \n",
       "\n",
       "   stalk-color-above-ring  stalk-color-below-ring  veil-type  veil-color  \\\n",
       "0                       7                       7          0           2   \n",
       "1                       7                       7          0           2   \n",
       "2                       7                       7          0           2   \n",
       "\n",
       "   ring-number  ring-type  spore-print-color  population  habitat  \n",
       "0            1          4                  2           3        5  \n",
       "1            1          4                  3           2        1  \n",
       "2            1          4                  3           2        3  \n",
       "\n",
       "[3 rows x 23 columns]"
      ]
     },
     "execution_count": 8,
     "metadata": {},
     "output_type": "execute_result"
    }
   ],
   "source": [
    "import pandas as pd\n",
    "\n",
    "file_name=\"/Users/alicepagano/Documents/Università/Magistrale-1°anno/Laboratory of Computational Physics/Course/Laboratory/LaboratoryOfComputationalPhysics/mushrooms_categorized.csv\"\n",
    "#data=pd.read_csv(file_name,nrows=8124)\n",
    "data=pd.read_csv(file_name)\n",
    "data.columns=list(data.keys())\n",
    "print(data.columns)\n",
    "data.head(3)"
   ]
  },
  {
   "cell_type": "code",
   "execution_count": 9,
   "metadata": {},
   "outputs": [
    {
     "data": {
      "text/plain": [
       "array([[<matplotlib.axes._subplots.AxesSubplot object at 0x104bdae10>]],\n",
       "      dtype=object)"
      ]
     },
     "execution_count": 9,
     "metadata": {},
     "output_type": "execute_result"
    },
    {
     "data": {
      "image/png": "[encoded data removed]",
      "text/plain": [
       "<Figure size 432x288 with 1 Axes>"
      ]
     },
     "metadata": {
      "needs_background": "light"
     },
     "output_type": "display_data"
    }
   ],
   "source": [
    "data.hist(\"class\")"
   ]
  },
  {
   "cell_type": "markdown",
   "metadata": {},
   "source": [
    "Answer: I see that the number of mushrooms of the two class are almost equal."
   ]
  },
  {
   "cell_type": "markdown",
   "metadata": {},
   "source": [
    "7\\. Load the remote file [https://www.dropbox.com/s/vkl89yce7xjdq4n/regression_generated.csv?dl=1](https://www.dropbox.com/s/vkl89yce7xjdq4n/regression_generated.csv?dl=1) with Pandas and plot a scatter plot all possible combination of the following fields:\n",
    "    \n",
    "  + features_1\n",
    "  + features_2\n",
    "  + features_3"
   ]
  },
  {
   "cell_type": "code",
   "execution_count": 10,
   "metadata": {},
   "outputs": [
    {
     "name": "stdout",
     "output_type": "stream",
     "text": [
      "Index(['label', 'features_1', 'features_2', 'features_3', 'features_4',\n",
      "       'features_5', 'features_6', 'features_7', 'features_8', 'features_9',\n",
      "       'features_10', 'features_11', 'features_12', 'features_13',\n",
      "       'features_14', 'features_15', 'features_16', 'features_17',\n",
      "       'features_18', 'features_19', 'features_20'],\n",
      "      dtype='object')\n"
     ]
    },
    {
     "data": {
      "text/html": [
       "<div>\n",
       "<style scoped>\n",
       "    .dataframe tbody tr th:only-of-type {\n",
       "        vertical-align: middle;\n",
       "    }\n",
       "\n",
       "    .dataframe tbody tr th {\n",
       "        vertical-align: top;\n",
       "    }\n",
       "\n",
       "    .dataframe thead th {\n",
       "        text-align: right;\n",
       "    }\n",
       "</style>\n",
       "<table border=\"1\" class=\"dataframe\">\n",
       "  <thead>\n",
       "    <tr style=\"text-align: right;\">\n",
       "      <th></th>\n",
       "      <th>label</th>\n",
       "      <th>features_1</th>\n",
       "      <th>features_2</th>\n",
       "      <th>features_3</th>\n",
       "      <th>features_4</th>\n",
       "      <th>features_5</th>\n",
       "      <th>features_6</th>\n",
       "      <th>features_7</th>\n",
       "      <th>features_8</th>\n",
       "      <th>features_9</th>\n",
       "      <th>...</th>\n",
       "      <th>features_11</th>\n",
       "      <th>features_12</th>\n",
       "      <th>features_13</th>\n",
       "      <th>features_14</th>\n",
       "      <th>features_15</th>\n",
       "      <th>features_16</th>\n",
       "      <th>features_17</th>\n",
       "      <th>features_18</th>\n",
       "      <th>features_19</th>\n",
       "      <th>features_20</th>\n",
       "    </tr>\n",
       "  </thead>\n",
       "  <tbody>\n",
       "    <tr>\n",
       "      <td>0</td>\n",
       "      <td>-89.243497</td>\n",
       "      <td>2.175170</td>\n",
       "      <td>-0.285786</td>\n",
       "      <td>-0.603396</td>\n",
       "      <td>-0.627453</td>\n",
       "      <td>-0.686474</td>\n",
       "      <td>0.381067</td>\n",
       "      <td>0.306205</td>\n",
       "      <td>-0.637447</td>\n",
       "      <td>-1.332087</td>\n",
       "      <td>...</td>\n",
       "      <td>1.290725</td>\n",
       "      <td>1.047483</td>\n",
       "      <td>-1.055467</td>\n",
       "      <td>0.853204</td>\n",
       "      <td>0.038665</td>\n",
       "      <td>-0.752959</td>\n",
       "      <td>0.577920</td>\n",
       "      <td>-0.657400</td>\n",
       "      <td>1.367308</td>\n",
       "      <td>0.570199</td>\n",
       "    </tr>\n",
       "    <tr>\n",
       "      <td>1</td>\n",
       "      <td>230.050125</td>\n",
       "      <td>1.481941</td>\n",
       "      <td>-1.327870</td>\n",
       "      <td>-0.543583</td>\n",
       "      <td>-0.303578</td>\n",
       "      <td>1.552964</td>\n",
       "      <td>0.549738</td>\n",
       "      <td>-0.763094</td>\n",
       "      <td>-0.455796</td>\n",
       "      <td>2.053388</td>\n",
       "      <td>...</td>\n",
       "      <td>-1.761306</td>\n",
       "      <td>-0.934284</td>\n",
       "      <td>-1.050999</td>\n",
       "      <td>0.444026</td>\n",
       "      <td>-0.037959</td>\n",
       "      <td>1.061624</td>\n",
       "      <td>-1.569870</td>\n",
       "      <td>2.410696</td>\n",
       "      <td>1.113594</td>\n",
       "      <td>2.329479</td>\n",
       "    </tr>\n",
       "    <tr>\n",
       "      <td>2</td>\n",
       "      <td>-286.844411</td>\n",
       "      <td>-1.154394</td>\n",
       "      <td>-0.178649</td>\n",
       "      <td>-1.636646</td>\n",
       "      <td>0.239353</td>\n",
       "      <td>-0.684994</td>\n",
       "      <td>0.587201</td>\n",
       "      <td>-0.209564</td>\n",
       "      <td>-0.428956</td>\n",
       "      <td>-0.757998</td>\n",
       "      <td>...</td>\n",
       "      <td>0.374645</td>\n",
       "      <td>-1.702189</td>\n",
       "      <td>-0.014514</td>\n",
       "      <td>-0.711557</td>\n",
       "      <td>-0.558523</td>\n",
       "      <td>-1.204526</td>\n",
       "      <td>0.234989</td>\n",
       "      <td>0.398384</td>\n",
       "      <td>-0.236555</td>\n",
       "      <td>0.642003</td>\n",
       "    </tr>\n",
       "    <tr>\n",
       "      <td>3</td>\n",
       "      <td>364.552862</td>\n",
       "      <td>0.197665</td>\n",
       "      <td>1.455707</td>\n",
       "      <td>1.562205</td>\n",
       "      <td>2.168207</td>\n",
       "      <td>0.053335</td>\n",
       "      <td>0.790492</td>\n",
       "      <td>-0.212023</td>\n",
       "      <td>-1.142483</td>\n",
       "      <td>-1.124906</td>\n",
       "      <td>...</td>\n",
       "      <td>0.712160</td>\n",
       "      <td>-2.844936</td>\n",
       "      <td>0.483994</td>\n",
       "      <td>-0.694294</td>\n",
       "      <td>1.349605</td>\n",
       "      <td>-1.303414</td>\n",
       "      <td>0.161987</td>\n",
       "      <td>0.754084</td>\n",
       "      <td>1.248258</td>\n",
       "      <td>-1.466045</td>\n",
       "    </tr>\n",
       "    <tr>\n",
       "      <td>4</td>\n",
       "      <td>515.460006</td>\n",
       "      <td>0.596676</td>\n",
       "      <td>0.969860</td>\n",
       "      <td>1.294158</td>\n",
       "      <td>-0.404728</td>\n",
       "      <td>2.145297</td>\n",
       "      <td>0.997481</td>\n",
       "      <td>-0.541670</td>\n",
       "      <td>-0.952850</td>\n",
       "      <td>-0.592084</td>\n",
       "      <td>...</td>\n",
       "      <td>-1.347072</td>\n",
       "      <td>0.243422</td>\n",
       "      <td>0.290336</td>\n",
       "      <td>0.798331</td>\n",
       "      <td>0.876428</td>\n",
       "      <td>-0.366807</td>\n",
       "      <td>-0.119534</td>\n",
       "      <td>0.892320</td>\n",
       "      <td>-0.806912</td>\n",
       "      <td>0.736080</td>\n",
       "    </tr>\n",
       "  </tbody>\n",
       "</table>\n",
       "<p>5 rows × 21 columns</p>\n",
       "</div>"
      ],
      "text/plain": [
       "        label  features_1  features_2  features_3  features_4  features_5  \\\n",
       "0  -89.243497    2.175170   -0.285786   -0.603396   -0.627453   -0.686474   \n",
       "1  230.050125    1.481941   -1.327870   -0.543583   -0.303578    1.552964   \n",
       "2 -286.844411   -1.154394   -0.178649   -1.636646    0.239353   -0.684994   \n",
       "3  364.552862    0.197665    1.455707    1.562205    2.168207    0.053335   \n",
       "4  515.460006    0.596676    0.969860    1.294158   -0.404728    2.145297   \n",
       "\n",
       "   features_6  features_7  features_8  features_9  ...  features_11  \\\n",
       "0    0.381067    0.306205   -0.637447   -1.332087  ...     1.290725   \n",
       "1    0.549738   -0.763094   -0.455796    2.053388  ...    -1.761306   \n",
       "2    0.587201   -0.209564   -0.428956   -0.757998  ...     0.374645   \n",
       "3    0.790492   -0.212023   -1.142483   -1.124906  ...     0.712160   \n",
       "4    0.997481   -0.541670   -0.952850   -0.592084  ...    -1.347072   \n",
       "\n",
       "   features_12  features_13  features_14  features_15  features_16  \\\n",
       "0     1.047483    -1.055467     0.853204     0.038665    -0.752959   \n",
       "1    -0.934284    -1.050999     0.444026    -0.037959     1.061624   \n",
       "2    -1.702189    -0.014514    -0.711557    -0.558523    -1.204526   \n",
       "3    -2.844936     0.483994    -0.694294     1.349605    -1.303414   \n",
       "4     0.243422     0.290336     0.798331     0.876428    -0.366807   \n",
       "\n",
       "   features_17  features_18  features_19  features_20  \n",
       "0     0.577920    -0.657400     1.367308     0.570199  \n",
       "1    -1.569870     2.410696     1.113594     2.329479  \n",
       "2     0.234989     0.398384    -0.236555     0.642003  \n",
       "3     0.161987     0.754084     1.248258    -1.466045  \n",
       "4    -0.119534     0.892320    -0.806912     0.736080  \n",
       "\n",
       "[5 rows x 21 columns]"
      ]
     },
     "execution_count": 10,
     "metadata": {},
     "output_type": "execute_result"
    }
   ],
   "source": [
    "file_name=\"/Users/alicepagano/Documents/Università/Magistrale-1°anno/Laboratory of Computational Physics/Course/Laboratory/LaboratoryOfComputationalPhysics/regression_generated.csv\"\n",
    "data=pd.read_csv(file_name)\n",
    "data.columns=list(data.keys())\n",
    "print(data.columns)\n",
    "\n",
    "data.head(5)"
   ]
  },
  {
   "cell_type": "code",
   "execution_count": 11,
   "metadata": {},
   "outputs": [
    {
     "data": {
      "text/plain": [
       "<matplotlib.axes._subplots.AxesSubplot at 0x1167a4fd0>"
      ]
     },
     "execution_count": 11,
     "metadata": {},
     "output_type": "execute_result"
    },
    {
     "data": {
      "image/png": "[encoded data removed]",
      "text/plain": [
       "<Figure size 432x288 with 1 Axes>"
      ]
     },
     "metadata": {
      "needs_background": "light"
     },
     "output_type": "display_data"
    },
    {
     "data": {
      "image/png": "[encoded data removed]",
      "text/plain": [
       "<Figure size 432x288 with 1 Axes>"
      ]
     },
     "metadata": {
      "needs_background": "light"
     },
     "output_type": "display_data"
    },
    {
     "data": {
      "image/png": "[encoded data removed]",
      "text/plain": [
       "<Figure size 432x288 with 1 Axes>"
      ]
     },
     "metadata": {
      "needs_background": "light"
     },
     "output_type": "display_data"
    }
   ],
   "source": [
    "%matplotlib inline\n",
    "data.plot.scatter(\"features_1\",\"features_2\")\n",
    "data.plot.scatter(\"features_2\",\"features_3\")\n",
    "data.plot.scatter(\"features_1\",\"features_3\")\n"
   ]
  },
  {
   "cell_type": "markdown",
   "metadata": {},
   "source": [
    "8. Load the same file of point 6, and convert the file to json with Pandas."
   ]
  },
  {
   "cell_type": "code",
   "execution_count": 12,
   "metadata": {},
   "outputs": [
    {
     "data": {
      "text/html": [
       "<div>\n",
       "<style scoped>\n",
       "    .dataframe tbody tr th:only-of-type {\n",
       "        vertical-align: middle;\n",
       "    }\n",
       "\n",
       "    .dataframe tbody tr th {\n",
       "        vertical-align: top;\n",
       "    }\n",
       "\n",
       "    .dataframe thead th {\n",
       "        text-align: right;\n",
       "    }\n",
       "</style>\n",
       "<table border=\"1\" class=\"dataframe\">\n",
       "  <thead>\n",
       "    <tr style=\"text-align: right;\">\n",
       "      <th></th>\n",
       "      <th>class</th>\n",
       "      <th>cap-shape</th>\n",
       "      <th>cap-surface</th>\n",
       "      <th>cap-color</th>\n",
       "      <th>bruises</th>\n",
       "      <th>odor</th>\n",
       "      <th>gill-attachment</th>\n",
       "      <th>gill-spacing</th>\n",
       "      <th>gill-size</th>\n",
       "      <th>gill-color</th>\n",
       "      <th>...</th>\n",
       "      <th>stalk-surface-below-ring</th>\n",
       "      <th>stalk-color-above-ring</th>\n",
       "      <th>stalk-color-below-ring</th>\n",
       "      <th>veil-type</th>\n",
       "      <th>veil-color</th>\n",
       "      <th>ring-number</th>\n",
       "      <th>ring-type</th>\n",
       "      <th>spore-print-color</th>\n",
       "      <th>population</th>\n",
       "      <th>habitat</th>\n",
       "    </tr>\n",
       "  </thead>\n",
       "  <tbody>\n",
       "    <tr>\n",
       "      <td>0</td>\n",
       "      <td>1</td>\n",
       "      <td>5</td>\n",
       "      <td>2</td>\n",
       "      <td>4</td>\n",
       "      <td>1</td>\n",
       "      <td>6</td>\n",
       "      <td>1</td>\n",
       "      <td>0</td>\n",
       "      <td>1</td>\n",
       "      <td>4</td>\n",
       "      <td>...</td>\n",
       "      <td>2</td>\n",
       "      <td>7</td>\n",
       "      <td>7</td>\n",
       "      <td>0</td>\n",
       "      <td>2</td>\n",
       "      <td>1</td>\n",
       "      <td>4</td>\n",
       "      <td>2</td>\n",
       "      <td>3</td>\n",
       "      <td>5</td>\n",
       "    </tr>\n",
       "    <tr>\n",
       "      <td>1</td>\n",
       "      <td>0</td>\n",
       "      <td>5</td>\n",
       "      <td>2</td>\n",
       "      <td>9</td>\n",
       "      <td>1</td>\n",
       "      <td>0</td>\n",
       "      <td>1</td>\n",
       "      <td>0</td>\n",
       "      <td>0</td>\n",
       "      <td>4</td>\n",
       "      <td>...</td>\n",
       "      <td>2</td>\n",
       "      <td>7</td>\n",
       "      <td>7</td>\n",
       "      <td>0</td>\n",
       "      <td>2</td>\n",
       "      <td>1</td>\n",
       "      <td>4</td>\n",
       "      <td>3</td>\n",
       "      <td>2</td>\n",
       "      <td>1</td>\n",
       "    </tr>\n",
       "    <tr>\n",
       "      <td>2</td>\n",
       "      <td>0</td>\n",
       "      <td>0</td>\n",
       "      <td>2</td>\n",
       "      <td>8</td>\n",
       "      <td>1</td>\n",
       "      <td>3</td>\n",
       "      <td>1</td>\n",
       "      <td>0</td>\n",
       "      <td>0</td>\n",
       "      <td>5</td>\n",
       "      <td>...</td>\n",
       "      <td>2</td>\n",
       "      <td>7</td>\n",
       "      <td>7</td>\n",
       "      <td>0</td>\n",
       "      <td>2</td>\n",
       "      <td>1</td>\n",
       "      <td>4</td>\n",
       "      <td>3</td>\n",
       "      <td>2</td>\n",
       "      <td>3</td>\n",
       "    </tr>\n",
       "  </tbody>\n",
       "</table>\n",
       "<p>3 rows × 23 columns</p>\n",
       "</div>"
      ],
      "text/plain": [
       "   class  cap-shape  cap-surface  cap-color  bruises  odor  gill-attachment  \\\n",
       "0      1          5            2          4        1     6                1   \n",
       "1      0          5            2          9        1     0                1   \n",
       "2      0          0            2          8        1     3                1   \n",
       "\n",
       "   gill-spacing  gill-size  gill-color  ...  stalk-surface-below-ring  \\\n",
       "0             0          1           4  ...                         2   \n",
       "1             0          0           4  ...                         2   \n",
       "2             0          0           5  ...                         2   \n",
       "\n",
       "   stalk-color-above-ring  stalk-color-below-ring  veil-type  veil-color  \\\n",
       "0                       7                       7          0           2   \n",
       "1                       7                       7          0           2   \n",
       "2                       7                       7          0           2   \n",
       "\n",
       "   ring-number  ring-type  spore-print-color  population  habitat  \n",
       "0            1          4                  2           3        5  \n",
       "1            1          4                  3           2        1  \n",
       "2            1          4                  3           2        3  \n",
       "\n",
       "[3 rows x 23 columns]"
      ]
     },
     "execution_count": 12,
     "metadata": {},
     "output_type": "execute_result"
    }
   ],
   "source": [
    "file_name=\"/Users/alicepagano/Documents/Università/Magistrale-1°anno/Laboratory of Computational Physics/Course/Laboratory/LaboratoryOfComputationalPhysics/mushrooms_categorized.csv\"\n",
    "#data=pd.read_csv(file_name,nrows=8124)\n",
    "data=pd.read_csv(file_name, sep= ',')#,nrows=3)\n",
    "data.columns=list(data.keys())\n",
    "\n",
    "#print(data.columns)\n",
    "data.head(3)"
   ]
  },
  {
   "cell_type": "code",
   "execution_count": 13,
   "metadata": {},
   "outputs": [],
   "source": [
    "#For columns as json key:\n",
    "data_json = data.to_json(\"/Users/alicepagano/Documents/Università/Magistrale-1°anno/Laboratory of Computational Physics/Course/Laboratory/LaboratoryOfComputationalPhysics/mushrooms_categorized.json\", orient = \"records\", date_format = \"epoch\")\n",
    "\n",
    "#For rows as json keys:\n",
    "#data.T.to_json()\n",
    "\n",
    "data_json\n",
    "\n",
    "#print([v for k,v in eval(data_json).items()])\n",
    "#print([v for v in eval(data_json).values()])\n",
    "#print([k for k in eval(data_json).keys()])\n",
    "\n",
    "#print(eval(data_json).items())\n"
   ]
  },
  {
   "cell_type": "code",
   "execution_count": null,
   "metadata": {},
   "outputs": [],
   "source": []
  }
 ],
 "metadata": {
  "kernelspec": {
   "display_name": "Python 3",
   "language": "python",
   "name": "python3"
  },
  "language_info": {
   "codemirror_mode": {
    "name": "ipython",
    "version": 3
   },
   "file_extension": ".py",
   "mimetype": "text/x-python",
   "name": "python",
   "nbconvert_exporter": "python",
   "pygments_lexer": "ipython3",
   "version": "3.7.4"
  }
 },
 "nbformat": 4,
 "nbformat_minor": 4
}
