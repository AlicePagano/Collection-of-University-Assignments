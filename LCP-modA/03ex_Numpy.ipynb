{
 "cells": [
  {
   "cell_type": "markdown",
   "metadata": {},
   "source": [
    "### Numpy basics"
   ]
  },
  {
   "cell_type": "markdown",
   "metadata": {},
   "source": [
    "1\\. Find the row, column and overall means for the following matrix:\n",
    "\n",
    "```python\n",
    "m = np.arange(12).reshape((3,4))\n",
    "```"
   ]
  },
  {
   "cell_type": "code",
   "execution_count": 1,
   "metadata": {},
   "outputs": [
    {
     "name": "stdout",
     "output_type": "stream",
     "text": [
      "[[ 0  1  2  3]\n",
      " [ 4  5  6  7]\n",
      " [ 8  9 10 11]]\n",
      "[0 4 8]\n",
      "[0 1 2 3]\n",
      "(3, 4)\n",
      "4\n",
      "mean row: [4.0, 5.0, 6.0, 7.0]\n",
      "mean column: [1.5, 5.5, 9.5]\n",
      "tot: 5.5\n"
     ]
    }
   ],
   "source": [
    "import numpy as np\n",
    "\n",
    "m = np.arange(12).reshape((3,4))\n",
    "print(m)\n",
    "\n",
    "print(m[:,0])\n",
    "print(m[0,:])\n",
    "\n",
    "print(m.shape)\n",
    "print(m.shape[1])\n",
    "\n",
    "mean_row_t =  np.mean(np.array(list(map(lambda i: np.mean(m[:,i]), range(m.shape[1])) )))\n",
    "mean_column_t = np.mean(np.array(list(map(lambda i: np.mean(m[i,:]), range(m.shape[0])) )))\n",
    "\n",
    "mean_row = list(map(lambda i: np.mean(m[:,i]), range(m.shape[1])) )\n",
    "mean_column = list(map(lambda i: np.mean(m[i,:]), range(m.shape[0])) )\n",
    "\n",
    "print('mean row:', mean_row)\n",
    "print('mean column:', mean_column)\n",
    "\n",
    "print('tot:', np.mean(m))"
   ]
  },
  {
   "cell_type": "markdown",
   "metadata": {},
   "source": [
    "2\\. Find the outer product of the following two vecotrs\n",
    "\n",
    "```python\n",
    "u = np.array([1,3,5,7])\n",
    "v = np.array([2,4,6,8])\n",
    "```\n",
    "\n",
    "Do this in the following ways:\n",
    "\n",
    "   * Using the function outer in numpy\n",
    "   * Using a nested for loop or list comprehension\n",
    "   * Using numpy broadcasting operations\n"
   ]
  },
  {
   "cell_type": "code",
   "execution_count": 2,
   "metadata": {},
   "outputs": [
    {
     "name": "stdout",
     "output_type": "stream",
     "text": [
      "[1 3 5 7] [2 4 6 8] \n",
      "\n",
      "[[ 2  4  6  8]\n",
      " [ 6 12 18 24]\n",
      " [10 20 30 40]\n",
      " [14 28 42 56]] \n",
      "\n",
      "[[ 2  4  6  8]\n",
      " [ 6 12 18 24]\n",
      " [10 20 30 40]\n",
      " [14 28 42 56]] \n",
      "\n",
      "[[1. 3. 5. 7.]\n",
      " [1. 3. 5. 7.]\n",
      " [1. 3. 5. 7.]\n",
      " [1. 3. 5. 7.]] \n",
      "\n",
      "[2 4 6 8] \n",
      "\n",
      "[[ 2.  4.  6.  8.]\n",
      " [ 6. 12. 18. 24.]\n",
      " [10. 20. 30. 40.]\n",
      " [14. 28. 42. 56.]]\n"
     ]
    }
   ],
   "source": [
    "u = np.array([1,3,5,7])\n",
    "v = np.array([2,4,6,8])\n",
    "\n",
    "print(u,v,'\\n')\n",
    "print(np.outer(u,v),'\\n')\n",
    "\n",
    "\n",
    "product = np.array([ [i*j for j in v] for i in u ])\n",
    "print(product,'\\n')\n",
    "\n",
    "\n",
    "k = np.zeros((len(u),len(v)))\n",
    "u = u + k\n",
    "\n",
    "print(u,'\\n')\n",
    "print(v,'\\n')\n",
    "\n",
    "product = u.T*v\n",
    "print(product)"
   ]
  },
  {
   "cell_type": "markdown",
   "metadata": {},
   "source": [
    "3\\. Create a 10 by 6 matrix of random uniform numbers. Set all rows with any entry less than 0.1 to be zero\n",
    "\n",
    "Hint: Use the following numpy functions - np.random.random, np.any as well as Boolean indexing and the axis argument."
   ]
  },
  {
   "cell_type": "code",
   "execution_count": 3,
   "metadata": {},
   "outputs": [
    {
     "name": "stdout",
     "output_type": "stream",
     "text": [
      "uniform: \n",
      " [[0.77132064 0.02075195 0.63364823 0.74880388 0.49850701 0.22479665]\n",
      " [0.19806286 0.76053071 0.16911084 0.08833981 0.68535982 0.95339335]\n",
      " [0.00394827 0.51219226 0.81262096 0.61252607 0.72175532 0.29187607]\n",
      " [0.91777412 0.71457578 0.54254437 0.14217005 0.37334076 0.67413362]\n",
      " [0.44183317 0.43401399 0.61776698 0.51313824 0.65039718 0.60103895]\n",
      " [0.8052232  0.52164715 0.90864888 0.31923609 0.09045935 0.30070006]\n",
      " [0.11398436 0.82868133 0.04689632 0.62628715 0.54758616 0.819287  ]\n",
      " [0.19894754 0.8568503  0.35165264 0.75464769 0.29596171 0.88393648]\n",
      " [0.32551164 0.1650159  0.39252924 0.09346037 0.82110566 0.15115202]\n",
      " [0.38411445 0.94426071 0.98762547 0.45630455 0.82612284 0.25137413]] \n",
      "\n",
      "[[0.77132064 0.         0.63364823 0.74880388 0.49850701 0.22479665]\n",
      " [0.19806286 0.76053071 0.16911084 0.         0.68535982 0.95339335]\n",
      " [0.         0.51219226 0.81262096 0.61252607 0.72175532 0.29187607]\n",
      " [0.91777412 0.71457578 0.54254437 0.14217005 0.37334076 0.67413362]\n",
      " [0.44183317 0.43401399 0.61776698 0.51313824 0.65039718 0.60103895]\n",
      " [0.8052232  0.52164715 0.90864888 0.31923609 0.         0.30070006]\n",
      " [0.11398436 0.82868133 0.         0.62628715 0.54758616 0.819287  ]\n",
      " [0.19894754 0.8568503  0.35165264 0.75464769 0.29596171 0.88393648]\n",
      " [0.32551164 0.1650159  0.39252924 0.         0.82110566 0.15115202]\n",
      " [0.38411445 0.94426071 0.98762547 0.45630455 0.82612284 0.25137413]]\n"
     ]
    }
   ],
   "source": [
    "import numpy.random as npr\n",
    "npr.seed(10)\n",
    "\n",
    "uniform = npr.rand(10,6)\n",
    "print (\"uniform:\",'\\n', uniform,'\\n')\n",
    "\n",
    "uniform[uniform < 0.1] = 0\n",
    "\n",
    "print(uniform)"
   ]
  },
  {
   "cell_type": "markdown",
   "metadata": {},
   "source": [
    "4\\. Use np.linspace to create an array of 100 numbers between 0 and 2π (includsive).\n",
    "\n",
    "  * Extract every 10th element using slice notation\n",
    "  * Reverse the array using slice notation\n",
    "  * Extract elements where the absolute difference between the sine and cosine functions evaluated at that element is less than 0.1\n",
    "  * Make a plot showing the sin and cos functions and indicate where they are close"
   ]
  },
  {
   "cell_type": "code",
   "execution_count": 4,
   "metadata": {},
   "outputs": [
    {
     "name": "stdout",
     "output_type": "stream",
     "text": [
      "[0.         0.06346652 0.12693304 0.19039955 0.25386607 0.31733259\n",
      " 0.38079911 0.44426563 0.50773215 0.57119866 0.63466518 0.6981317\n",
      " 0.76159822 0.82506474 0.88853126 0.95199777 1.01546429 1.07893081\n",
      " 1.14239733 1.20586385 1.26933037 1.33279688 1.3962634  1.45972992\n",
      " 1.52319644 1.58666296 1.65012947 1.71359599 1.77706251 1.84052903\n",
      " 1.90399555 1.96746207 2.03092858 2.0943951  2.15786162 2.22132814\n",
      " 2.28479466 2.34826118 2.41172769 2.47519421 2.53866073 2.60212725\n",
      " 2.66559377 2.72906028 2.7925268  2.85599332 2.91945984 2.98292636\n",
      " 3.04639288 3.10985939 3.17332591 3.23679243 3.30025895 3.36372547\n",
      " 3.42719199 3.4906585  3.55412502 3.61759154 3.68105806 3.74452458\n",
      " 3.8079911  3.87145761 3.93492413 3.99839065 4.06185717 4.12532369\n",
      " 4.1887902  4.25225672 4.31572324 4.37918976 4.44265628 4.5061228\n",
      " 4.56958931 4.63305583 4.69652235 4.75998887 4.82345539 4.88692191\n",
      " 4.95038842 5.01385494 5.07732146 5.14078798 5.2042545  5.26772102\n",
      " 5.33118753 5.39465405 5.45812057 5.52158709 5.58505361 5.64852012\n",
      " 5.71198664 5.77545316 5.83891968 5.9023862  5.96585272 6.02931923\n",
      " 6.09278575 6.15625227 6.21971879 6.28318531] \n",
      "\n",
      "[0.         0.63466518 1.26933037 1.90399555 2.53866073 3.17332591\n",
      " 3.8079911  4.44265628 5.07732146 5.71198664] \n",
      "\n",
      "[6.28318531 6.21971879 6.15625227 6.09278575 6.02931923 5.96585272\n",
      " 5.9023862  5.83891968 5.77545316 5.71198664 5.64852012 5.58505361\n",
      " 5.52158709 5.45812057 5.39465405 5.33118753 5.26772102 5.2042545\n",
      " 5.14078798 5.07732146 5.01385494 4.95038842 4.88692191 4.82345539\n",
      " 4.75998887 4.69652235 4.63305583 4.56958931 4.5061228  4.44265628\n",
      " 4.37918976 4.31572324 4.25225672 4.1887902  4.12532369 4.06185717\n",
      " 3.99839065 3.93492413 3.87145761 3.8079911  3.74452458 3.68105806\n",
      " 3.61759154 3.55412502 3.4906585  3.42719199 3.36372547 3.30025895\n",
      " 3.23679243 3.17332591 3.10985939 3.04639288 2.98292636 2.91945984\n",
      " 2.85599332 2.7925268  2.72906028 2.66559377 2.60212725 2.53866073\n",
      " 2.47519421 2.41172769 2.34826118 2.28479466 2.22132814 2.15786162\n",
      " 2.0943951  2.03092858 1.96746207 1.90399555 1.84052903 1.77706251\n",
      " 1.71359599 1.65012947 1.58666296 1.52319644 1.45972992 1.3962634\n",
      " 1.33279688 1.26933037 1.20586385 1.14239733 1.07893081 1.01546429\n",
      " 0.95199777 0.88853126 0.82506474 0.76159822 0.6981317  0.63466518\n",
      " 0.57119866 0.50773215 0.44426563 0.38079911 0.31733259 0.25386607\n",
      " 0.19039955 0.12693304 0.06346652 0.        ] \n",
      "\n",
      "the mask: [False False False False False False False False False False False False\n",
      "  True  True False False False False False False False False False False\n",
      " False False False False False False False False False False False False\n",
      " False False False False False False False False False False False False\n",
      " False False False False False False False False False False False False\n",
      " False  True  True False False False False False False False False False\n",
      " False False False False False False False False False False False False\n",
      " False False False False False False False False False False False False\n",
      " False False False False] \n",
      "\n",
      "the filtered array: [0.76159822 0.82506474 3.87145761 3.93492413] \n",
      "\n"
     ]
    },
    {
     "data": {
      "image/png": "[encoded data removed]",
      "text/plain": [
       "<Figure size 432x288 with 1 Axes>"
      ]
     },
     "metadata": {
      "needs_background": "light"
     },
     "output_type": "display_data"
    }
   ],
   "source": [
    "a = np.linspace(0, 2*np.pi, 100)\n",
    "\n",
    "\n",
    "print(a,'\\n')\n",
    "\n",
    "print(a[::10], '\\n')\n",
    "\n",
    "print(a[::-1],'\\n')\n",
    "\n",
    "mask = ( np.abs(np.sin(a)-np.cos(a)) < 0.1 )\n",
    "print (\"the mask:\", mask,'\\n')\n",
    "\n",
    "filtered_a = a[mask]\n",
    "print (\"the filtered array:\", filtered_a,'\\n')\n",
    "\n",
    "import matplotlib.pyplot as plt # everybody imports it that way\n",
    "\n",
    "%matplotlib inline \n",
    "# tell jupyter to plot inline\n",
    "\n",
    "s = np.sin(a) # np.sin is a universal function\n",
    "c = np.cos(a)\n",
    "\n",
    "plt.plot(s,'*');\n",
    "plt.plot(c,'*')\n",
    "#plt.plot(a,'o')\n",
    "\n",
    "\n",
    "plt.show()"
   ]
  },
  {
   "cell_type": "markdown",
   "metadata": {},
   "source": [
    "5\\. Create a matrix that shows the 10 by 10 multiplication table.\n",
    "\n",
    " * Find the trace of the matrix\n",
    " * Extract the anto-diagonal (this should be ```array([10, 18, 24, 28, 30, 30, 28, 24, 18, 10])```)\n",
    " * Extract the diagnoal offset by 1 upwards (this should be ```array([ 2,  6, 12, 20, 30, 42, 56, 72, 90])```)"
   ]
  },
  {
   "cell_type": "code",
   "execution_count": 5,
   "metadata": {},
   "outputs": [
    {
     "name": "stdout",
     "output_type": "stream",
     "text": [
      "[[  1.   2.   3.   4.   5.   6.   7.   8.   9.  10.]\n",
      " [  2.   4.   6.   8.  10.  12.  14.  16.  18.  20.]\n",
      " [  3.   6.   9.  12.  15.  18.  21.  24.  27.  30.]\n",
      " [  4.   8.  12.  16.  20.  24.  28.  32.  36.  40.]\n",
      " [  5.  10.  15.  20.  25.  30.  35.  40.  45.  50.]\n",
      " [  6.  12.  18.  24.  30.  36.  42.  48.  54.  60.]\n",
      " [  7.  14.  21.  28.  35.  42.  49.  56.  63.  70.]\n",
      " [  8.  16.  24.  32.  40.  48.  56.  64.  72.  80.]\n",
      " [  9.  18.  27.  36.  45.  54.  63.  72.  81.  90.]\n",
      " [ 10.  20.  30.  40.  50.  60.  70.  80.  90. 100.]] \n",
      "\n",
      "[  1.   4.   9.  16.  25.  36.  49.  64.  81. 100.]\n",
      "385.0\n",
      "385.0\n",
      "[10. 18. 24. 28. 30. 30. 28. 24. 18. 10.]\n",
      "[ 2.  6. 12. 20. 30. 42. 56. 72. 90.]\n"
     ]
    }
   ],
   "source": [
    "# from a function\n",
    "f = np.fromfunction(lambda i,j: 1 + (i+j)  + i*j, (10,10))\n",
    "print (f,'\\n')\n",
    "\n",
    "d = np.diag(f)\n",
    "print(d)\n",
    "\n",
    "tr = np.sum(d)\n",
    "print(tr)\n",
    "tr = np.trace(f)\n",
    "print(tr)\n",
    "\n",
    "d = np.diag(f[::-1])\n",
    "print(d)\n",
    "d = np.diag(f[1::])\n",
    "print(d)"
   ]
  },
  {
   "cell_type": "markdown",
   "metadata": {},
   "source": [
    "6\\. Use broadcasting to create a grid of distances\n",
    "\n",
    "Route 66 crosses the following cities in the US: Chicago, Springfield, Saint-Louis, Tulsa, Oklahoma City, Amarillo, Santa Fe, Albuquerque, Flagstaff, Los Angeles\n",
    "The corresponding positions in miles are: 0, 198, 303, 736, 871, 1175, 1475, 1544, 1913, 2448\n",
    "\n",
    "  * Construct a 2D grid of distances among each city along Route 66\n",
    "  * Convert that in km (those savages...)"
   ]
  },
  {
   "cell_type": "code",
   "execution_count": 6,
   "metadata": {},
   "outputs": [
    {
     "name": "stdout",
     "output_type": "stream",
     "text": [
      "[   0  198  303  736  871 1175 1475 1544 1913 2448]\n",
      "[[0. 0. 0. 0. 0. 0. 0. 0. 0. 0.]\n",
      " [0. 0. 0. 0. 0. 0. 0. 0. 0. 0.]\n",
      " [0. 0. 0. 0. 0. 0. 0. 0. 0. 0.]\n",
      " [0. 0. 0. 0. 0. 0. 0. 0. 0. 0.]\n",
      " [0. 0. 0. 0. 0. 0. 0. 0. 0. 0.]\n",
      " [0. 0. 0. 0. 0. 0. 0. 0. 0. 0.]\n",
      " [0. 0. 0. 0. 0. 0. 0. 0. 0. 0.]\n",
      " [0. 0. 0. 0. 0. 0. 0. 0. 0. 0.]\n",
      " [0. 0. 0. 0. 0. 0. 0. 0. 0. 0.]\n",
      " [0. 0. 0. 0. 0. 0. 0. 0. 0. 0.]]\n",
      "[[    0.   198.   303.   736.   871.  1175.  1475.  1544.  1913.  2448.]\n",
      " [ -198.     0.   105.   538.   673.   977.  1277.  1346.  1715.  2250.]\n",
      " [ -303.  -105.     0.   433.   568.   872.  1172.  1241.  1610.  2145.]\n",
      " [ -736.  -538.  -433.     0.   135.   439.   739.   808.  1177.  1712.]\n",
      " [ -871.  -673.  -568.  -135.     0.   304.   604.   673.  1042.  1577.]\n",
      " [-1175.  -977.  -872.  -439.  -304.     0.   300.   369.   738.  1273.]\n",
      " [-1475. -1277. -1172.  -739.  -604.  -300.     0.    69.   438.   973.]\n",
      " [-1544. -1346. -1241.  -808.  -673.  -369.   -69.     0.   369.   904.]\n",
      " [-1913. -1715. -1610. -1177. -1042.  -738.  -438.  -369.     0.   535.]\n",
      " [-2448. -2250. -2145. -1712. -1577. -1273.  -973.  -904.  -535.     0.]]\n",
      "[[    0.        318.64932   487.63002  1184.47424  1401.73514  1890.9745\n",
      "   2373.7765   2484.82096  3078.66742  3939.66432]\n",
      " [ -318.64932     0.        168.9807    865.82492  1083.08582  1572.32518\n",
      "   2055.12718  2166.17164  2760.0181   3621.015  ]\n",
      " [ -487.63002  -168.9807      0.        696.84422   914.10512  1403.34448\n",
      "   1886.14648  1997.19094  2591.0374   3452.0343 ]\n",
      " [-1184.47424  -865.82492  -696.84422     0.        217.2609    706.50026\n",
      "   1189.30226  1300.34672  1894.19318  2755.19008]\n",
      " [-1401.73514 -1083.08582  -914.10512  -217.2609      0.        489.23936\n",
      "    972.04136  1083.08582  1676.93228  2537.92918]\n",
      " [-1890.9745  -1572.32518 -1403.34448  -706.50026  -489.23936     0.\n",
      "    482.802     593.84646  1187.69292  2048.68982]\n",
      " [-2373.7765  -2055.12718 -1886.14648 -1189.30226  -972.04136  -482.802\n",
      "      0.        111.04446   704.89092  1565.88782]\n",
      " [-2484.82096 -2166.17164 -1997.19094 -1300.34672 -1083.08582  -593.84646\n",
      "   -111.04446     0.        593.84646  1454.84336]\n",
      " [-3078.66742 -2760.0181  -2591.0374  -1894.19318 -1676.93228 -1187.69292\n",
      "   -704.89092  -593.84646     0.        860.9969 ]\n",
      " [-3939.66432 -3621.015   -3452.0343  -2755.19008 -2537.92918 -2048.68982\n",
      "  -1565.88782 -1454.84336  -860.9969      0.     ]]\n"
     ]
    }
   ],
   "source": [
    "p = np.array([0, 198, 303, 736, 871, 1175, 1475, 1544, 1913, 2448])\n",
    "print(p)\n",
    "\n",
    "k = np.zeros((p.shape[0],p.shape[0])) \n",
    "\n",
    "print(k)\n",
    "\n",
    "m = p + k\n",
    "\n",
    "r = p-m.T \n",
    "print(r)\n",
    "\n",
    "r_conv = r*1.60934\n",
    "\n",
    "print(r_conv)"
   ]
  },
  {
   "cell_type": "markdown",
   "metadata": {},
   "source": [
    "7\\. Prime numbers sieve: compute the prime numbers in the 0-N (N=99 to start with) range with a sieve (mask).\n",
    "  * Constract a shape (100,) boolean array, the mask\n",
    "  * Identify the multiples of each number starting from 2 and set accordingly the corresponding mask element\n",
    "  * Apply the mask to obtain an array of ordered prime numbers\n",
    "  * Check the performances (timeit); how does it scale with N?\n",
    "  * Implement the optimization suggested in the [sieve of Eratosthenes](https://en.wikipedia.org/wiki/Sieve_of_Eratosthenes)"
   ]
  },
  {
   "cell_type": "code",
   "execution_count": 7,
   "metadata": {},
   "outputs": [
    {
     "data": {
      "image/png": "[encoded data removed]",
      "text/plain": [
       "<Figure size 432x288 with 1 Axes>"
      ]
     },
     "metadata": {
      "needs_background": "light"
     },
     "output_type": "display_data"
    }
   ],
   "source": [
    "import time\n",
    "\n",
    "def prime_func(N):\n",
    "    a = np.array([True for i in range(N)])\n",
    "    nums = np.linspace(0,N-1,N,endpoint=True,dtype=np.int32)\n",
    "\n",
    "    #print(nums)\n",
    "    for n in nums:\n",
    "        if n>1:\n",
    "            for m in nums:\n",
    "                if m//n>1 and m % n == 0:\n",
    "                    a[m] = False\n",
    "                    \n",
    "    prime = nums[a]\n",
    "    #print(prime)\n",
    "    \n",
    "    return prime\n",
    "\n",
    "#prime_func(20)\n",
    "\n",
    "#print('\\n')\n",
    "\n",
    "n = []\n",
    "t = []\n",
    "\n",
    "\n",
    "for i in range(1,1000,50):\n",
    "    start = time.time()\n",
    "    prime_func(i)\n",
    "    t.append(time.time()-start)\n",
    "    n.append(i)\n",
    "\n",
    "\n",
    "plt.clf()\n",
    "plt.plot(n,t,'o',markersize=1.5)\n",
    "plt.show()"
   ]
  },
  {
   "cell_type": "code",
   "execution_count": 8,
   "metadata": {},
   "outputs": [
    {
     "name": "stdout",
     "output_type": "stream",
     "text": [
      "[False False  True  True False  True False  True False False False  True\n",
      " False  True False False False  True False  True False]\n"
     ]
    },
    {
     "data": {
      "text/plain": [
       "array([ 2,  3,  5,  7, 11, 13, 17, 19])"
      ]
     },
     "execution_count": 8,
     "metadata": {},
     "output_type": "execute_result"
    }
   ],
   "source": [
    "import timeit\n",
    "\n",
    "#%timeit [prime_func(N) for N in range(1,300)] \n",
    "\n",
    "def prime_func_adv(N):\n",
    "    a = np.array([True for i in range(0,N+1)])\n",
    "    a[0:2] = False \n",
    "    nums = np.arange(0,N+1,1) \n",
    "        \n",
    "    \n",
    "    for n in nums:\n",
    "        if n>= 2 and n < (int(np.sqrt(N))):\n",
    "            if a[n] == True:  \n",
    "                for j in range(n*n,N+1,n):\n",
    "                   a[j] = False           \n",
    "    \n",
    "    print(a)\n",
    "    prime = nums[a]\n",
    "    \n",
    "    #print(prime)\n",
    "    \n",
    "    return prime\n",
    "\n",
    "prime_func_adv(20)"
   ]
  },
  {
   "cell_type": "markdown",
   "metadata": {},
   "source": [
    "8\\. Diffusion using random walk\n",
    "\n",
    "Consider a simple random walk process: at each step in time, a walker jumps right or left (+1 or -1) with equal probability. The goal is to find the typical distance from the origin of a random walker after a given amount of time. \n",
    "To do that, let's simulate many walkers and create a 2D array with each walker as a raw and the actual time evolution as columns\n",
    "\n",
    "  * Take 1000 walkers and let them walk for 200 steps\n",
    "  * Use randint to create a 2D array of size walkers x steps with values -1 or 1\n",
    "  * Build the actual walking distances for each walker (i.e. another 2D array \"summing on each raw\")\n",
    "  * Take the square of that 2D array (elementwise)\n",
    "  * Compute the mean of the squared distances at each step (i.e. the mean along the columns)\n",
    "  * Plot the average distances (sqrt(distance\\*\\*2)) as a function of time (step)\n",
    "  \n",
    "Did you get what you expected?"
   ]
  },
  {
   "cell_type": "code",
   "execution_count": 9,
   "metadata": {},
   "outputs": [
    {
     "name": "stdout",
     "output_type": "stream",
     "text": [
      "[[ -1.   0.  -1. ...  -4.  -3.  -4.]\n",
      " [  1.   2.   1. ...  18.  17.  16.]\n",
      " [  1.   2.   1. ...  16.  15.  16.]\n",
      " ...\n",
      " [ -1.   0.   1. ... -18. -17. -16.]\n",
      " [ -1.  -2.  -3. ...   4.   3.   2.]\n",
      " [ -1.   0.  -1. ...  24.  25.  24.]]\n",
      "[[  1.   0.   1. ...  16.   9.  16.]\n",
      " [  1.   4.   1. ... 324. 289. 256.]\n",
      " [  1.   4.   1. ... 256. 225. 256.]\n",
      " ...\n",
      " [  1.   0.   1. ... 324. 289. 256.]\n",
      " [  1.   4.   9. ...  16.   9.   4.]\n",
      " [  1.   0.   1. ... 576. 625. 576.]]\n",
      "[  1.      1.976   2.968   4.02    4.8     5.672   6.488   7.364   8.408\n",
      "   9.192  10.312  11.28   12.152  13.316  14.24   14.82   15.416  16.548\n",
      "  17.944  19.244  20.032  21.208  22.192  22.924  23.968  25.124  26.192\n",
      "  26.904  28.     29.036  30.136  31.26   32.552  34.256  35.544  36.768\n",
      "  37.952  38.74   39.016  39.744  41.08   42.38   43.136  44.724  45.768\n",
      "  46.664  47.56   48.584  49.464  49.7    51.12   51.9    52.832  53.22\n",
      "  54.64   56.096  57.608  59.34   60.712  62.228  64.128  64.936  64.936\n",
      "  65.584  65.848  66.812  67.528  68.288  69.624  71.224  72.328  73.74\n",
      "  74.8    75.572  76.776  78.732  79.496  80.464  80.768  82.008  83.288\n",
      "  83.884  84.544  85.996  86.576  87.376  89.32   90.496  91.28   92.08\n",
      "  92.272  92.7    93.24   93.82   94.776  95.396  96.872  98.668  97.6\n",
      "  99.552 101.336 103.048 103.984 104.22  105.752 107.028 108.328 109.432\n",
      " 110.776 111.204 112.728 112.844 113.24  113.112 113.904 114.628 116.184\n",
      " 116.812 117.376 117.676 119.52  121.64  122.04  123.892 124.536 126.24\n",
      " 127.248 128.636 129.512 130.248 130.272 131.004 133.248 134.252 136.368\n",
      " 138.86  140.112 139.112 140.576 142.416 142.72  143.056 142.968 144.344\n",
      " 144.4   145.292 146.08  147.944 149.544 151.62  154.224 154.88  157.528\n",
      " 158.268 159.344 160.244 161.096 162.732 162.56  162.948 164.216 164.504\n",
      " 163.872 163.824 163.536 164.184 166.328 168.796 169.384 172.    173.776\n",
      " 175.04  175.104 174.804 175.664 176.872 175.976 177.744 180.16  181.948\n",
      " 183.968 185.564 185.288 187.344 190.208 189.936 190.448 191.284 192.464\n",
      " 192.968 191.824 191.84  193.248 194.252 194.92  197.228 198.456 199.98\n",
      " 200.248 201.724]\n"
     ]
    },
    {
     "data": {
      "image/png": "[encoded data removed]",
      "text/plain": [
       "<Figure size 432x288 with 1 Axes>"
      ]
     },
     "metadata": {
      "needs_background": "light"
     },
     "output_type": "display_data"
    }
   ],
   "source": [
    "npr.seed(123)\n",
    "walkers = 1000\n",
    "steps = 200\n",
    "a = npr.randint(0,2,size=(walkers,steps))\n",
    "a[ a == 0] = -1\n",
    "\n",
    "#print(a.shape)\n",
    "#print(a)\n",
    "\n",
    "d = np.zeros((walkers, steps))\n",
    "\n",
    "for i in range(walkers):\n",
    "    for j in range(steps):\n",
    "        if (j==0):\n",
    "            d[i][j] = a[i][j]\n",
    "        else:\n",
    "            d[i][j] = a[i][j] + d[i][j-1]\n",
    "\n",
    "\n",
    "print(d)\n",
    "d_2 = np.power(d,2)\n",
    "print(d_2)\n",
    "m = np.mean(d_2,axis=0)\n",
    "print(m)\n",
    "\n",
    "#%matplotlib inline \n",
    "# tell jupyter to plot inline\n",
    "\n",
    "#plt.plot(np.sqrt(np.arange(0,steps)),markersize=1)\n",
    "plt.plot( np.sqrt(m),'o',markersize=1)\n",
    "plt.show()\n"
   ]
  },
  {
   "cell_type": "markdown",
   "metadata": {},
   "source": [
    "9\\. Analyze a data file \n",
    "  * Download the population of hares, lynxes and carrots at the beginning of the last century.\n",
    "    ```python\n",
    "    ! wget https://www.dropbox.com/s/3vigxoqayo389uc/populations.txt\n",
    "    ```\n",
    "\n",
    "  * Check the content by looking within the file\n",
    "  * Load the data (use an appropriate numpy method) into a 2D array\n",
    "  * Create arrays out of the columns, the arrays being (in order): *year*, *hares*, *lynxes*, *carrots* \n",
    "  * Plot the 3 populations over the years\n",
    "  * Compute the main statistical properties of the dataset (mean, std, correlations, etc.)\n",
    "  * Which species has the highest population each year?\n",
    "\n",
    "Do you feel there is some evident correlation here? [Studies](https://www.enr.gov.nt.ca/en/services/lynx/lynx-snowshoe-hare-cycle) tend to believe so."
   ]
  },
  {
   "cell_type": "code",
   "execution_count": 10,
   "metadata": {},
   "outputs": [
    {
     "name": "stdout",
     "output_type": "stream",
     "text": [
      "(21, 4)\n",
      "[1900. 1901. 1902. 1903. 1904. 1905. 1906. 1907. 1908. 1909. 1910. 1911.\n",
      " 1912. 1913. 1914. 1915. 1916. 1917. 1918. 1919. 1920.]\n"
     ]
    },
    {
     "data": {
      "image/png": "[encoded data removed]",
      "text/plain": [
       "<Figure size 432x288 with 1 Axes>"
      ]
     },
     "metadata": {
      "needs_background": "light"
     },
     "output_type": "display_data"
    },
    {
     "name": "stdout",
     "output_type": "stream",
     "text": [
      "34080.95238095238 20897.906458089667\n",
      "20166.666666666668 16254.591536908763\n",
      "42400.0 3322.5062255844787\n"
     ]
    },
    {
     "data": {
      "text/plain": [
       "array([[ 1.        , -0.01660378,  0.07189206],\n",
       "       [-0.01660378,  1.        , -0.68057717],\n",
       "       [ 0.07189206, -0.68057717,  1.        ]])"
      ]
     },
     "execution_count": 10,
     "metadata": {},
     "output_type": "execute_result"
    }
   ],
   "source": [
    "y = np.loadtxt('/Users/alicepagano/Documents/Università/Magistrale-1°anno/Laboratory of Computational Physics/Course/Laboratory/LaboratoryOfComputationalPhysics/populations.txt')\n",
    "print(y.shape)\n",
    "\n",
    "year = np.zeros(y.shape[0])\n",
    "hares = np.zeros(y.shape[0])\n",
    "lynxes = np.zeros(y.shape[0])\n",
    "carrots = np.zeros(y.shape[0])\n",
    "\n",
    "for i in range(y.shape[0]):\n",
    "    year[i] = y[i][0]\n",
    "    hares[i] = y[i][1]\n",
    "    lynxes[i] = y[i][2]\n",
    "    carrots[i] = y[i][3]\n",
    "\n",
    "print(year)\n",
    "\n",
    "%matplotlib inline \n",
    "# tell jupyter to plot inline\n",
    "\n",
    "plt.plot(year,hares,'blue')\n",
    "plt.plot( year,lynxes,'red')\n",
    "plt.plot( year,carrots,'orange')\n",
    "\n",
    "plt.show()\n",
    "\n",
    "m_hares = np.mean(hares)\n",
    "std_hares = np.std(hares)\n",
    "print(m_hares,std_hares)\n",
    "m_lynxes = np.mean(lynxes)\n",
    "std_lynxes = np.std(lynxes)\n",
    "print(m_lynxes,std_lynxes)\n",
    "m_carrots = np.mean(carrots)\n",
    "std_carrots = np.std(carrots)\n",
    "print(m_carrots,std_carrots)\n",
    "\n",
    "np.corrcoef([hares, carrots,lynxes])"
   ]
  },
  {
   "cell_type": "code",
   "execution_count": null,
   "metadata": {},
   "outputs": [],
   "source": []
  }
 ],
 "metadata": {
  "kernelspec": {
   "display_name": "Python 3",
   "language": "python",
   "name": "python3"
  },
  "language_info": {
   "codemirror_mode": {
    "name": "ipython",
    "version": 3
   },
   "file_extension": ".py",
   "mimetype": "text/x-python",
   "name": "python",
   "nbconvert_exporter": "python",
   "pygments_lexer": "ipython3",
   "version": "3.7.4"
  }
 },
 "nbformat": 4,
 "nbformat_minor": 4
}
