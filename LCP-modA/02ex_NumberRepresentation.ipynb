{
 "cells": [
  {
   "cell_type": "markdown",
   "metadata": {},
   "source": [
    "1\\. Write a function that converts number representation (bin<->dec<->hex)"
   ]
  },
  {
   "cell_type": "code",
   "execution_count": null,
   "metadata": {},
   "outputs": [],
   "source": [
    "def convert(x,type):\n",
    "    if (type == 2):\n",
    "        x_dec = int(x,2) \n",
    "        x_hex = hex(x_dec)\n",
    "        return x_dec,x_hex   \n",
    "    \n",
    "    if (type == 10):\n",
    "        x_bin = bin(x)\n",
    "        x_hex = hex(x)\n",
    "        return x_bin,x_hex\n",
    "\n",
    "    if(type == 16):\n",
    "        x_dec = int(x,16)\n",
    "        x_bin = bin(x_dec)\n",
    "        return x_dec,x_bin      \n",
    "\n",
    "convert(2,10)"
   ]
  },
  {
   "cell_type": "code",
   "execution_count": 2,
   "metadata": {},
   "outputs": [
    {
     "name": "stdout",
     "output_type": "stream",
     "text": [
      "181\n",
      "111001\n",
      "978602\n",
      "a89c"
     ]
    }
   ],
   "source": [
    "def converter(n, conversion):\n",
    "    if conversion == \"bin2dec\":\n",
    "        dec, i = 0, 1\n",
    "        for s in str(n):\n",
    "            dec += int(s) * 2**(len(str(n)) - i)\n",
    "            i += 1\n",
    "        print(dec)\n",
    "    \n",
    "    elif conversion == \"dec2bin\":\n",
    "        if n > 1:\n",
    "            converter(n//2, conversion)\n",
    "        print(n%2,end='')\n",
    "    \n",
    "    elif conversion == \"hex2dec\":\n",
    "        dec, i, val = 0, 1, 0\n",
    "        for s in str(n):\n",
    "            if s == 'a':\n",
    "                val = 10\n",
    "            elif s == 'b':\n",
    "                val = 11\n",
    "            elif s == 'c':\n",
    "                val = 12\n",
    "            elif s == 'd':\n",
    "                val = 13\n",
    "            elif s == 'e':\n",
    "                val = 14\n",
    "            elif s == 'f':\n",
    "                val = 15\n",
    "            dec += val * 16**(len(str(n)) - i)\n",
    "            i += 1\n",
    "        print(dec)\n",
    "\n",
    "    elif conversion == \"dec2hex\":\n",
    "        if n > 15:\n",
    "            converter(n//16, conversion)\n",
    "        if n%16 == 10:\n",
    "            print('a',end='')\n",
    "        elif n%16 == 11:\n",
    "            print('b',end='')\n",
    "        elif n%16 == 12:\n",
    "            print('c',end='')\n",
    "        elif n%16 == 13:\n",
    "            print('d',end='')\n",
    "        elif n%16 == 14:\n",
    "            print('e',end='')\n",
    "        elif n%16 == 15:\n",
    "            print('f',end='')\n",
    "        else:\n",
    "            print(n%16,end='')\n",
    "    else:\n",
    "        print(\"Error on input\")\n",
    "\n",
    "x = 57\n",
    "converter('10110101',\"bin2dec\")\n",
    "converter(x,\"dec2bin\")\n",
    "print('')\n",
    "converter('e23a5',\"hex2dec\")\n",
    "converter(43164,\"dec2hex\")"
   ]
  },
  {
   "cell_type": "markdown",
   "metadata": {},
   "source": [
    "2\\. Write a function that converts a 32 bit word into a single precision floating point (i.e. interprets the various bits as sign, mantissa and exponent)"
   ]
  },
  {
   "cell_type": "code",
   "execution_count": 3,
   "metadata": {},
   "outputs": [
    {
     "name": "stdout",
     "output_type": "stream",
     "text": [
      "32\n",
      "1.0\n",
      "127\n"
     ]
    },
    {
     "data": {
      "text/plain": [
       "('00000000000000000000000', '01111111', 0, 1.0)"
      ]
     },
     "execution_count": 3,
     "metadata": {},
     "output_type": "execute_result"
    }
   ],
   "source": [
    "import math\n",
    "\n",
    "bias = 127\n",
    "\n",
    "def floating_point(x):\n",
    "    print(len(x))\n",
    "    f =  x[9:32]\n",
    "    \n",
    "    mantissa = 1\n",
    "    for i in range(len(f)):\n",
    "        mantissa += int(f[i])*pow(2,-i-1)\n",
    "\n",
    "    print(mantissa)\n",
    "        \n",
    "    e = x[1:9]\n",
    "    exp = 0\n",
    "    for i in range(len(e)):\n",
    "        exp += int(e[i])*pow(2,7-i)  \n",
    "    \n",
    "    print(exp)\n",
    "    \n",
    "    s = int(x[0])\n",
    "    \n",
    "    x_float = pow(-1,s)*mantissa*pow(2,exp-bias)\n",
    "    \n",
    "    \n",
    "    return f,e,s,x_float\n",
    "\n",
    "floating_point('00111111100000000000000000000000')"
   ]
  },
  {
   "cell_type": "markdown",
   "metadata": {},
   "source": [
    "3\\. Write a program to determine the underflow and overflow limits (within a factor of 2) for python on your computer. \n",
    "\n",
    "**Tips**: define two variables inizialized to 1 and halve/double them enough time to exceed the under/over-flow limits  "
   ]
  },
  {
   "cell_type": "code",
   "execution_count": 4,
   "metadata": {},
   "outputs": [
    {
     "name": "stdout",
     "output_type": "stream",
     "text": [
      "sys.float_info(max=1.7976931348623157e+308, max_exp=1024, max_10_exp=308, min=2.2250738585072014e-308, min_exp=-1021, min_10_exp=-307, dig=15, mant_dig=53, epsilon=2.220446049250313e-16, radix=2, rounds=1)\n"
     ]
    },
    {
     "data": {
      "text/plain": [
       "(179769313486231590772930519078902473361797697894230657273430081157732675805500963132708477322407536021120113879871393357658789768814416622492847430639474124377767893424865485276302219601246094119453082952085005768838150682342462881473913110540827237163350510684586298239947245938479716304835356329624224137216,\n",
       " 2.2250738585072014e-308)"
      ]
     },
     "execution_count": 4,
     "metadata": {},
     "output_type": "execute_result"
    }
   ],
   "source": [
    "import sys\n",
    "print (sys.float_info)\n",
    "\n",
    "def over_under_limits():\n",
    "    x=1\n",
    "    y=1 \n",
    "    while (x < 1.7976931348623157e+308 ):\n",
    "        x *= 2\n",
    "    while (y > 2.2250738585072014e-308 ):      \n",
    "        y /= 2  \n",
    "        \n",
    "    return x,y\n",
    "\n",
    "over_under_limits()"
   ]
  },
  {
   "cell_type": "markdown",
   "metadata": {},
   "source": [
    "4\\. Write a program to determine the machine precision\n",
    "\n",
    "**Tips**: define a new variable by adding a smaller and smaller value (proceeding similarly to prob. 2) to an original variable and check the point where the two are the same "
   ]
  },
  {
   "cell_type": "code",
   "execution_count": 5,
   "metadata": {},
   "outputs": [
    {
     "name": "stdout",
     "output_type": "stream",
     "text": [
      "5.551115123125783e-17\n",
      "1.0\n"
     ]
    }
   ],
   "source": [
    "epsilon = 1\n",
    "y = 1\n",
    "x = 3\n",
    "while (x != y):\n",
    "    x = y + epsilon\n",
    "    epsilon = epsilon/2\n",
    "\n",
    "print(epsilon)\n",
    "print(x)"
   ]
  },
  {
   "cell_type": "markdown",
   "metadata": {},
   "source": [
    "5\\. Write a function that takes in input three parameters $a$, $b$ and $c$ and prints out the two solutions to the quadratic equation $ax^2+bx+c=0$ using the standard formula:\n",
    "$$\n",
    "x=\\frac{-b\\pm\\sqrt{b^2-4ac}}{2a}\n",
    "$$\n",
    "\n",
    "(a) use the program to compute the solution for $a=0.001$, $b=1000$ and $c=0.001$\n",
    "\n",
    "(b) re-express the standard solution formula by multiplying top and bottom by $-b\\mp\\sqrt{b^2-4ac}$ and again find the solution for $a=0.001$, $b=1000$ and $c=0.001$. How does it compare with what previously obtained? Why?\n",
    "\n",
    "(c) write a function that compute the roots of a quadratic equation accurately in all cases"
   ]
  },
  {
   "cell_type": "code",
   "execution_count": 6,
   "metadata": {},
   "outputs": [
    {
     "data": {
      "text/plain": [
       "(-999999.999999, -9.999894245993346e-07)"
      ]
     },
     "execution_count": 6,
     "metadata": {},
     "output_type": "execute_result"
    }
   ],
   "source": [
    "def quadratic_eq1(a,b,c):\n",
    "    x_1 = (-b - math.sqrt(b*b - 4*a*c))/(2*a)\n",
    "    x_2 = (-b + math.sqrt(b*b - 4*a*c))/(2*a) \n",
    "    \n",
    "    return x_1,x_2\n",
    "    \n",
    "quadratic_eq1(0.001,1000,0.001)"
   ]
  },
  {
   "cell_type": "code",
   "execution_count": 7,
   "metadata": {},
   "outputs": [
    {
     "data": {
      "text/plain": [
       "(-999999.999999, -9.999894245993346e-07)"
      ]
     },
     "execution_count": 7,
     "metadata": {},
     "output_type": "execute_result"
    }
   ],
   "source": [
    "def quadratic_eq2(a,b,c):\n",
    "    x_1 = (-b - math.sqrt(b*b - 4*a*c))/(2*a)*((-b + math.sqrt(b*b - 4*a*c))/(2*a))/((-b + math.sqrt(b*b - 4*a*c))/(2*a))\n",
    "    x_2 = (-b + math.sqrt(b*b - 4*a*c))/(2*a)*((-b - math.sqrt(b*b - 4*a*c))/(2*a))/((-b - math.sqrt(b*b - 4*a*c))/(2*a)) \n",
    "    \n",
    "    return x_1,x_2\n",
    "\n",
    "quadratic_eq2(0.001,1000,0.001)"
   ]
  },
  {
   "cell_type": "markdown",
   "metadata": {},
   "source": [
    "6\\. Write a program that implements the function $f(x)=x(x−1)$\n",
    "\n",
    "(a) Calculate the derivative of the function at the point $x = 1$ using the derivative definition:\n",
    "\n",
    "$$\n",
    "\\frac{{\\rm d}f}{{\\rm d}x} = \\lim_{\\delta\\to0} \\frac{f(x+\\delta)-f(x)}{\\delta}\n",
    "$$\n",
    "\n",
    "with $\\delta = 10^{−2}$. Calculate the true value of the same derivative analytically and compare with the answer your program gives. The two will not agree perfectly. Why not?\n",
    "\n",
    "(b) Repeat the calculation for $\\delta = 10^{−4}, 10^{−6}, 10^{−8}, 10^{−10}, 10^{−12}$ and $10^{−14}$. How does the accuracy scales with $\\delta$?"
   ]
  },
  {
   "cell_type": "code",
   "execution_count": 8,
   "metadata": {},
   "outputs": [
    {
     "data": {
      "text/plain": [
       "<Figure size 640x480 with 1 Axes>"
      ]
     },
     "metadata": {},
     "output_type": "display_data"
    }
   ],
   "source": [
    "delta= 0.001\n",
    "\n",
    "def function(x):\n",
    "    f = x*(x-1)   \n",
    "    return f\n",
    "\n",
    "\n",
    "def derivative(x,function,delta):\n",
    "    d = (function(x+delta)-function(x))/delta\n",
    "    return d\n",
    "\n",
    "derivative(1,function,delta)\n",
    "\n",
    "delta = [0.0001,0.00001,0.000001,0.000000001,0.000000001]\n",
    "\n",
    "der = [derivative(1,function,d) for d in delta]\n",
    "\n",
    "import matplotlib.pyplot as plt\n",
    "\n",
    "plt.clf()\n",
    "plt.plot(delta,der)\n",
    "plt.show()"
   ]
  },
  {
   "cell_type": "markdown",
   "metadata": {},
   "source": [
    "7\\. Consider the integral of the semicircle of radius 1:\n",
    "$$\n",
    "I=\\int_{-1}^{1} \\sqrt(1-x^2) {\\rm d}x\n",
    "$$\n",
    "which it's known to be $I=\\frac{\\pi}{2}=1.57079632679...$.\n",
    "Alternatively we can use the Riemann definition of the integral:\n",
    "$$\n",
    "I=\\lim_{N\\to\\infty} \\sum_{k=1}^{N} h y_k \n",
    "$$\n",
    "\n",
    "with $h=2/N$ the width of each of the $N$ slices the domain is divided into and where\n",
    "$y_k$ is the value of the function at the $k-$th slice.\n",
    "\n",
    "(a) Write a programe to compute the integral with $N=100$. How does the result compares to the true value?\n",
    "\n",
    "(b) How much can $N$ be increased if the computation needs to be run in less than a second? What is the gain in running it for 1 minute? \n"
   ]
  },
  {
   "cell_type": "code",
   "execution_count": 9,
   "metadata": {},
   "outputs": [
    {
     "name": "stdout",
     "output_type": "stream",
     "text": [
      "1.5708957388056586\n",
      "difference: 0.009412189094627044\n"
     ]
    }
   ],
   "source": [
    "import numpy as np\n",
    "\n",
    "def func(x):\n",
    "    f = np.sqrt(1-x*x) \n",
    "    return f\n",
    "\n",
    "def integral(N):\n",
    "    h = 2/N\n",
    "    I = 0\n",
    "    for k in range(N):\n",
    "        I += h*func(k/N)        \n",
    "    return I\n",
    "\n",
    "print(integral(10000))\n",
    "\n",
    "true = np.pi/2\n",
    "\n",
    "print('difference:', abs(true-integral(100)) )\n",
    "\n",
    "#x = integral(1000000)\n",
    "#%timeit integral(1000000)\n",
    "#print('difference:', abs(true-x) )\n",
    "\n",
    "#y = integral(10000000)\n",
    "#%timeit integral(10000000)\n",
    "#print('difference:', abs(true-y) )"
   ]
  },
  {
   "cell_type": "code",
   "execution_count": null,
   "metadata": {},
   "outputs": [],
   "source": []
  }
 ],
 "metadata": {
  "kernelspec": {
   "display_name": "Python 3",
   "language": "python",
   "name": "python3"
  },
  "language_info": {
   "codemirror_mode": {
    "name": "ipython",
    "version": 3
   },
   "file_extension": ".py",
   "mimetype": "text/x-python",
   "name": "python",
   "nbconvert_exporter": "python",
   "pygments_lexer": "ipython3",
   "version": "3.7.4"
  }
 },
 "nbformat": 4,
 "nbformat_minor": 4
}
