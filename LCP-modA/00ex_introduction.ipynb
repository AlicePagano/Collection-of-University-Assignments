{
 "cells": [
  {
   "cell_type": "markdown",
   "metadata": {},
   "source": [
    "1. The MickeyMouse problem\n",
    "\n",
    "a) Write a program that prints the numbers from 1 to 100. But for multiples of three print Mickey instead of the number and for the multiples of five print Mouse. For numbers which are multiples of both three and five print MickeyMouse\n",
    "\n",
    "b) Put the result in a tuple and substitute Mickey with Donald and Mouse with Duck"
   ]
  },
  {
   "cell_type": "code",
   "execution_count": 1,
   "metadata": {},
   "outputs": [
    {
     "name": "stdout",
     "output_type": "stream",
     "text": [
      "1\n",
      "2\n",
      "Mickey\n",
      "3\n",
      "4\n",
      "Mouse\n",
      "Mickey\n",
      "6\n",
      "7\n",
      "8\n",
      "Mickey\n",
      "9\n",
      "Mouse\n",
      "11\n",
      "Mickey\n",
      "12\n",
      "13\n",
      "14\n",
      "MickeyMouse\n",
      "MickeyMouse\n",
      "16\n",
      "17\n",
      "Mickey\n",
      "18\n",
      "19\n",
      "Mouse\n",
      "Mickey\n",
      "21\n",
      "22\n",
      "23\n",
      "Mickey\n",
      "24\n",
      "Mouse\n",
      "26\n",
      "Mickey\n",
      "27\n",
      "28\n",
      "29\n",
      "MickeyMouse\n",
      "MickeyMouse\n",
      "31\n",
      "32\n",
      "Mickey\n",
      "33\n",
      "34\n",
      "Mouse\n",
      "Mickey\n",
      "36\n",
      "37\n",
      "38\n",
      "Mickey\n",
      "39\n",
      "Mouse\n",
      "41\n",
      "Mickey\n",
      "42\n",
      "43\n",
      "44\n",
      "MickeyMouse\n",
      "MickeyMouse\n",
      "46\n",
      "47\n",
      "Mickey\n",
      "48\n",
      "49\n",
      "Mouse\n",
      "Mickey\n",
      "51\n",
      "52\n",
      "53\n",
      "Mickey\n",
      "54\n",
      "Mouse\n",
      "56\n",
      "Mickey\n",
      "57\n",
      "58\n",
      "59\n",
      "MickeyMouse\n",
      "MickeyMouse\n",
      "61\n",
      "62\n",
      "Mickey\n",
      "63\n",
      "64\n",
      "Mouse\n",
      "Mickey\n",
      "66\n",
      "67\n",
      "68\n",
      "Mickey\n",
      "69\n",
      "Mouse\n",
      "71\n",
      "Mickey\n",
      "72\n",
      "73\n",
      "74\n",
      "MickeyMouse\n",
      "MickeyMouse\n",
      "76\n",
      "77\n",
      "Mickey\n",
      "78\n",
      "79\n",
      "Mouse\n",
      "Mickey\n",
      "81\n",
      "82\n",
      "83\n",
      "Mickey\n",
      "84\n",
      "Mouse\n",
      "86\n",
      "Mickey\n",
      "87\n",
      "88\n",
      "89\n",
      "MickeyMouse\n",
      "MickeyMouse\n",
      "91\n",
      "92\n",
      "Mickey\n",
      "93\n",
      "94\n",
      "Mouse\n",
      "Mickey\n",
      "96\n",
      "97\n",
      "98\n",
      "Mickey\n",
      "99\n",
      "Mouse\n"
     ]
    }
   ],
   "source": [
    "a = ()\n",
    "for i in range(1,101):\n",
    "    \n",
    "    if i % 3 == 0:\n",
    "        if i % (3*5) == 0:\n",
    "            print('MickeyMouse')\n",
    "            a = a + ('MickeyMouse',)\n",
    "        else:    \n",
    "            print('Mickey')\n",
    "            a = a + ('Mickey',)         \n",
    "    if i % 5 == 0:\n",
    "        if i % (3*5) == 0:\n",
    "            print('MickeyMouse')\n",
    "            a = a + ('MickeyMouse',)\n",
    "        else :    \n",
    "            print('Mouse')\n",
    "            a = a + ('Mouse',)            \n",
    "    else: \n",
    "        a = a + (i,)\n",
    "        print(i)"
   ]
  },
  {
   "cell_type": "code",
   "execution_count": 2,
   "metadata": {},
   "outputs": [
    {
     "name": "stdout",
     "output_type": "stream",
     "text": [
      "(1, 2, 'Mickey', 3, 4, 'Mouse', 'Mickey', 6, 7, 8, 'Mickey', 9, 'Mouse', 11, 'Mickey', 12, 13, 14, 'MickeyMouse', 'MickeyMouse', 16, 17, 'Mickey', 18, 19, 'Mouse', 'Mickey', 21, 22, 23, 'Mickey', 24, 'Mouse', 26, 'Mickey', 27, 28, 29, 'MickeyMouse', 'MickeyMouse', 31, 32, 'Mickey', 33, 34, 'Mouse', 'Mickey', 36, 37, 38, 'Mickey', 39, 'Mouse', 41, 'Mickey', 42, 43, 44, 'MickeyMouse', 'MickeyMouse', 46, 47, 'Mickey', 48, 49, 'Mouse', 'Mickey', 51, 52, 53, 'Mickey', 54, 'Mouse', 56, 'Mickey', 57, 58, 59, 'MickeyMouse', 'MickeyMouse', 61, 62, 'Mickey', 63, 64, 'Mouse', 'Mickey', 66, 67, 68, 'Mickey', 69, 'Mouse', 71, 'Mickey', 72, 73, 74, 'MickeyMouse', 'MickeyMouse', 76, 77, 'Mickey', 78, 79, 'Mouse', 'Mickey', 81, 82, 83, 'Mickey', 84, 'Mouse', 86, 'Mickey', 87, 88, 89, 'MickeyMouse', 'MickeyMouse', 91, 92, 'Mickey', 93, 94, 'Mouse', 'Mickey', 96, 97, 98, 'Mickey', 99, 'Mouse')\n",
      "\n",
      "\n",
      "[1, 2, 'Donald', 3, 4, 'Duck', 'Donald', 6, 7, 8, 'Donald', 9, 'Duck', 11, 'Donald', 12, 13, 14, 'MickeyMouse', 'MickeyMouse', 16, 17, 'Donald', 18, 19, 'Duck', 'Donald', 21, 22, 23, 'Donald', 24, 'Duck', 26, 'Donald', 27, 28, 29, 'MickeyMouse', 'MickeyMouse', 31, 32, 'Donald', 33, 34, 'Duck', 'Donald', 36, 37, 38, 'Donald', 39, 'Duck', 41, 'Donald', 42, 43, 44, 'MickeyMouse', 'MickeyMouse', 46, 47, 'Donald', 48, 49, 'Duck', 'Donald', 51, 52, 53, 'Donald', 54, 'Duck', 56, 'Donald', 57, 58, 59, 'MickeyMouse', 'MickeyMouse', 61, 62, 'Donald', 63, 64, 'Duck', 'Donald', 66, 67, 68, 'Donald', 69, 'Duck', 71, 'Donald', 72, 73, 74, 'MickeyMouse', 'MickeyMouse', 76, 77, 'Donald', 78, 79, 'Duck', 'Donald', 81, 82, 83, 'Donald', 84, 'Duck', 86, 'Donald', 87, 88, 89, 'MickeyMouse', 'MickeyMouse', 91, 92, 'Donald', 93, 94, 'Duck', 'Donald', 96, 97, 98, 'Donald', 99, 'Duck']\n"
     ]
    }
   ],
   "source": [
    "print(a)\n",
    "a = list(a)\n",
    "\n",
    "print('\\n')\n",
    "for i in range(len(a)):\n",
    "    if a[i] == 'Mickey':\n",
    "        a[i]='Donald'\n",
    "    if a[i] == 'Mouse':\n",
    "        a[i]= 'Duck'\n",
    "\n",
    "print(a)"
   ]
  },
  {
   "cell_type": "markdown",
   "metadata": {},
   "source": [
    "2\\. The swap function\n",
    "\n",
    "Write a function that swap the values of two input variables x and y (whatever the type). Try to do that also without a temporary variable"
   ]
  },
  {
   "cell_type": "code",
   "execution_count": 3,
   "metadata": {},
   "outputs": [
    {
     "name": "stdout",
     "output_type": "stream",
     "text": [
      "2 3\n"
     ]
    }
   ],
   "source": [
    "def my_function(a,b):\n",
    "    \n",
    "    x = a\n",
    "    a = b\n",
    "    b = x \n",
    "    print(a,b)\n",
    "    \n",
    "my_function(3,2)"
   ]
  },
  {
   "cell_type": "markdown",
   "metadata": {},
   "source": [
    "3\\. Computing the distance\n",
    "\n",
    "Write a function that calculates and returns the euclidean distance between two points *u* and *v*, where *u* and *v* are both 2-tuples *(x,y)*. For example, if *u=(3,0)* and *v=(0,4)*, the function should return 5"
   ]
  },
  {
   "cell_type": "code",
   "execution_count": 4,
   "metadata": {},
   "outputs": [
    {
     "name": "stdout",
     "output_type": "stream",
     "text": [
      "5.0\n"
     ]
    }
   ],
   "source": [
    "import numpy as np\n",
    "\n",
    "u = (3,0)\n",
    "v = (0,4)\n",
    "\n",
    "def distance(a,b):\n",
    "    \n",
    "    d = np.sqrt( np.power(a[0]-b[0],2) + np.power(a[1]-b[1],2) )\n",
    "    print(d)\n",
    "    \n",
    "distance(u,v)"
   ]
  },
  {
   "cell_type": "markdown",
   "metadata": {},
   "source": [
    "4\\. Counting letters\n",
    "\n",
    "Write a program to calculate the number of times each character occurs in a given string *s*. Ignore differneces in capitalization"
   ]
  },
  {
   "cell_type": "code",
   "execution_count": 5,
   "metadata": {},
   "outputs": [],
   "source": [
    "s=\"Write a program that prints the numbers from 1 to 100. \\\n",
    "But for multiples of three print Mickey instead of the number and for the multiples of five print Mouse. \\\n",
    "For numbers which are multiples of both three and five print MickeyMouse\""
   ]
  },
  {
   "cell_type": "code",
   "execution_count": 6,
   "metadata": {},
   "outputs": [
    {
     "name": "stdout",
     "output_type": "stream",
     "text": [
      "write a program that prints the numbers from 1 to 100. but for multiples of three print mickey instead of the number and for the multiples of five print mouse. for numbers which are multiples of both three and five print mickeymouse\n",
      "2 0\n",
      "2 1\n",
      "0 2\n",
      "0 3\n",
      "0 4\n",
      "0 5\n",
      "0 6\n",
      "0 7\n",
      "0 8\n",
      "0 9\n",
      "7 a\n",
      "5 b\n",
      "3 c\n",
      "3 d\n",
      "22 e\n",
      "10 f\n",
      "1 g\n",
      "9 h\n",
      "14 i\n",
      "0 j\n",
      "2 k\n",
      "6 l\n",
      "12 m\n",
      "10 n\n",
      "13 o\n",
      "8 p\n",
      "0 q\n",
      "17 r\n",
      "9 s\n",
      "19 t\n",
      "9 u\n",
      "2 v\n",
      "2 w\n",
      "0 x\n",
      "2 y\n",
      "0 z\n",
      "0 A\n",
      "0 B\n",
      "0 C\n",
      "0 D\n",
      "0 E\n",
      "0 F\n",
      "0 G\n",
      "0 H\n",
      "0 I\n",
      "0 J\n",
      "0 K\n",
      "0 L\n",
      "0 M\n",
      "0 N\n",
      "0 O\n",
      "0 P\n",
      "0 Q\n",
      "0 R\n",
      "0 S\n",
      "0 T\n",
      "0 U\n",
      "0 V\n",
      "0 W\n",
      "0 X\n",
      "0 Y\n",
      "0 Z\n",
      "0 !\n",
      "0 \"\n",
      "0 #\n",
      "0 $\n",
      "0 %\n",
      "0 &\n",
      "0 '\n",
      "0 (\n",
      "0 )\n",
      "0 *\n",
      "0 +\n",
      "0 ,\n",
      "0 -\n",
      "2 .\n",
      "0 /\n",
      "0 :\n",
      "0 ;\n",
      "0 <\n",
      "0 =\n",
      "0 >\n",
      "0 ?\n",
      "0 @\n",
      "0 [\n",
      "0 \\\n",
      "0 ]\n",
      "0 ^\n",
      "0 _\n",
      "0 `\n",
      "0 {\n",
      "0 |\n",
      "0 }\n",
      "0 ~\n",
      "41  \n",
      "0 \t\n",
      "0 \n",
      "\n",
      "0 \n",
      "0 \u000b",
      "\n",
      "0 \f",
      "\n"
     ]
    }
   ],
   "source": [
    "s = s.lower()\n",
    "print(s)\n",
    "\n",
    "import string\n",
    "#list(string.ascii_lowercase)\n",
    "#list(string.whitespace)\n",
    "#list(string.punctuation)\n",
    "#list(string.digits)\n",
    "chars = list(string.printable)\n",
    "\n",
    "count = []\n",
    "\n",
    "for character in chars:\n",
    "    count = s.count(character)\n",
    "    print(count,character)"
   ]
  },
  {
   "cell_type": "markdown",
   "metadata": {},
   "source": [
    "5\\. Isolating the unique\n",
    "\n",
    "Write a function that determines and count the unique numbers in the list *l*"
   ]
  },
  {
   "cell_type": "code",
   "execution_count": 7,
   "metadata": {},
   "outputs": [],
   "source": [
    "l = [36, 45, 58, 3, 74, 96, 64, 45, 31, 10, 24, 19, 33, 86, 99, 18, 63, 70, 85,\n",
    " 85, 63, 47, 56, 42, 70, 84, 88, 55, 20, 54, 8, 56, 51, 79, 81, 57, 37, 91,\n",
    " 1, 84, 84, 36, 66, 9, 89, 50, 42, 91, 50, 95, 90, 98, 39, 16, 82, 31, 92, 41,\n",
    " 45, 30, 66, 70, 34, 85, 94, 5, 3, 36, 72, 91, 84, 34, 87, 75, 53, 51, 20, 89, 51, 20]"
   ]
  },
  {
   "cell_type": "code",
   "execution_count": 8,
   "metadata": {},
   "outputs": [
    {
     "name": "stdout",
     "output_type": "stream",
     "text": [
      "[58, 74, 96, 64, 10, 24, 19, 33, 86, 99, 18, 47, 88, 55, 54, 8, 79, 81, 57, 37, 1, 9, 95, 90, 98, 39, 16, 82, 92, 41, 30, 94, 5, 72, 87, 75, 53] 37\n"
     ]
    }
   ],
   "source": [
    "def unique(l):\n",
    "    \n",
    "    count_list = []\n",
    "    count = 0\n",
    "    for i in l:\n",
    "        if l.count(i) == 1:\n",
    "            count += 1 \n",
    "            count_list.append(i)\n",
    "    print(count_list,count)\n",
    "     \n",
    "unique(l)"
   ]
  },
  {
   "cell_type": "markdown",
   "metadata": {},
   "source": [
    "6\\. Combination of functions\n",
    "\n",
    "Write two functions - one that returns the square of a number, and one that returns the cube. Now write a third function that returns the number raised to the 6th power using the two previous functions."
   ]
  },
  {
   "cell_type": "code",
   "execution_count": 9,
   "metadata": {},
   "outputs": [
    {
     "data": {
      "text/plain": [
       "64"
      ]
     },
     "execution_count": 9,
     "metadata": {},
     "output_type": "execute_result"
    }
   ],
   "source": [
    "def square(x):\n",
    "    \n",
    "    x = np.power(x,2)\n",
    "    \n",
    "    return x\n",
    "\n",
    "square(3)\n",
    "\n",
    "def cube(x):\n",
    "    \n",
    "    x = np.power(x,3)\n",
    "    \n",
    "    return x\n",
    "\n",
    "cube(3)\n",
    "\n",
    "def six(x):\n",
    "    \n",
    "    x = square(cube(x))\n",
    "    \n",
    "    return x\n",
    "\n",
    "six(2)"
   ]
  },
  {
   "cell_type": "markdown",
   "metadata": {},
   "source": [
    "7\\. Cubes\n",
    "\n",
    "Create a list of the cubes of x for x in *[0, 10]* using:\n",
    "\n",
    "a) a for loop\n",
    "\n",
    "b) a list comprehension"
   ]
  },
  {
   "cell_type": "code",
   "execution_count": 10,
   "metadata": {},
   "outputs": [
    {
     "name": "stdout",
     "output_type": "stream",
     "text": [
      "[0, 1, 2, 3, 4, 5, 6, 7, 8, 9, 10]\n",
      "[0, 1, 2, 3, 4, 5, 6, 7, 8, 9, 10]\n"
     ]
    }
   ],
   "source": [
    "list = []\n",
    "\n",
    "for i in range(11):\n",
    "    list.append(i)\n",
    "\n",
    "print(list)\n",
    "\n",
    "\n",
    "list = [i for i in range(11) ]\n",
    "\n",
    "print(list)"
   ]
  },
  {
   "cell_type": "markdown",
   "metadata": {},
   "source": [
    "8\\. Nested list comprehension\n",
    "\n",
    "A Pythagorean triple is an integer solution to the Pythagorean theorem $a^2+b^2=c^2$. The first Pythagorean triple is (3,4,5). Find and put in a tuple all unique Pythagorean triples for the positive integers a, b and c less than 100."
   ]
  },
  {
   "cell_type": "code",
   "execution_count": 11,
   "metadata": {},
   "outputs": [
    {
     "name": "stdout",
     "output_type": "stream",
     "text": [
      "((3, 4, 5), (4, 3, 5), (5, 12, 13), (6, 8, 10), (7, 24, 25), (8, 6, 10), (8, 15, 17), (9, 12, 15), (9, 40, 41), (10, 24, 26), (11, 60, 61), (12, 5, 13), (12, 9, 15), (12, 16, 20), (12, 35, 37), (13, 84, 85), (14, 48, 50), (15, 8, 17), (15, 20, 25), (15, 36, 39), (16, 12, 20), (16, 30, 34), (16, 63, 65), (18, 24, 30), (18, 80, 82), (20, 15, 25), (20, 21, 29), (20, 48, 52), (21, 20, 29), (21, 28, 35), (21, 72, 75), (24, 7, 25), (24, 10, 26), (24, 18, 30), (24, 32, 40), (24, 45, 51), (24, 70, 74), (25, 60, 65), (27, 36, 45), (28, 21, 35), (28, 45, 53), (30, 16, 34), (30, 40, 50), (30, 72, 78), (32, 24, 40), (32, 60, 68), (33, 44, 55), (33, 56, 65), (35, 12, 37), (35, 84, 91), (36, 15, 39), (36, 27, 45), (36, 48, 60), (36, 77, 85), (39, 52, 65), (39, 80, 89), (40, 9, 41), (40, 30, 50), (40, 42, 58), (40, 75, 85), (42, 40, 58), (42, 56, 70), (44, 33, 55), (45, 24, 51), (45, 28, 53), (45, 60, 75), (48, 14, 50), (48, 20, 52), (48, 36, 60), (48, 55, 73), (48, 64, 80), (51, 68, 85), (52, 39, 65), (54, 72, 90), (55, 48, 73), (56, 33, 65), (56, 42, 70), (57, 76, 95), (60, 11, 61), (60, 25, 65), (60, 32, 68), (60, 45, 75), (60, 63, 87), (63, 16, 65), (63, 60, 87), (64, 48, 80), (65, 72, 97), (68, 51, 85), (70, 24, 74), (72, 21, 75), (72, 30, 78), (72, 54, 90), (72, 65, 97), (75, 40, 85), (76, 57, 95), (77, 36, 85), (80, 18, 82), (80, 39, 89), (84, 13, 85), (84, 35, 91))\n"
     ]
    }
   ],
   "source": [
    "t = ()\n",
    "\n",
    "for a in range(1,100):\n",
    "    for b in range(1,100):\n",
    "        for c in range(1,100):\n",
    "            if (a*a)+(b*b) == (c*c):\n",
    "                t += ((a,b,c),)\n",
    "print(t)"
   ]
  },
  {
   "cell_type": "markdown",
   "metadata": {},
   "source": [
    "9\\. Normalization\n",
    "\n",
    "Write a function that takes a tuple of numbers and returns it with the entries normalized to one"
   ]
  },
  {
   "cell_type": "code",
   "execution_count": 12,
   "metadata": {},
   "outputs": [
    {
     "name": "stdout",
     "output_type": "stream",
     "text": [
      "3.7416573867739413\n",
      "[0.26726124 0.53452248 0.80178373]\n"
     ]
    }
   ],
   "source": [
    "t = (1,2,3)\n",
    "\n",
    "def tuple(x):\n",
    "    \n",
    "    sumq = 0\n",
    "    for i in range(len(x)):        \n",
    "        sumq += np.power(x[i],2)\n",
    "    N = np.sqrt(sumq)\n",
    "    \n",
    "    print(N)\n",
    "    x = x/N\n",
    "    print(x)\n",
    "\n",
    "tuple(t)"
   ]
  },
  {
   "cell_type": "code",
   "execution_count": null,
   "metadata": {},
   "outputs": [],
   "source": []
  }
 ],
 "metadata": {
  "kernelspec": {
   "display_name": "Python 3",
   "language": "python",
   "name": "python3"
  },
  "language_info": {
   "codemirror_mode": {
    "name": "ipython",
    "version": 3
   },
   "file_extension": ".py",
   "mimetype": "text/x-python",
   "name": "python",
   "nbconvert_exporter": "python",
   "pygments_lexer": "ipython3",
   "version": "3.7.4"
  }
 },
 "nbformat": 4,
 "nbformat_minor": 4
}
