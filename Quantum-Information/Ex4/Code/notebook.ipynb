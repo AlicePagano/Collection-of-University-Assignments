{
 "cells": [
  {
   "cell_type": "code",
   "execution_count": 1,
   "metadata": {
    "ExecuteTime": {
     "end_time": "2020-10-31T16:05:47.543372Z",
     "start_time": "2020-10-31T16:05:47.540015Z"
    }
   },
   "outputs": [],
   "source": [
    "# Load packages\n",
    "import numpy as np\n",
    "import subprocess\n",
    "import sys\n",
    "import os"
   ]
  },
  {
   "cell_type": "code",
   "execution_count": 63,
   "metadata": {
    "ExecuteTime": {
     "end_time": "2020-11-01T10:51:48.334434Z",
     "start_time": "2020-11-01T10:51:48.299608Z"
    }
   },
   "outputs": [
    {
     "data": {
      "text/plain": [
       "array([ 100,  127,  163,  209,  267,  342,  438,  560,  716,  917, 1173,\n",
       "       1500])"
      ]
     },
     "execution_count": 63,
     "metadata": {},
     "output_type": "execute_result"
    }
   ],
   "source": [
    "np.logspace(2, 3.1763, num=12,dtype=int)"
   ]
  },
  {
   "cell_type": "code",
   "execution_count": 2,
   "metadata": {
    "ExecuteTime": {
     "end_time": "2020-10-31T16:05:48.277558Z",
     "start_time": "2020-10-31T16:05:48.268792Z"
    }
   },
   "outputs": [],
   "source": [
    "# CREATE INPUT DATA\n",
    "N_min = 100\n",
    "N_max = 800\n",
    "N_step = 100\n",
    "\n",
    "# Create list between N_min and N_max\n",
    "N_list = np.arange(N_min,N_max+N_step,N_step)\n",
    "\n",
    "# Save list in a file \n",
    "input_file = 'input.dat'\n",
    "np.savetxt(input_file, N_list,fmt='%8i')"
   ]
  },
  {
   "cell_type": "code",
   "execution_count": 3,
   "metadata": {
    "ExecuteTime": {
     "end_time": "2020-10-31T16:05:49.890982Z",
     "start_time": "2020-10-31T16:05:49.884810Z"
    }
   },
   "outputs": [],
   "source": [
    "# Load data\n",
    "input_data = np.loadtxt(input_file,dtype=int)"
   ]
  },
  {
   "cell_type": "code",
   "execution_count": null,
   "metadata": {
    "ExecuteTime": {
     "end_time": "2020-10-31T14:00:23.226128Z",
     "start_time": "2020-10-31T14:00:22.210865Z"
    }
   },
   "outputs": [],
   "source": [
    "# COMPILE FORTRAN CODE \n",
    "make_command = [\"make\",\"clean\"]\n",
    "make_proc = subprocess.run(make_command,stdout=subprocess.PIPE,stderr=subprocess.PIPE,encoding=\"utf-8\")\n",
    "make_command = [\"make\",\"all\",\"FAST=-O3\"]\n",
    "make_proc = subprocess.run(make_command,stdout=subprocess.PIPE,stderr=subprocess.PIPE,encoding=\"utf-8\")\n",
    "print(\"stdout: {}\".format(make_proc.stdout))\n",
    "print(\"stderr: {}\".format(make_proc.stderr))\n",
    "print(\"Return code: {}\".format(make_proc.returncode))"
   ]
  },
  {
   "cell_type": "code",
   "execution_count": 4,
   "metadata": {
    "ExecuteTime": {
     "end_time": "2020-10-31T16:08:43.498130Z",
     "start_time": "2020-10-31T16:05:51.616895Z"
    }
   },
   "outputs": [
    {
     "name": "stdout",
     "output_type": "stream",
     "text": [
      "100\n",
      "200\n",
      "300\n",
      "400\n",
      "500\n",
      "600\n",
      "700\n",
      "800\n",
      "100\n",
      "200\n",
      "300\n",
      "400\n",
      "500\n",
      "600\n",
      "700\n",
      "800\n",
      "100\n",
      "200\n",
      "300\n",
      "400\n",
      "500\n",
      "600\n",
      "700\n",
      "800\n",
      "100\n",
      "200\n",
      "300\n",
      "400\n",
      "500\n",
      "600\n",
      "700\n",
      "800\n"
     ]
    }
   ],
   "source": [
    "make_command = [\"make\",\"clean\"]\n",
    "make_proc = subprocess.run(make_command,stdout=subprocess.PIPE,stderr=subprocess.PIPE,encoding=\"utf-8\")\n",
    "        \n",
    "executable = ['mat_mult_row','mat_mult_col','mat_mult_mat']\n",
    "optimization = ['O0','O1','O2','O3']\n",
    "\n",
    "\n",
    "# Compile program\n",
    "for opt in optimization:\n",
    "    make_command = [\"make\",\"all\",\"FAST=-\"+opt]\n",
    "    make_proc = subprocess.run(make_command,stdout=subprocess.PIPE,\n",
    "                                   stderr=subprocess.PIPE,encoding=\"utf-8\")\n",
    "    # Iterate trough value of matrix size\n",
    "    for n in input_data:\n",
    "        print(n)\n",
    "        # Call executable\n",
    "        for exe in executable:\n",
    "            subprocess.run(['./'+exe,str(n),'time_'+opt+'_'+exe+'.dat'],stdout=subprocess.PIPE,\n",
    "                           stderr=subprocess.PIPE,encoding=\"utf-8\")"
   ]
  },
  {
   "cell_type": "code",
   "execution_count": 5,
   "metadata": {
    "ExecuteTime": {
     "end_time": "2020-10-31T16:09:29.333424Z",
     "start_time": "2020-10-31T16:09:28.424779Z"
    }
   },
   "outputs": [],
   "source": [
    "if not os.path.isdir('./plot'):\n",
    "    os.mkdir('./plot')\n",
    "        \n",
    "for opt in optimization:\n",
    "    subprocess.run(['gnuplot','-e',\"opt_flag='\"+opt+\"'\",'fit.p'],stdout=subprocess.PIPE,\n",
    "                           stderr=subprocess.PIPE,encoding=\"utf-8\")"
   ]
  },
  {
   "cell_type": "code",
   "execution_count": null,
   "metadata": {
    "ExecuteTime": {
     "end_time": "2020-10-29T17:30:57.200126Z",
     "start_time": "2020-10-29T17:30:57.196394Z"
    }
   },
   "outputs": [],
   "source": [
    "# Compile the code \n",
    "#make_command = [\"make\",\"clean\"]\n",
    "#make_proc = subprocess.Popen(make_command, shell=False, stdout=subprocess.PIPE, stderr=subprocess.STDOUT)\n",
    "#make_command = [\"make\"]\n",
    "#make_proc = subprocess.Popen(make_command, shell=False, stdout=subprocess.PIPE, stderr=subprocess.STDOUT)\n",
    "#stdout, stderr = make_proc.communicate()\n",
    "#print(\"stdout: {}\".format(stdout))\n",
    "#print(\"stderr: {}\".format(stderr))\n",
    "#print(\"Return code: {}\".format(make_proc.returncode))"
   ]
  },
  {
   "cell_type": "code",
   "execution_count": null,
   "metadata": {
    "ExecuteTime": {
     "end_time": "2020-10-29T17:32:12.125536Z",
     "start_time": "2020-10-29T17:32:12.085516Z"
    }
   },
   "outputs": [],
   "source": [
    "log_out = open(\"log_output.txt\", \"w\")\n",
    "subprocess.run(['./demo','100','-debug'], stdout=log_out,stderr=log_out,encoding=\"utf-8\")\n",
    "log_out.close()"
   ]
  },
  {
   "cell_type": "code",
   "execution_count": null,
   "metadata": {},
   "outputs": [],
   "source": [
    "subprocess.run([cmd, str(N)], stdout=subprocess.PIPE)\n",
    "\n",
    "results = subprocess.run([cmd, str(N)], stdout=subprocess.PIPE)\n",
    "results = results.stdout.decode('utf-8').strip().split('\\n')\n",
    "results = [float(res.strip()) for res in results]   "
   ]
  }
 ],
 "metadata": {
  "kernelspec": {
   "display_name": "Python 3",
   "language": "python",
   "name": "python3"
  },
  "language_info": {
   "codemirror_mode": {
    "name": "ipython",
    "version": 3
   },
   "file_extension": ".py",
   "mimetype": "text/x-python",
   "name": "python",
   "nbconvert_exporter": "python",
   "pygments_lexer": "ipython3",
   "version": "3.7.6"
  },
  "varInspector": {
   "cols": {
    "lenName": 16,
    "lenType": 16,
    "lenVar": 40
   },
   "kernels_config": {
    "python": {
     "delete_cmd_postfix": "",
     "delete_cmd_prefix": "del ",
     "library": "var_list.py",
     "varRefreshCmd": "print(var_dic_list())"
    },
    "r": {
     "delete_cmd_postfix": ") ",
     "delete_cmd_prefix": "rm(",
     "library": "var_list.r",
     "varRefreshCmd": "cat(var_dic_list()) "
    }
   },
   "types_to_exclude": [
    "module",
    "function",
    "builtin_function_or_method",
    "instance",
    "_Feature"
   ],
   "window_display": false
  }
 },
 "nbformat": 4,
 "nbformat_minor": 4
}
