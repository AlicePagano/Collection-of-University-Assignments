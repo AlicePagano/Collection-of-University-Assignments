{
 "cells": [
  {
   "cell_type": "markdown",
   "metadata": {},
   "source": [
    "# Regularized Classification on Student Alcohol Dataset\n",
    "\n",
    "We are going to use a dataset from Kaggle (https://www.kaggle.com/uciml/student-alcohol-consumption)\n",
    " \n",
    "### Dataset description\n",
    "\n",
    ">The data were obtained in a survey of students from the portuguese language courses in a secondary school. It contains a lot of interesting social, gender and study information about students.\n",
    "\n",
    "> Have a look at the information about the dataset at the webpage: https://www.kaggle.com/uciml/student-alcohol-consumption\n",
    "\n",
    ">In this context, we ask you to estimate which students are the most prone to alcohol consumption given some social and educational information. "
   ]
  },
  {
   "cell_type": "markdown",
   "metadata": {},
   "source": [
    "# TO DO: put your Surname, Name and ID number (\"numero di matricola\")\n",
    "\n",
    "\n",
    "Student Name: Pagano Alice \n",
    "\n",
    "ID Number: 1236916\n"
   ]
  },
  {
   "cell_type": "code",
   "execution_count": 1,
   "metadata": {},
   "outputs": [],
   "source": [
    "import numpy as np\n",
    "\n",
    "# The seed will be used as seed for splitting the data into training and test. \n",
    "# You can place your ID or also try different seeds to see the impact of the random subdvision of the train and test sets\n",
    "# and of the random components in the algorithm on the results\n",
    "IDnumber = 1236916\n",
    "np.random.seed(IDnumber)"
   ]
  },
  {
   "cell_type": "code",
   "execution_count": 2,
   "metadata": {},
   "outputs": [],
   "source": [
    "# let's load library for plotting\n",
    "%matplotlib inline  \n",
    "import matplotlib.pyplot as plt"
   ]
  },
  {
   "cell_type": "markdown",
   "metadata": {},
   "source": [
    "## Data Preprocessing\n",
    "\n",
    "Load the data from a .csv file. In this notebook we use the pandas (Python Data Analysis Library) package, since it provides useful functions to clean the data. In particular, it allows us to remove samples with missing data, as we do below. We also plot some descriptions of columns, check the pandas documentation for 'describe()' if you want to know more."
   ]
  },
  {
   "cell_type": "code",
   "execution_count": 3,
   "metadata": {},
   "outputs": [
    {
     "data": {
      "text/html": [
       "<div>\n",
       "<style scoped>\n",
       "    .dataframe tbody tr th:only-of-type {\n",
       "        vertical-align: middle;\n",
       "    }\n",
       "\n",
       "    .dataframe tbody tr th {\n",
       "        vertical-align: top;\n",
       "    }\n",
       "\n",
       "    .dataframe thead th {\n",
       "        text-align: right;\n",
       "    }\n",
       "</style>\n",
       "<table border=\"1\" class=\"dataframe\">\n",
       "  <thead>\n",
       "    <tr style=\"text-align: right;\">\n",
       "      <th></th>\n",
       "      <th>drink_alcohol</th>\n",
       "      <th>school</th>\n",
       "      <th>sex</th>\n",
       "      <th>age</th>\n",
       "      <th>address</th>\n",
       "      <th>famsize</th>\n",
       "      <th>Pstatus</th>\n",
       "      <th>Medu</th>\n",
       "      <th>Fedu</th>\n",
       "      <th>Mjob</th>\n",
       "      <th>Fjob</th>\n",
       "      <th>guardian</th>\n",
       "      <th>traveltime</th>\n",
       "      <th>studytime</th>\n",
       "      <th>famrel</th>\n",
       "      <th>freetime</th>\n",
       "      <th>goout</th>\n",
       "      <th>health</th>\n",
       "      <th>absences</th>\n",
       "      <th>Marks</th>\n",
       "    </tr>\n",
       "  </thead>\n",
       "  <tbody>\n",
       "    <tr>\n",
       "      <th>0</th>\n",
       "      <td>0</td>\n",
       "      <td>GP</td>\n",
       "      <td>F</td>\n",
       "      <td>18</td>\n",
       "      <td>U</td>\n",
       "      <td>GT3</td>\n",
       "      <td>A</td>\n",
       "      <td>4</td>\n",
       "      <td>4</td>\n",
       "      <td>at_home</td>\n",
       "      <td>teacher</td>\n",
       "      <td>mother</td>\n",
       "      <td>2</td>\n",
       "      <td>2</td>\n",
       "      <td>4</td>\n",
       "      <td>3</td>\n",
       "      <td>4</td>\n",
       "      <td>3</td>\n",
       "      <td>4</td>\n",
       "      <td>11</td>\n",
       "    </tr>\n",
       "    <tr>\n",
       "      <th>1</th>\n",
       "      <td>0</td>\n",
       "      <td>GP</td>\n",
       "      <td>F</td>\n",
       "      <td>17</td>\n",
       "      <td>U</td>\n",
       "      <td>GT3</td>\n",
       "      <td>T</td>\n",
       "      <td>1</td>\n",
       "      <td>1</td>\n",
       "      <td>at_home</td>\n",
       "      <td>other</td>\n",
       "      <td>father</td>\n",
       "      <td>1</td>\n",
       "      <td>2</td>\n",
       "      <td>5</td>\n",
       "      <td>3</td>\n",
       "      <td>3</td>\n",
       "      <td>3</td>\n",
       "      <td>2</td>\n",
       "      <td>11</td>\n",
       "    </tr>\n",
       "    <tr>\n",
       "      <th>2</th>\n",
       "      <td>1</td>\n",
       "      <td>GP</td>\n",
       "      <td>F</td>\n",
       "      <td>15</td>\n",
       "      <td>U</td>\n",
       "      <td>LE3</td>\n",
       "      <td>T</td>\n",
       "      <td>1</td>\n",
       "      <td>1</td>\n",
       "      <td>at_home</td>\n",
       "      <td>other</td>\n",
       "      <td>mother</td>\n",
       "      <td>1</td>\n",
       "      <td>2</td>\n",
       "      <td>4</td>\n",
       "      <td>3</td>\n",
       "      <td>2</td>\n",
       "      <td>3</td>\n",
       "      <td>6</td>\n",
       "      <td>12</td>\n",
       "    </tr>\n",
       "    <tr>\n",
       "      <th>3</th>\n",
       "      <td>0</td>\n",
       "      <td>GP</td>\n",
       "      <td>F</td>\n",
       "      <td>15</td>\n",
       "      <td>U</td>\n",
       "      <td>GT3</td>\n",
       "      <td>T</td>\n",
       "      <td>4</td>\n",
       "      <td>2</td>\n",
       "      <td>health</td>\n",
       "      <td>services</td>\n",
       "      <td>mother</td>\n",
       "      <td>1</td>\n",
       "      <td>3</td>\n",
       "      <td>3</td>\n",
       "      <td>2</td>\n",
       "      <td>2</td>\n",
       "      <td>5</td>\n",
       "      <td>0</td>\n",
       "      <td>14</td>\n",
       "    </tr>\n",
       "    <tr>\n",
       "      <th>4</th>\n",
       "      <td>0</td>\n",
       "      <td>GP</td>\n",
       "      <td>F</td>\n",
       "      <td>16</td>\n",
       "      <td>U</td>\n",
       "      <td>GT3</td>\n",
       "      <td>T</td>\n",
       "      <td>3</td>\n",
       "      <td>3</td>\n",
       "      <td>other</td>\n",
       "      <td>other</td>\n",
       "      <td>father</td>\n",
       "      <td>1</td>\n",
       "      <td>2</td>\n",
       "      <td>4</td>\n",
       "      <td>3</td>\n",
       "      <td>2</td>\n",
       "      <td>5</td>\n",
       "      <td>0</td>\n",
       "      <td>13</td>\n",
       "    </tr>\n",
       "  </tbody>\n",
       "</table>\n",
       "</div>"
      ],
      "text/plain": [
       "   drink_alcohol school sex  age address famsize Pstatus  Medu  Fedu     Mjob  \\\n",
       "0              0     GP   F   18       U     GT3       A     4     4  at_home   \n",
       "1              0     GP   F   17       U     GT3       T     1     1  at_home   \n",
       "2              1     GP   F   15       U     LE3       T     1     1  at_home   \n",
       "3              0     GP   F   15       U     GT3       T     4     2   health   \n",
       "4              0     GP   F   16       U     GT3       T     3     3    other   \n",
       "\n",
       "       Fjob guardian  traveltime  studytime  famrel  freetime  goout  health  \\\n",
       "0   teacher   mother           2          2       4         3      4       3   \n",
       "1     other   father           1          2       5         3      3       3   \n",
       "2     other   mother           1          2       4         3      2       3   \n",
       "3  services   mother           1          3       3         2      2       5   \n",
       "4     other   father           1          2       4         3      2       5   \n",
       "\n",
       "   absences  Marks  \n",
       "0         4     11  \n",
       "1         2     11  \n",
       "2         6     12  \n",
       "3         0     14  \n",
       "4         0     13  "
      ]
     },
     "execution_count": 3,
     "metadata": {},
     "output_type": "execute_result"
    }
   ],
   "source": [
    "# let's load pands and numpy\n",
    "import pandas as pd\n",
    "import numpy as np\n",
    "\n",
    "# this time we use pandas to load and clean the dataset\n",
    "\n",
    "# read the data from the csv file\n",
    "df = pd.read_csv(\"data/student-data.csv\", sep=',')\n",
    "\n",
    "# let's see some statistics about the data \n",
    "df.describe()\n",
    "\n",
    "df.head()"
   ]
  },
  {
   "cell_type": "markdown",
   "metadata": {},
   "source": [
    "Now we create data matrices: many of the features are categorical, so we need to encode them with ***indicator matrices*** (i.e., using the so called one-hot encoding). That is, if a feature can take $\\ell$ different values $v_1,\\dots,v_{\\ell}$, we create $\\ell$ indicator (0-1) features $I_1,\\dots,I_{\\ell}$, such that $I_{j} = 1$ if and only if the value of the feature is $v_j$. This can be done in Python by first encode a feature with integers with LabelEncoder() and then obtain the indicator variables with OneHotEncoder()."
   ]
  },
  {
   "cell_type": "code",
   "execution_count": 4,
   "metadata": {},
   "outputs": [
    {
     "name": "stdout",
     "output_type": "stream",
     "text": [
      "['drink_alcohol', 'school', 'sex', 'age', 'address', 'famsize', 'Pstatus', 'Medu', 'Fedu', 'Mjob', 'Fjob', 'guardian', 'traveltime', 'studytime', 'famrel', 'freetime', 'goout', 'health', 'absences', 'Marks']\n",
      "19\n",
      "649\n",
      "Number of samples: 649\n",
      "Categorical feature: school    Number of categories: (2,)\n",
      "Categorical feature: sex    Number of categories: (2,)\n",
      "Valued feature: age\n",
      "Categorical feature: address    Number of categories: (2,)\n",
      "Categorical feature: famsize    Number of categories: (2,)\n",
      "Categorical feature: Pstatus    Number of categories: (2,)\n",
      "Categorical feature: Medu    Number of categories: (5,)\n",
      "Categorical feature: Fedu    Number of categories: (5,)\n",
      "Categorical feature: Mjob    Number of categories: (5,)\n",
      "Categorical feature: Fjob    Number of categories: (5,)\n",
      "Categorical feature: guardian    Number of categories: (3,)\n",
      "Categorical feature: traveltime    Number of categories: (4,)\n",
      "Categorical feature: studytime    Number of categories: (4,)\n",
      "Categorical feature: famrel    Number of categories: (5,)\n",
      "Categorical feature: freetime    Number of categories: (5,)\n",
      "Categorical feature: goout    Number of categories: (5,)\n",
      "Categorical feature: health    Number of categories: (5,)\n",
      "Valued feature: absences\n",
      "Valued feature: Marks\n",
      "Shape of X: (649, 64)\n",
      "Sample element from X: [1.0 0.0 0.0 1.0 15 0.0 1.0 1.0 0.0 0.0 1.0 0.0 0.0 0.0 0.0 1.0 0.0 0.0\n",
      " 0.0 1.0 0.0 0.0 0.0 0.0 0.0 1.0 0.0 0.0 1.0 0.0 0.0 0.0 1.0 0.0 1.0 0.0\n",
      " 0.0 0.0 0.0 1.0 0.0 0.0 0.0 0.0 0.0 1.0 0.0 0.0 0.0 0.0 1.0 0.0 1.0 0.0\n",
      " 0.0 0.0 0.0 1.0 0.0 0.0 0.0 0.0 0 14]\n",
      "[[1.0 0.0 1.0 ... 0.0 4 11]\n",
      " [1.0 0.0 1.0 ... 0.0 2 11]\n",
      " [1.0 0.0 1.0 ... 0.0 6 12]\n",
      " ...\n",
      " [0.0 1.0 1.0 ... 1.0 6 9]\n",
      " [0.0 1.0 0.0 ... 0.0 6 10]\n",
      " [0.0 1.0 0.0 ... 1.0 4 11]]\n"
     ]
    }
   ],
   "source": [
    "#df.values contains the data, both the values of instances and the value of the label\n",
    "Data = df.values\n",
    "# the matrix including the categorical data is given by columns from the second one \n",
    "X_categorical = Data[:,1:]\n",
    "# the target value (class) is in the first column\n",
    "Y = Data[:,0]\n",
    "\n",
    "print(list(df))\n",
    "\n",
    "# get the number d of features of each sample\n",
    "d = X_categorical.shape[1]\n",
    "print(d)\n",
    "\n",
    "# get the number m of samples\n",
    "m = X_categorical.shape[0]\n",
    "print(m)\n",
    "\n",
    "#let's see what the number of samples is\n",
    "print(\"Number of samples: {}\".format(m))\n",
    "\n",
    "#now encode categorical variables using integers and one-hot-encoder\n",
    "\n",
    "from sklearn.preprocessing import LabelEncoder, OneHotEncoder\n",
    "label_encoder = LabelEncoder()\n",
    "onehot_encoder = OneHotEncoder(categories='auto')\n",
    "\n",
    "# encode the first column of the data matrix into indicator variables\n",
    "\n",
    "X_tmp = label_encoder.fit_transform(X_categorical[:,0])\n",
    "X_tmp = X_tmp.reshape(X_tmp.shape[0],1)\n",
    "X = onehot_encoder.fit_transform(X_tmp[:,0].reshape(-1,1)).toarray()\n",
    "print(\"Categorical feature:\", df.columns[1], \"   Number of categories:\", X[1,:].shape)\n",
    "\n",
    "# repeat for the other categorical input variables\n",
    "index_categorical = [1,3,4,5,6,7,8,9,10,11,12,13,14,15,16]\n",
    "\n",
    "for i in range(1,19):\n",
    "    if i in index_categorical:\n",
    "        X_tmp = label_encoder.fit_transform(X_categorical[:,i])\n",
    "        X_tmp = X_tmp.reshape(X_tmp.shape[0],1)\n",
    "        X_tmp = onehot_encoder.fit_transform(X_tmp[:,0].reshape(-1,1)).toarray()\n",
    "        X = np.hstack((X,X_tmp))\n",
    "        print(\"Categorical feature:\", df.columns[i+1], \"   Number of categories:\", X_tmp[1,:].shape)\n",
    "        #print(X_tmp)\n",
    "    else:\n",
    "        X_tmp = X_categorical[:,i]\n",
    "        X_tmp = X_tmp.reshape(X_tmp.shape[0],1)\n",
    "        X = np.hstack((X,X_tmp))\n",
    "        print(\"Valued feature:\", df.columns[i+1])\n",
    "        #print(X_tmp[1,:].shape)\n",
    "        \n",
    "print(\"Shape of X:\", X.shape)\n",
    "print(\"Sample element from X:\", X[20,:])\n",
    "print(X)"
   ]
  },
  {
   "cell_type": "markdown",
   "metadata": {},
   "source": [
    "## Data Preprocessing\n",
    "\n",
    "The class labels are already 0-1, so we can use them directly."
   ]
  },
  {
   "cell_type": "code",
   "execution_count": 5,
   "metadata": {},
   "outputs": [
    {
     "name": "stdout",
     "output_type": "stream",
     "text": [
      "Number of classes: 2\n"
     ]
    }
   ],
   "source": [
    "# properly encode the target labels\n",
    "Y = label_encoder.fit_transform(Y)\n",
    "K = max(Y) + 1 # number of classes\n",
    "\n",
    "print(\"Number of classes: \"+str(K))"
   ]
  },
  {
   "cell_type": "markdown",
   "metadata": {},
   "source": [
    "Given $m$ total data points, keep $m\\_training = 100$ data points as data for ***training and validation*** and $m\\_test = m - m\\_training$ as test data. Splitting is random, using as seed your ID number. Make sure that the training set contains at least 10 instances from each class.If it does not, modify the code so to apply a random\n",
    "permutation (or the same permutation multiple times) to the samples until this happens."
   ]
  },
  {
   "cell_type": "code",
   "execution_count": 6,
   "metadata": {},
   "outputs": [
    {
     "name": "stdout",
     "output_type": "stream",
     "text": [
      "[0 0 0 1 0 1 0 0 0 1 0 1 0 1 0 1 1 0 1 1 1 0 0 0 0 1 1 1 0 1 0 0 1 0 0 1 1\n",
      " 0 1 1 0 0 1 0 0 1 0 0 0 1 1 0 1 1 1 0 1 0 0 0 1 1 0 1 1 0 1 1 1 1 1 1 0 0\n",
      " 0 0 1 1 1 0 0 1 1 0 1 0 0 0 1 0 0 0 1 0 0 0 0 1 1 0]\n",
      "0.45454545454545453\n"
     ]
    }
   ],
   "source": [
    "# Split data into training and validation data\n",
    "\n",
    "# load a package which is useful for the training-test splitting\n",
    "# from sklearn.cross_validation import train_test_split\n",
    "from sklearn.model_selection import train_test_split\n",
    "\n",
    "# number of samples\n",
    "m = np.shape(X)[0]\n",
    "\n",
    "#Divide in training and test: make sure that your training set\n",
    "#contains at least 10 elements from class 1 and at least 10 elements\n",
    "#from class -1! If it does not, modify the code so to apply more random\n",
    "#permutations (or the same permutation multiple times) until this happens.\n",
    "\n",
    "permutation = np.random.permutation(m)\n",
    "X = X[permutation]\n",
    "Y = Y[permutation]\n",
    "\n",
    "m_training = 100 #  # use 100 samples for training + validation...\n",
    "m_test = m-m_training # and the rest for testing\n",
    "\n",
    "# test_size is the proportion of samples in the test set\n",
    "X_training, X_test, Y_training, Y_test = train_test_split(X, Y, test_size =float(m_test)/float(m), random_state = IDnumber)\n",
    "\n",
    "print(Y_training)\n",
    "\n",
    "m_training = X_training.shape[0]\n",
    "m_test = X_test.shape[0]\n",
    "\n",
    "#let's see what the fraction of ones in the entire dataset is\n",
    "print(float(sum(Y_training)+sum(Y_test))/float(m_training+m_test))"
   ]
  },
  {
   "cell_type": "markdown",
   "metadata": {},
   "source": [
    "Standardize the data to have zero-mean and unit variance (columnwise):"
   ]
  },
  {
   "cell_type": "code",
   "execution_count": 7,
   "metadata": {},
   "outputs": [],
   "source": [
    "# Standardize the Features Matrix\n",
    "from sklearn import preprocessing\n",
    "\n",
    "X = X.astype(np.float64) #standard scaler works with double precision data\n",
    "X_training = X_training.astype(np.float64)\n",
    "X_test = X_test.astype(np.float64)\n",
    "\n",
    "#let's use the standard scaling; we degine the scaling for the entire dataset\n",
    "scaler = preprocessing.StandardScaler().fit(X)\n",
    "\n",
    "#let's apply the scaling to the training set\n",
    "\n",
    "X_training = scaler.transform(X_training)\n",
    "#let's apply the scaling to the test set\n",
    "\n",
    "X_test = scaler.transform(X_test)"
   ]
  },
  {
   "cell_type": "markdown",
   "metadata": {},
   "source": [
    "### Perform Logistic Regression\n",
    "\n",
    "We now perform logistic regression using the function provided by Scikit-learn.\n",
    "\n",
    "Note: as provided by Scikit-learn, logistic regression is always implemented using regularization. However, the impact of regularization can be dampened to have almost no regularization by changing the parameter $C$, which is the inverse of $\\lambda$. Therefore to have no regularization, which is $\\lambda = 0$ for the model seen in class, we need $C$ to have a large value. Here we fix $C = 100000000$.\n",
    "\n",
    "[Note that the intercept is estimated in the model.]\n",
    "\n",
    "For all our models we are going to use 10-fold cross validation to estimate the parameters (when needed) and/or estimate the validation error."
   ]
  },
  {
   "cell_type": "code",
   "execution_count": 8,
   "metadata": {},
   "outputs": [
    {
     "name": "stdout",
     "output_type": "stream",
     "text": [
      "Values of parameter C tried in 10-fold Cross-Validation: [100000000]\n",
      "Accuracies obtained for the different values of C with 10-fold Cross-Validation: [0.53646465]\n",
      "Best value of parameter C according to 10-fold Cross-Validation: 100000000\n",
      "<class 'dict'>\n",
      "10-fold Cross-Validation accuracies obtained with the best value of parameter C: [0.72727273]\n"
     ]
    }
   ],
   "source": [
    "from sklearn import linear_model\n",
    "\n",
    "# define a logistic regression model with very high C parameter -> low impact from regularization;\n",
    "# there are many solvers available to obtain the solution to the logistic regression problem, we just pick\n",
    "# one of them; 'cv' is the number of folds in cross-validation; we also specify l2 as regularization penalty,\n",
    "# just to pick one; Cs contains the values of C to be tested and to pick from with validation. Here we\n",
    "# are interested in only 1 value of C, and use cross-validation just to estimate the validation error\n",
    "# in a same way as other models\n",
    "\n",
    "reg = linear_model.LogisticRegressionCV(Cs=[100000000], solver='newton-cg',cv=10, penalty='l2')\n",
    "\n",
    "#fit the model on training data\n",
    "reg.fit(X_training, Y_training)\n",
    "\n",
    "# the attribute 'Cs_' contains ALL the values of C evaluated in cross-validation;\n",
    "# let's print them\n",
    "print(\"Values of parameter C tried in 10-fold Cross-Validation: {}\".format( reg.Cs_ ))\n",
    "\n",
    "# the attribute 'scores_' contains the accuracy obtained in each fold, for each value \n",
    "# of C tried; we now compute the average accuracy across the 10 folds\n",
    "\n",
    "CV_accuracies = np.divide(np.sum(reg.scores_[1],axis=0),10)\n",
    "\n",
    "# let's print the average accuracies obtained for the various values of C\n",
    "\n",
    "print(\"Accuracies obtained for the different values of C with 10-fold Cross-Validation: {}\".format( CV_accuracies ))\n",
    "\n",
    "# the attribute 'C_' contains the best value of C as identified by cross-validation;\n",
    "# let's print it\n",
    "\n",
    "print(\"Best value of parameter C according to 10-fold Cross-Validation: {}\".format( reg.C_[0] ))\n",
    "\n",
    "# let's store the best CV accuracy, and then print it\n",
    "print(type(reg.scores_))\n",
    "reg_best_CV_accuracy = max(reg.scores_[1])\n",
    "print(\"10-fold Cross-Validation accuracies obtained with the best value of parameter C: {}\".format( reg_best_CV_accuracy ))"
   ]
  },
  {
   "cell_type": "markdown",
   "metadata": {},
   "source": [
    "Note that the logistic regression function in Scikit-learn has many optional parameters. Read the documentation if you want to understand what they do!"
   ]
  },
  {
   "cell_type": "markdown",
   "metadata": {},
   "source": [
    "## TODO 1\n",
    "### Learn the best model from Logistic Regression on the entire training set and examine coefficients (by printing and plotting them)\n",
    "\n",
    "Note that you can use simply $linear\\_model.LogisticRegression()$, that does not use cross-validation, without passing the best value of $C$ (and then fit())."
   ]
  },
  {
   "cell_type": "code",
   "execution_count": 9,
   "metadata": {},
   "outputs": [
    {
     "name": "stdout",
     "output_type": "stream",
     "text": [
      "Coefficients obtained using the entire training set: [[ 13.67286128 -13.67286128 -16.05829492  16.05829492  -8.56357484\n",
      "    4.06140151  -4.06140151  -5.31320738   5.31320738  -5.34514466\n",
      "    5.34514466   1.48378716 -33.55097674 -11.85098546   8.15444662\n",
      "   35.55254163   1.04342422  24.36746099   4.7508694    7.59668497\n",
      "  -40.64018285  14.50815168   3.51554286  -5.14826022  13.53299621\n",
      "  -31.19484358 -11.16078753  -9.17894639   2.02914286  -1.81473463\n",
      "   18.57120851   8.37691837 -15.16819874  13.9268661    0.79420533\n",
      "  -13.40320934   9.41169764  21.28314418 -19.06803337   4.3172549\n",
      "   25.26134278  -9.82270933  30.17754728 -17.85438796 -15.18707028\n",
      "   18.86596106 -12.72628445  45.42725031 -12.86830752   1.87103884\n",
      "    9.89533211 -39.47807157 -37.46359509 -29.15568342 -24.52847076\n",
      "   48.64934969  35.42048407 -17.62418284  30.65540763  -5.51441899\n",
      "  -18.30683592  10.50605148   0.42205785 -43.23465106]]\n",
      "Intercept: [-9.99262336]\n"
     ]
    },
    {
     "data": {
      "image/png": "[encoded data removed]",
      "text/plain": [
       "<Figure size 432x288 with 1 Axes>"
      ]
     },
     "metadata": {
      "needs_background": "light"
     },
     "output_type": "display_data"
    },
    {
     "name": "stdout",
     "output_type": "stream",
     "text": [
      "(1, 64)\n"
     ]
    }
   ],
   "source": [
    "#Use a large C to disable regularization\n",
    "reg_full = linear_model.LogisticRegression(C=1e12,solver='newton-cg')\n",
    "\n",
    "reg_full.fit(X_training,Y_training)\n",
    "\n",
    "# print the coefficients from the logistic regression model.\n",
    "print(\"Coefficients obtained using the entire training set: {}\".format( reg_full.coef_ ))\n",
    "\n",
    "# note that the intercept is not in coef_, it is in intercept_\n",
    "\n",
    "print(\"Intercept: {}\".format( reg_full.intercept_ ))\n",
    "\n",
    "# Plot the coefficients\n",
    "reg_coef = reg_full.coef_.reshape(reg_full.coef_.shape[1],)\n",
    "plt.figure()\n",
    "ind = np.arange(1,len(reg_coef)+1)  # the x locations for the groups\n",
    "width = 0.45       # the width of the bars\n",
    "plt.bar(ind, reg_coef, width, color='r')\n",
    "plt.xlabel('Coefficient Index')\n",
    "plt.ylabel('Coefficient Value')\n",
    "plt.title('Logistic Regression Coefficients')\n",
    "plt.show()\n",
    "\n",
    "print(reg_full.coef_.shape)"
   ]
  },
  {
   "cell_type": "code",
   "execution_count": 10,
   "metadata": {},
   "outputs": [
    {
     "name": "stdout",
     "output_type": "stream",
     "text": [
      "(12,)\n"
     ]
    }
   ],
   "source": [
    "x = reg_full.coef_[0]\n",
    "\n",
    "y = x[abs(x)<5]\n",
    "\n",
    "print(y.shape)"
   ]
  },
  {
   "cell_type": "markdown",
   "metadata": {},
   "source": [
    "## TO DO 2\n",
    "\n",
    "### Questions: How many coefficients do you get (recall that the one-hot encoding has been used for some of the features)? Why? How many of them are \"close\" to 0? What do negative coefficient values mean? (max 5 lines)\n",
    "\n",
    "### Answer to the questions\n",
    "\n",
    "I get 64 coefficients instead of 19. The one-hot encoding has been used only for some features: there are features whose sizes are doubled or other features which sizes are 5-folded. In particular, I looked at the plot and I've decided to use a threshold of 5, in order to consider the coefficients \"close\" to 0. I obtained 12 coefficients minor of 5. The negative values of the coefficients means that the relationship between the corresponding features and the probability to be an alcholist is negative. Therefore, in case of negative coefficients, if the feature increases, the probability to be an alcholist will decrease."
   ]
  },
  {
   "cell_type": "markdown",
   "metadata": {},
   "source": [
    "## TO DO 3\n",
    "### Predict labels on training and test\n",
    "\n",
    "- Compute the predicted labels on training and test data using reg.predict\n",
    " - Evaluate the accuracy using metrics.accuracy_score from scikit-learn (it returns the percentage of data correctly classified).\n",
    " - Evaluate the score used by logistic regression on training and test data using metrics.accuracy_score()"
   ]
  },
  {
   "cell_type": "code",
   "execution_count": 11,
   "metadata": {},
   "outputs": [
    {
     "name": "stdout",
     "output_type": "stream",
     "text": [
      "1.0\n",
      "0.6156648451730419\n"
     ]
    }
   ],
   "source": [
    "from sklearn import metrics\n",
    "\n",
    "# prediction on training data\n",
    "Y_training_prediction_LR = reg.predict(X_training)\n",
    "\n",
    "# compute accuracy as suggested above using metrics.accuracy_score from scikit-learn for training dataset\n",
    "\n",
    "accuracies_training_LR =  metrics.accuracy_score(Y_training, Y_training_prediction_LR)\n",
    "\n",
    "print(accuracies_training_LR)\n",
    "\n",
    "# prediction on test data\n",
    "Y_test_prediction_LR = reg.predict(X_test)\n",
    "\n",
    "# compute accuracy as suggested above using metrics.accuracy_score from scikit-learn for test dataset\n",
    "\n",
    "accuracies_test_LR =  metrics.accuracy_score(Y_test, Y_test_prediction_LR)\n",
    "\n",
    "print(accuracies_test_LR)"
   ]
  },
  {
   "cell_type": "markdown",
   "metadata": {},
   "source": [
    "## TO DO 4\n",
    "### Use L2 regularized logistic regression with cross-validation\n",
    "\n",
    "We perform the L2 regularization for different values of the regularization parameter $C$, and use the Scikit-learn function to perform cross-validation (CV).\n",
    "\n",
    "In L2 regularized logistic regression, the following L2 regularization term is added to the loss:\n",
    "\n",
    "$$\n",
    "    \\lambda \\sum_{i=1}^d w_i^2\n",
    "$$\n",
    "\n",
    "The parameter $C$ used by Scikit learn corresponds to the inverse of $\\lambda$, that is $C = \\frac{1}{\\lambda}$.\n",
    "\n",
    "Note: the CV in Scikit-learn is by default a *stratified* CV, that means that data is split into train-validation while maintaining the proportion of different classes in each fold.\n",
    "\n",
    "In the code below:\n",
    "- use LogisticRegressionCV() to select the best value of C with a 10-fold CV with L2 penalty;\n",
    "- use LogisticRegression() to learn the best model for the best C with L2 penalty on the entire training set\n",
    "\n",
    "Note that LogisticRegressionCV() picks some default values of C to try, but you may need to pass some other values in case for your dataset you need to explore a different interval of values. This applies every time that you use LogisticRegressionCV()."
   ]
  },
  {
   "cell_type": "code",
   "execution_count": 12,
   "metadata": {},
   "outputs": [
    {
     "name": "stdout",
     "output_type": "stream",
     "text": [
      "Values of parameter C tried in 10-fold Cross-Validation: [         1         10        100       1000      10000     100000\n",
      "    1000000   10000000  100000000 1000000000]\n",
      "Accuracies obtained for the different values of C with 10-fold Cross-Validation: [0.56353535 0.54444444 0.54757576 0.53646465 0.53646465 0.53646465\n",
      " 0.53646465 0.53646465 0.53646465 0.53646465]\n",
      "Best value of parameter C according to 10-fold Cross-Validation: 1\n",
      "10-fold Cross-Validation accuracies obtained with the best value of parameter C: 0.8181818181818182\n"
     ]
    },
    {
     "data": {
      "text/plain": [
       "LogisticRegression(C=1, class_weight=None, dual=False, fit_intercept=True,\n",
       "                   intercept_scaling=1, l1_ratio=None, max_iter=100,\n",
       "                   multi_class='warn', n_jobs=None, penalty='l2',\n",
       "                   random_state=None, solver='newton-cg', tol=0.0001, verbose=0,\n",
       "                   warm_start=False)"
      ]
     },
     "execution_count": 12,
     "metadata": {},
     "output_type": "execute_result"
    }
   ],
   "source": [
    "#define the model using LogisticRegressionCV passing an appropriate solver, cv value, and choice of penalty\n",
    "regL2 = linear_model.LogisticRegressionCV(Cs=[1*np.power(10,i) for i in range(0,10,1)], solver='newton-cg',cv=10, penalty='l2')\n",
    "\n",
    "#fit the model on training data\n",
    "regL2.fit(X_training, Y_training)\n",
    "\n",
    "# the attribute 'Cs_' contains ALL the values of C evaluated in cross-validation;\n",
    "# let's print them\n",
    "print(\"Values of parameter C tried in 10-fold Cross-Validation: {}\".format( regL2.Cs_ ))\n",
    "\n",
    "# the attribute 'scores_' contains the accuracy obtained in each fold, for each value \n",
    "# of C tried; we now compute the average accuracy across the 10 folds\n",
    "\n",
    "CV_accuracies = np.divide(np.sum(regL2.scores_[1],axis=0),10)\n",
    "\n",
    "# let's print the average accuracies obtained for the various values of C\n",
    "\n",
    "print(\"Accuracies obtained for the different values of C with 10-fold Cross-Validation: {}\".format( CV_accuracies ))\n",
    "\n",
    "# the attribute 'C_' contains the best value of C as identified by cross-validation;\n",
    "# let's print it\n",
    "\n",
    "print(\"Best value of parameter C according to 10-fold Cross-Validation: {}\".format( regL2.C_[0] ))\n",
    "\n",
    "# let's store the best CV accuracy, and then print it\n",
    "#print(regL2.scores_[1])\n",
    "regL2_best_CV_accuracy = np.max(regL2.scores_[1])\n",
    "print(\"10-fold Cross-Validation accuracies obtained with the best value of parameter C: {}\".format( regL2_best_CV_accuracy ))\n",
    "\n",
    "#define the model using the best C and an appropriate solver\n",
    "\n",
    "regL2_full = linear_model.LogisticRegression(C=1,solver='newton-cg')\n",
    "\n",
    "#fit the model using the best C on the entire training set\n",
    "\n",
    "regL2_full.fit(X_training,Y_training)\n"
   ]
  },
  {
   "cell_type": "markdown",
   "metadata": {},
   "source": [
    "### TO DO 5: Print and plot the coefficients from logistic regression with and without regularization."
   ]
  },
  {
   "cell_type": "code",
   "execution_count": 13,
   "metadata": {},
   "outputs": [
    {
     "name": "stdout",
     "output_type": "stream",
     "text": [
      "Coefficients obtained using the entire training set: [[ 13.67286128 -13.67286128 -16.05829492  16.05829492  -8.56357484\n",
      "    4.06140151  -4.06140151  -5.31320738   5.31320738  -5.34514466\n",
      "    5.34514466   1.48378716 -33.55097674 -11.85098546   8.15444662\n",
      "   35.55254163   1.04342422  24.36746099   4.7508694    7.59668497\n",
      "  -40.64018285  14.50815168   3.51554286  -5.14826022  13.53299621\n",
      "  -31.19484358 -11.16078753  -9.17894639   2.02914286  -1.81473463\n",
      "   18.57120851   8.37691837 -15.16819874  13.9268661    0.79420533\n",
      "  -13.40320934   9.41169764  21.28314418 -19.06803337   4.3172549\n",
      "   25.26134278  -9.82270933  30.17754728 -17.85438796 -15.18707028\n",
      "   18.86596106 -12.72628445  45.42725031 -12.86830752   1.87103884\n",
      "    9.89533211 -39.47807157 -37.46359509 -29.15568342 -24.52847076\n",
      "   48.64934969  35.42048407 -17.62418284  30.65540763  -5.51441899\n",
      "  -18.30683592  10.50605148   0.42205785 -43.23465106]]\n",
      "Coefficients obtained using the entire training set: [[ 1.93431790e-01 -1.93431790e-01 -5.42527643e-01  5.42527643e-01\n",
      "  -2.86027680e-01  2.02856892e-01 -2.02856892e-01 -1.88025017e-01\n",
      "   1.88025017e-01 -2.51607439e-01  2.51607439e-01  1.71175480e-01\n",
      "  -5.33242760e-01 -3.15430628e-01  2.50959513e-01  5.50516845e-01\n",
      "   6.47622126e-06  4.73059484e-01  2.21545041e-01  6.38046309e-02\n",
      "  -8.51161260e-01  5.03089141e-01  1.58140309e-01 -4.52106342e-01\n",
      "   1.32629893e-01 -2.49337543e-01 -1.66641622e-01 -2.18201360e-01\n",
      "  -8.56904504e-02  1.50100963e-01  2.46850827e-01  4.21909083e-01\n",
      "  -5.52341839e-01  3.03229266e-01  1.82461061e-01 -2.99406010e-01\n",
      "   9.75997633e-03  3.05748018e-01 -2.14164986e-01  3.60848509e-02\n",
      "   2.65557182e-01 -5.42363597e-02  6.40279763e-01 -4.22729486e-01\n",
      "  -2.15547558e-01  3.56005612e-01 -2.86692331e-01  8.92051382e-01\n",
      "  -1.38933019e-01  9.37864931e-02  6.43320562e-02 -8.14419128e-01\n",
      "  -7.01418540e-01 -7.65739247e-01 -6.04726578e-01  1.19121791e+00\n",
      "   7.79362297e-01 -2.83700058e-01  3.15416306e-01 -1.36570008e-01\n",
      "  -3.76670382e-01  3.89619459e-01 -2.02308210e-01 -1.00960286e+00]]\n",
      "Intercept: [-0.13602803]\n"
     ]
    },
    {
     "data": {
      "image/png": "[encoded data removed]",
      "text/plain": [
       "<Figure size 432x288 with 1 Axes>"
      ]
     },
     "metadata": {
      "needs_background": "light"
     },
     "output_type": "display_data"
    }
   ],
   "source": [
    "#print the coefficients from logistic regression\n",
    "\n",
    "print(\"Coefficients obtained using the entire training set: {}\".format( reg_full.coef_ ))\n",
    "\n",
    "#print the coefficients from L2 regularized logistic regression\n",
    "\n",
    "print(\"Coefficients obtained using the entire training set: {}\".format( regL2_full.coef_ ))\n",
    "\n",
    "# note that the intercept is not in coef_, it is in intercept_\n",
    "\n",
    "print(\"Intercept: {}\".format( regL2_full.intercept_ ))\n",
    "\n",
    "# Plot the coefficients\n",
    "regL2_full_coef = regL2_full.coef_.reshape(regL2_full.coef_.shape[1],)\n",
    "ind = np.arange(1,len(reg_coef)+1)  # the x locations for the groups\n",
    "width = 0.35       # the width of the bars\n",
    "fig, ax = plt.subplots()\n",
    "\n",
    "rects1 = ax.bar(ind, reg_coef, width, color='r')\n",
    "rects2 = ax.bar(ind + width, regL2_full_coef, width, color='g')\n",
    "ax.legend((rects1[0], rects2[0]), ('Log Regr', 'Log Regr + L2 Regul'))\n",
    "plt.xlabel('Coefficient Idx')\n",
    "plt.ylabel('Coefficient Value')\n",
    "plt.title('Logistic Regression Coefficients: Standard and Regularized Version')\n",
    "plt.show()"
   ]
  },
  {
   "cell_type": "markdown",
   "metadata": {},
   "source": [
    "### TO DO 6: how do the coefficients from logistic regression with L2 regularization compare to the ones from logistic regression without regularization ? Why? (max 5 lines)\n",
    "\n",
    "### Answer to the questions\n",
    "\n",
    "The values of the coefficients from logistic regression with L2 regularization are dramatically plunged toward zero. Indeed, the regularization procedement regularizes or shrinks the coefficient estimates towards zero, in order to give more stability to the algorithm. "
   ]
  },
  {
   "cell_type": "markdown",
   "metadata": {},
   "source": [
    "### TO DO 7: obtain classification accuracy on training and test data for the L2 regularized model"
   ]
  },
  {
   "cell_type": "code",
   "execution_count": 14,
   "metadata": {},
   "outputs": [
    {
     "name": "stdout",
     "output_type": "stream",
     "text": [
      "Training Accuracy: 1.0\n",
      "Test Accuracy: 0.6156648451730419\n",
      "Training Accuracy regularized: 0.89\n",
      "Test Accuracy regularized: 0.6302367941712204\n"
     ]
    }
   ],
   "source": [
    "#now get training and test error and print training and test accuracy\n",
    "\n",
    "# predictions on training data \n",
    "Y_training_prediction_LR_L2 = regL2_full.predict(X_training)\n",
    "\n",
    "# predictions on test data \n",
    "Y_test_prediction_LR_L2 =regL2_full.predict(X_test)\n",
    "\n",
    "# compute accuracy as suggested above using metrics.accuracy_score from scikit-learn on training data\n",
    "print(\"Training Accuracy:\", metrics.accuracy_score(Y_training, Y_training_prediction_LR))\n",
    "\n",
    "# compute accuracy as suggested above using metrics.accuracy_score from scikit-learn on test data\n",
    "print(\"Test Accuracy:\",metrics.accuracy_score(Y_test, Y_test_prediction_LR))\n",
    "\n",
    "\n",
    "# compute accuracy as suggested above using metrics.accuracy_score from scikit-learn on training data\n",
    "print(\"Training Accuracy regularized:\", metrics.accuracy_score(Y_training, Y_training_prediction_LR_L2))\n",
    "\n",
    "# compute accuracy as suggested above using metrics.accuracy_score from scikit-learn on test data\n",
    "print(\"Test Accuracy regularized:\",metrics.accuracy_score(Y_test, Y_test_prediction_LR_L2))"
   ]
  },
  {
   "cell_type": "markdown",
   "metadata": {},
   "source": [
    "### TO DO 8: How does training and test accuracies change when using regularization? Comment (max 5 lines)\n",
    "\n",
    "### Answer to the question\n",
    "\n",
    "The training accuracy change from 1 to 0.9, while the test accuracy from 0.61 to 0.63, so the results improved. In the regression without regualarization, the coefficients are very high and they cause instability of the algorithm. The accuracy is 1, meaning that there could be overfitting. In the regression with regularization we solved that problem. Nevertheless, the data are few, therefore we cannot obtain a lot of information from this analysis."
   ]
  },
  {
   "cell_type": "markdown",
   "metadata": {},
   "source": [
    "### TO DO 9: Use larger datasets for training set\n",
    "\n",
    "Perform the same estimation procedures using different more points on the training data, that is fix $m_{training} = 400$. You can simply copy and paste all the code you have written previously into the cell below."
   ]
  },
  {
   "cell_type": "code",
   "execution_count": 15,
   "metadata": {
    "scrolled": false
   },
   "outputs": [
    {
     "name": "stdout",
     "output_type": "stream",
     "text": [
      "[1 1 1 1 1 0 0 1 1 1 1 0 1 0 1 1 0 0 1 1 0 1 1 1 1 0 1 0 0 0 0 0 0 1 0 1 1\n",
      " 1 1 0 1 0 0 1 0 1 0 1 0 0 0 0 0 0 0 1 0 0 1 1 0 1 1 0 1 0 0 0 1 0 0 1 0 0\n",
      " 1 0 0 0 0 1 0 0 1 1 0 1 0 1 1 0 1 1 0 1 0 0 0 1 1 0 1 0 1 1 0 0 1 1 1 1 0\n",
      " 0 0 0 1 1 0 0 1 1 0 0 0 0 1 0 1 0 0 1 0 0 0 0 1 0 0 1 0 0 0 1 1 0 0 0 0 0\n",
      " 0 0 1 0 0 0 0 1 0 0 0 0 0 1 0 0 0 0 0 0 0 1 0 1 1 0 1 0 1 0 0 1 0 0 1 0 1\n",
      " 0 1 1 0 0 1 1 0 0 1 0 0 0 1 1 1 0 0 1 1 1 1 0 0 1 1 1 1 1 1 0 0 1 1 0 1 0\n",
      " 1 1 0 0 0 0 1 0 1 1 1 1 0 0 0 0 1 1 1 0 0 0 0 0 0 0 1 0 0 1 0 1 1 0 0 1 0\n",
      " 0 1 1 0 0 0 1 1 0 0 0 0 0 1 0 0 1 0 0 0 1 0 0 1 0 1 0 0 0 0 0 0 1 1 1 1 1\n",
      " 1 1 0 1 0 1 1 1 0 0 1 0 1 0 1 0 0 0 1 0 0 1 1 1 0 1 0 1 0 0 1 0 0 1 1 0 0\n",
      " 0 0 1 0 0 1 0 1 1 0 0 1 1 1 0 0 0 0 1 1 1 1 0 0 0 0 1 1 1 1 1 0 1 0 0 1 0\n",
      " 1 0 0 0 1 0 0 1 1 1 0 0 0 0 1 0 1 0 1 1 0 0 0 0 0 0 0 0 0 1]\n",
      "0.45454545454545453\n"
     ]
    }
   ],
   "source": [
    "# Split data into training and validation data\n",
    "\n",
    "# load a package which is useful for the training-test splitting\n",
    "# from sklearn.cross_validation import train_test_split\n",
    "from sklearn.model_selection import train_test_split\n",
    "\n",
    "# number of samples\n",
    "m = np.shape(X)[0]\n",
    "\n",
    "#Divide in training and test: make sure that your training set\n",
    "#contains at least 10 elements from class 1 and at least 10 elements\n",
    "#from class -1! If it does not, modify the code so to apply more random\n",
    "#permutations (or the same permutation multiple times) until this happens.\n",
    "\n",
    "permutation = np.random.permutation(m)\n",
    "X = X[permutation]\n",
    "Y = Y[permutation]\n",
    "\n",
    "m_training = 400 #  # use 100 samples for training + validation...\n",
    "m_test = m-m_training # and the rest for testing\n",
    "\n",
    "# test_size is the proportion of samples in the test set\n",
    "X_training, X_test, Y_training, Y_test = train_test_split(X, Y, test_size =float(m_test)/float(m), random_state = IDnumber)\n",
    "\n",
    "print(Y_training)\n",
    "\n",
    "m_training = X_training.shape[0]\n",
    "m_test = X_test.shape[0]\n",
    "\n",
    "#let's see what the fraction of ones in the entire dataset is\n",
    "print(float(sum(Y_training)+sum(Y_test))/float(m_training+m_test))"
   ]
  },
  {
   "cell_type": "code",
   "execution_count": 16,
   "metadata": {},
   "outputs": [],
   "source": [
    "X = X.astype(np.float64) #standard scaler works with double precision data\n",
    "X_training = X_training.astype(np.float64)\n",
    "X_test = X_test.astype(np.float64)\n",
    "\n",
    "#let's use the standard scaling; we degine the scaling for the entire dataset\n",
    "scaler = preprocessing.StandardScaler().fit(X)\n",
    "\n",
    "#let's apply the scaling to the training set\n",
    "\n",
    "X_training = scaler.transform(X_training)\n",
    "#let's apply the scaling to the test set\n",
    "\n",
    "X_test = scaler.transform(X_test)"
   ]
  },
  {
   "cell_type": "code",
   "execution_count": 17,
   "metadata": {},
   "outputs": [
    {
     "name": "stdout",
     "output_type": "stream",
     "text": [
      "Values of parameter C tried in 10-fold Cross-Validation: [100000000]\n",
      "Accuracies obtained for the different values of C with 10-fold Cross-Validation: [0.66744215]\n",
      "Best value of parameter C according to 10-fold Cross-Validation: 100000000\n",
      "<class 'dict'>\n",
      "10-fold Cross-Validation accuracies obtained with the best value of parameter C: [0.80487805]\n"
     ]
    }
   ],
   "source": [
    "reg = linear_model.LogisticRegressionCV(Cs=[100000000], solver='newton-cg',cv=10, penalty='l2')\n",
    "\n",
    "#fit the model on training data\n",
    "reg.fit(X_training, Y_training)\n",
    "\n",
    "# the attribute 'Cs_' contains ALL the values of C evaluated in cross-validation;\n",
    "# let's print them\n",
    "print(\"Values of parameter C tried in 10-fold Cross-Validation: {}\".format( reg.Cs_ ))\n",
    "\n",
    "# the attribute 'scores_' contains the accuracy obtained in each fold, for each value \n",
    "# of C tried; we now compute the average accuracy across the 10 folds\n",
    "\n",
    "CV_accuracies = np.divide(np.sum(reg.scores_[1],axis=0),10)\n",
    "\n",
    "# let's print the average accuracies obtained for the various values of C\n",
    "\n",
    "print(\"Accuracies obtained for the different values of C with 10-fold Cross-Validation: {}\".format( CV_accuracies ))\n",
    "\n",
    "# the attribute 'C_' contains the best value of C as identified by cross-validation;\n",
    "# let's print it\n",
    "\n",
    "print(\"Best value of parameter C according to 10-fold Cross-Validation: {}\".format( reg.C_[0] ))\n",
    "\n",
    "# let's store the best CV accuracy, and then print it\n",
    "print(type(reg.scores_))\n",
    "reg_best_CV_accuracy = max(reg.scores_[1])\n",
    "print(\"10-fold Cross-Validation accuracies obtained with the best value of parameter C: {}\".format( reg_best_CV_accuracy ))"
   ]
  },
  {
   "cell_type": "code",
   "execution_count": 18,
   "metadata": {},
   "outputs": [
    {
     "name": "stdout",
     "output_type": "stream",
     "text": [
      "Coefficients obtained using the entire training set: [[ 0.0291758  -0.0291758  -0.18086315  0.18086315 -0.03969049  0.02152632\n",
      "  -0.02152632 -0.22713525  0.22713525 -0.19679569  0.19679569  0.02841333\n",
      "  -0.01067498 -0.23177189  0.24799175  0.01074236 -1.28801726  0.08527839\n",
      "   0.05836783  0.08380436  0.0863457  -0.19660648  0.14686006 -0.1376918\n",
      "   0.10321411  0.21251926  0.00739775 -0.45730108  0.05659311  0.18639612\n",
      "  -0.12631895 -0.06774431 -0.00424191  0.12618173 -0.07230757  0.07613407\n",
      "   0.00496444 -0.00814823  0.17578352 -0.15759124 -0.01235408  0.0027324\n",
      "   0.20844726  0.04230594  0.01768151  0.15289581 -0.28881548 -0.02395818\n",
      "  -0.11259499  0.05577224  0.03367853  0.01854243 -0.36757707 -0.32106489\n",
      "  -0.04630575  0.13916531  0.51726311 -0.19643523  0.10412029 -0.05353962\n",
      "   0.13507743  0.00981115  0.35576544 -0.41899133]]\n",
      "Intercept: [-0.47605754]\n"
     ]
    },
    {
     "data": {
      "image/png": "[encoded data removed]",
      "text/plain": [
       "<Figure size 432x288 with 1 Axes>"
      ]
     },
     "metadata": {
      "needs_background": "light"
     },
     "output_type": "display_data"
    },
    {
     "name": "stdout",
     "output_type": "stream",
     "text": [
      "(1, 64)\n"
     ]
    }
   ],
   "source": [
    "#Use a large C to disable regularization\n",
    "reg_full = linear_model.LogisticRegression(C=1e12,solver='newton-cg')\n",
    "\n",
    "reg_full.fit(X_training,Y_training)\n",
    "\n",
    "# print the coefficients from the logistic regression model.\n",
    "print(\"Coefficients obtained using the entire training set: {}\".format( reg_full.coef_ ))\n",
    "\n",
    "# note that the intercept is not in coef_, it is in intercept_\n",
    "\n",
    "print(\"Intercept: {}\".format( reg_full.intercept_ ))\n",
    "\n",
    "# Plot the coefficients\n",
    "reg_coef = reg_full.coef_.reshape(reg_full.coef_.shape[1],)\n",
    "plt.figure()\n",
    "ind = np.arange(1,len(reg_coef)+1)  # the x locations for the groups\n",
    "width = 0.45       # the width of the bars\n",
    "plt.bar(ind, reg_coef, width, color='r')\n",
    "plt.xlabel('Coefficient Index')\n",
    "plt.ylabel('Coefficient Value')\n",
    "plt.title('Logistic Regression Coefficients')\n",
    "plt.show()\n",
    "\n",
    "print(reg_full.coef_.shape)"
   ]
  },
  {
   "cell_type": "code",
   "execution_count": 19,
   "metadata": {},
   "outputs": [
    {
     "name": "stdout",
     "output_type": "stream",
     "text": [
      "(64,)\n"
     ]
    }
   ],
   "source": [
    "x = reg_full.coef_[0]\n",
    "\n",
    "y = x[abs(x)<5]\n",
    "\n",
    "print(y.shape)"
   ]
  },
  {
   "cell_type": "code",
   "execution_count": 20,
   "metadata": {},
   "outputs": [
    {
     "name": "stdout",
     "output_type": "stream",
     "text": [
      "0.76\n",
      "0.6305220883534136\n"
     ]
    }
   ],
   "source": [
    "# prediction on training data\n",
    "Y_training_prediction_LR = reg.predict(X_training)\n",
    "\n",
    "# compute accuracy as suggested above using metrics.accuracy_score from scikit-learn for training dataset\n",
    "\n",
    "accuracies_training_LR =  metrics.accuracy_score(Y_training, Y_training_prediction_LR)\n",
    "\n",
    "print(accuracies_training_LR)\n",
    "\n",
    "# prediction on test data\n",
    "Y_test_prediction_LR = reg.predict(X_test)\n",
    "\n",
    "# compute accuracy as suggested above using metrics.accuracy_score from scikit-learn for test dataset\n",
    "\n",
    "accuracies_test_LR =  metrics.accuracy_score(Y_test, Y_test_prediction_LR)\n",
    "\n",
    "print(accuracies_test_LR)"
   ]
  },
  {
   "cell_type": "code",
   "execution_count": 21,
   "metadata": {},
   "outputs": [
    {
     "name": "stdout",
     "output_type": "stream",
     "text": [
      "Values of parameter C tried in 10-fold Cross-Validation: [         1         10        100       1000      10000     100000\n",
      "    1000000   10000000  100000000 1000000000]\n",
      "Accuracies obtained for the different values of C with 10-fold Cross-Validation: [0.66744215 0.66744215 0.66744215 0.66744215 0.66744215 0.66744215\n",
      " 0.66744215 0.66744215 0.66744215 0.66744215]\n",
      "Best value of parameter C according to 10-fold Cross-Validation: 1\n",
      "10-fold Cross-Validation accuracies obtained with the best value of parameter C: 0.8048780487804879\n"
     ]
    },
    {
     "data": {
      "text/plain": [
       "LogisticRegression(C=1, class_weight=None, dual=False, fit_intercept=True,\n",
       "                   intercept_scaling=1, l1_ratio=None, max_iter=100,\n",
       "                   multi_class='warn', n_jobs=None, penalty='l2',\n",
       "                   random_state=None, solver='newton-cg', tol=0.0001, verbose=0,\n",
       "                   warm_start=False)"
      ]
     },
     "execution_count": 21,
     "metadata": {},
     "output_type": "execute_result"
    }
   ],
   "source": [
    "#define the model using LogisticRegressionCV passing an appropriate solver, cv value, and choice of penalty\n",
    "regL2 = linear_model.LogisticRegressionCV(Cs=[1*np.power(10,i) for i in range(0,10,1)], solver='newton-cg',cv=10, penalty='l2')\n",
    "\n",
    "#fit the model on training data\n",
    "regL2.fit(X_training, Y_training)\n",
    "\n",
    "# the attribute 'Cs_' contains ALL the values of C evaluated in cross-validation;\n",
    "# let's print them\n",
    "print(\"Values of parameter C tried in 10-fold Cross-Validation: {}\".format( regL2.Cs_ ))\n",
    "\n",
    "# the attribute 'scores_' contains the accuracy obtained in each fold, for each value \n",
    "# of C tried; we now compute the average accuracy across the 10 folds\n",
    "\n",
    "CV_accuracies = np.divide(np.sum(regL2.scores_[1],axis=0),10)\n",
    "\n",
    "# let's print the average accuracies obtained for the various values of C\n",
    "\n",
    "print(\"Accuracies obtained for the different values of C with 10-fold Cross-Validation: {}\".format( CV_accuracies ))\n",
    "\n",
    "# the attribute 'C_' contains the best value of C as identified by cross-validation;\n",
    "# let's print it\n",
    "\n",
    "print(\"Best value of parameter C according to 10-fold Cross-Validation: {}\".format( regL2.C_[0] ))\n",
    "\n",
    "# let's store the best CV accuracy, and then print it\n",
    "#print(regL2.scores_[1])\n",
    "regL2_best_CV_accuracy = np.max(regL2.scores_[1])\n",
    "print(\"10-fold Cross-Validation accuracies obtained with the best value of parameter C: {}\".format( regL2_best_CV_accuracy ))\n",
    "\n",
    "#define the model using the best C and an appropriate solver\n",
    "\n",
    "regL2_full = linear_model.LogisticRegression(C=1,solver='newton-cg')\n",
    "\n",
    "#fit the model using the best C on the entire training set\n",
    "\n",
    "regL2_full.fit(X_training,Y_training)"
   ]
  },
  {
   "cell_type": "code",
   "execution_count": 22,
   "metadata": {},
   "outputs": [
    {
     "name": "stdout",
     "output_type": "stream",
     "text": [
      "Coefficients obtained using the entire training set: [[ 0.0291758  -0.0291758  -0.18086315  0.18086315 -0.03969049  0.02152632\n",
      "  -0.02152632 -0.22713525  0.22713525 -0.19679569  0.19679569  0.02841333\n",
      "  -0.01067498 -0.23177189  0.24799175  0.01074236 -1.28801726  0.08527839\n",
      "   0.05836783  0.08380436  0.0863457  -0.19660648  0.14686006 -0.1376918\n",
      "   0.10321411  0.21251926  0.00739775 -0.45730108  0.05659311  0.18639612\n",
      "  -0.12631895 -0.06774431 -0.00424191  0.12618173 -0.07230757  0.07613407\n",
      "   0.00496444 -0.00814823  0.17578352 -0.15759124 -0.01235408  0.0027324\n",
      "   0.20844726  0.04230594  0.01768151  0.15289581 -0.28881548 -0.02395818\n",
      "  -0.11259499  0.05577224  0.03367853  0.01854243 -0.36757707 -0.32106489\n",
      "  -0.04630575  0.13916531  0.51726311 -0.19643523  0.10412029 -0.05353962\n",
      "   0.13507743  0.00981115  0.35576544 -0.41899133]]\n",
      "Coefficients obtained using the entire training set: [[ 2.78712605e-02 -2.78712605e-02 -1.79033443e-01  1.79033443e-01\n",
      "  -3.54931545e-02  2.18773591e-02 -2.18773591e-02 -2.22138342e-01\n",
      "   2.22138342e-01 -1.92577838e-01  1.92577838e-01  2.43252795e-02\n",
      "  -1.04899990e-02 -2.26823207e-01  2.39003727e-01  1.47179295e-02\n",
      "  -4.28456360e-01  3.07814961e-02  2.57257362e-03  3.80928163e-02\n",
      "   3.55098419e-02 -1.90369450e-01  1.38278610e-01 -1.32341648e-01\n",
      "   1.03142803e-01  2.03364932e-01  7.09476863e-03 -4.39183982e-01\n",
      "   5.31138691e-02  1.81861601e-01 -1.24208467e-01 -6.68318937e-02\n",
      "  -3.93374623e-03  1.24009874e-01 -7.04168085e-02  7.41154377e-02\n",
      "   4.53135527e-03 -7.31080088e-03  1.74858462e-01 -1.54060995e-01\n",
      "  -1.40797855e-02 -4.23306301e-04  2.03421980e-01  4.18257246e-02\n",
      "   1.69196056e-02  1.49034803e-01 -2.81634615e-01 -2.46631602e-02\n",
      "  -1.11627608e-01  5.39681740e-02  3.43000806e-02  1.99184179e-02\n",
      "  -3.57416947e-01 -3.12452213e-01 -4.48977974e-02  1.35085441e-01\n",
      "   5.03353942e-01 -1.90388552e-01  1.01261027e-01 -5.29667815e-02\n",
      "   1.31854660e-01  9.43092173e-03  3.48416865e-01 -4.05025467e-01]]\n",
      "Intercept: [-0.38174314]\n"
     ]
    },
    {
     "data": {
      "image/png": "[encoded data removed]",
      "text/plain": [
       "<Figure size 432x288 with 1 Axes>"
      ]
     },
     "metadata": {
      "needs_background": "light"
     },
     "output_type": "display_data"
    }
   ],
   "source": [
    "#print the coefficients from logistic regression\n",
    "\n",
    "print(\"Coefficients obtained using the entire training set: {}\".format( reg_full.coef_ ))\n",
    "\n",
    "#print the coefficients from L2 regularized logistic regression\n",
    "\n",
    "print(\"Coefficients obtained using the entire training set: {}\".format( regL2_full.coef_ ))\n",
    "\n",
    "# note that the intercept is not in coef_, it is in intercept_\n",
    "\n",
    "print(\"Intercept: {}\".format( regL2_full.intercept_ ))\n",
    "\n",
    "# Plot the coefficients\n",
    "regL2_full_coef = regL2_full.coef_.reshape(regL2_full.coef_.shape[1],)\n",
    "ind = np.arange(1,len(reg_coef)+1)  # the x locations for the groups\n",
    "width = 0.35       # the width of the bars\n",
    "fig, ax = plt.subplots()\n",
    "\n",
    "rects1 = ax.bar(ind, reg_coef, width, color='r')\n",
    "rects2 = ax.bar(ind + width, regL2_full_coef, width, color='g')\n",
    "ax.legend((rects1[0], rects2[0]), ('Log Regr', 'Log Regr + L2 Regul'))\n",
    "plt.xlabel('Coefficient Idx')\n",
    "plt.ylabel('Coefficient Value')\n",
    "plt.title('Logistic Regression Coefficients: Standard and Regularized Version')\n",
    "plt.show()"
   ]
  },
  {
   "cell_type": "code",
   "execution_count": 23,
   "metadata": {},
   "outputs": [
    {
     "name": "stdout",
     "output_type": "stream",
     "text": [
      "Training Accuracy: 0.76\n",
      "Test Accuracy: 0.6305220883534136\n",
      "Training Accuracy regularized: 0.7575\n",
      "Test Accuracy regularized: 0.6345381526104418\n"
     ]
    }
   ],
   "source": [
    "#now get training and test error and print training and test accuracy\n",
    "\n",
    "# predictions on training data \n",
    "Y_training_prediction_LR_L2 = regL2_full.predict(X_training)\n",
    "\n",
    "# predictions on test data \n",
    "Y_test_prediction_LR_L2 =regL2_full.predict(X_test)\n",
    "\n",
    "# compute accuracy as suggested above using metrics.accuracy_score from scikit-learn on training data\n",
    "print(\"Training Accuracy:\", metrics.accuracy_score(Y_training, Y_training_prediction_LR))\n",
    "\n",
    "# compute accuracy as suggested above using metrics.accuracy_score from scikit-learn on test data\n",
    "print(\"Test Accuracy:\",metrics.accuracy_score(Y_test, Y_test_prediction_LR))\n",
    "\n",
    "\n",
    "# compute accuracy as suggested above using metrics.accuracy_score from scikit-learn on training data\n",
    "print(\"Training Accuracy regularized:\", metrics.accuracy_score(Y_training, Y_training_prediction_LR_L2))\n",
    "\n",
    "# compute accuracy as suggested above using metrics.accuracy_score from scikit-learn on test data\n",
    "print(\"Test Accuracy regularized:\",metrics.accuracy_score(Y_test, Y_test_prediction_LR_L2))"
   ]
  },
  {
   "cell_type": "markdown",
   "metadata": {},
   "source": [
    "### TO DO 10: Discuss all the questions above for the larger set (max 7 lines). Compare the impact of regularization in this case with the results you obtained for the smaller set.\n",
    "\n",
    "### Answer to the question\n",
    "\n",
    "I get 64 coefficients instead of 19 as before. If we consider the threshold of 5 used before, the increasing of the size of the training set lead to the fact that all the coefficients are close to zero as well. As explained, in case of negative coefficients, if the feature increases, the probability to be an alcholist will decrease. \n",
    "The values of the coefficients from logistic regression with L2 regularization are decreased but not too much as before, making the algorithm more stable.\n",
    "The training accuracy is almost equal in the case without and with regularization. The same happen for the test accuracy. This equality is due to the increasing of the dataset. In fact, more data leads to more stability of the algorithm even though we do not use regularization.\n"
   ]
  },
  {
   "cell_type": "code",
   "execution_count": null,
   "metadata": {},
   "outputs": [],
   "source": []
  }
 ],
 "metadata": {
  "anaconda-cloud": {},
  "kernelspec": {
   "display_name": "Python 3",
   "language": "python",
   "name": "python3"
  },
  "language_info": {
   "codemirror_mode": {
    "name": "ipython",
    "version": 3
   },
   "file_extension": ".py",
   "mimetype": "text/x-python",
   "name": "python",
   "nbconvert_exporter": "python",
   "pygments_lexer": "ipython3",
   "version": "3.7.2"
  }
 },
 "nbformat": 4,
 "nbformat_minor": 2
}
