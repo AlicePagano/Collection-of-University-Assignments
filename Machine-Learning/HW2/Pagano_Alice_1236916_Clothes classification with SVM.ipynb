{
 "cells": [
  {
   "cell_type": "markdown",
   "metadata": {},
   "source": [
    "# Clothes Classification with Support Vector Machines\n",
    "\n",
    "In this notebook we are going to explore the use of Support Vector Machines (SVM) for image classification. We are going to use a new version of the famous MNIST dataset (the original is a dataset of handwritten digits). The version we are going to use is called Fashion MNIST (https://pravarmahajan.github.io/fashion/) and is a dataset of small images of clothes and accessories.\n",
    "\n",
    "\n",
    "\n",
    "The dataset labels are the following:\n",
    "\n",
    "| Label | Description |\n",
    "| --- | --- |\n",
    "| 0 | T-shirt/top |\n",
    "| 1 | Trouser |\n",
    "| 2 | Pullover |\n",
    "| 3 | Dress |\n",
    "| 4 | Coat |\n",
    "| 5 | Sandal |\n",
    "| 6 | Shirt |\n",
    "| 7 | Sneaker |\n",
    "| 8 | Bag |\n",
    "| 9 | Ankle boot |"
   ]
  },
  {
   "cell_type": "markdown",
   "metadata": {},
   "source": [
    "## TODO: Insert your surname, name and ID number\n",
    "\n",
    "Student name: Pagano Alice\n",
    "    \n",
    "ID: 1236916"
   ]
  },
  {
   "cell_type": "code",
   "execution_count": 1,
   "metadata": {},
   "outputs": [],
   "source": [
    "#load the required packages\n",
    "\n",
    "%matplotlib inline  \n",
    "\n",
    "import numpy as np\n",
    "import scipy as sp\n",
    "import matplotlib.pyplot as plt\n",
    "\n",
    "import sklearn\n",
    "from sklearn.datasets import fetch_mldata\n",
    "from sklearn.neural_network import MLPClassifier\n",
    "import sklearn.metrics as skm"
   ]
  },
  {
   "cell_type": "code",
   "execution_count": 2,
   "metadata": {},
   "outputs": [],
   "source": [
    "# helper function to load Fashion MNIST dataset\n",
    "def load_mnist(path, kind='train'):\n",
    "    import os\n",
    "    import gzip\n",
    "    import numpy as np\n",
    "    labels_path = os.path.join(path, '%s-labels-idx1-ubyte.gz' % kind)\n",
    "    images_path = os.path.join(path, '%s-images-idx3-ubyte.gz' % kind)\n",
    "    with gzip.open(labels_path, 'rb') as lbpath:\n",
    "        labels = np.frombuffer(lbpath.read(), dtype=np.uint8,offset=8)\n",
    "    with gzip.open(images_path, 'rb') as imgpath:\n",
    "        images = np.frombuffer(imgpath.read(), dtype=np.uint8,offset=16).reshape(len(labels), 784)\n",
    "    return images, labels"
   ]
  },
  {
   "cell_type": "code",
   "execution_count": 3,
   "metadata": {},
   "outputs": [],
   "source": [
    "#fix your ID (\"numero di matricola\") and the seed for random generator (as usual you can try different seeds)\n",
    "ID = 1236916\n",
    "np.random.seed(ID)"
   ]
  },
  {
   "cell_type": "code",
   "execution_count": 4,
   "metadata": {},
   "outputs": [
    {
     "name": "stdout",
     "output_type": "stream",
     "text": [
      "(60000, 784) (60000,)\n"
     ]
    }
   ],
   "source": [
    "#load the Fashion MNIST dataset from the 'data' folder and let's normalize the features so that each value is in [0,1] \n",
    "\n",
    "X, y = load_mnist('data', kind='train')\n",
    "# rescale the data\n",
    "X, y = X / 255., y # original pixel values are between 0 and 255\n",
    "print(X.shape, y.shape)"
   ]
  },
  {
   "cell_type": "markdown",
   "metadata": {},
   "source": [
    "Now split into training and test. Make sure that each label is present at least 10 times\n",
    "in training. If it is not, then keep adding permutations to the initial data until this \n",
    "happens."
   ]
  },
  {
   "cell_type": "code",
   "execution_count": 5,
   "metadata": {},
   "outputs": [
    {
     "name": "stdout",
     "output_type": "stream",
     "text": [
      "Labels in training dataset:  [0 1 2 3 4 5 6 7 8 9]\n",
      "Frequencies in training dataset:  [54 49 52 58 51 48 42 47 60 39]\n"
     ]
    }
   ],
   "source": [
    "#random permute the data and split into training and test taking the first 500\n",
    "#data samples as training and the rests as test\n",
    "permutation = np.random.permutation(X.shape[0])\n",
    "\n",
    "X = X[permutation]\n",
    "y = y[permutation]\n",
    "\n",
    "m_training = 500\n",
    "\n",
    "X_train, X_test = X[:m_training], X[m_training:]\n",
    "y_train, y_test = y[:m_training], y[m_training:]\n",
    "\n",
    "labels, freqs = np.unique(y_train, return_counts=True)\n",
    "print(\"Labels in training dataset: \", labels)\n",
    "print(\"Frequencies in training dataset: \", freqs)\n",
    "\n",
    "#for i in range(0,10):\n",
    "#    print('Size:',y_train[y_train == i].shape[0])"
   ]
  },
  {
   "cell_type": "code",
   "execution_count": 6,
   "metadata": {},
   "outputs": [],
   "source": [
    "#function for plotting a image and printing the corresponding label\n",
    "def plot_input(X_matrix, labels, index):\n",
    "    print(\"INPUT:\")\n",
    "    plt.imshow(\n",
    "        X_matrix[index].reshape(28,28),\n",
    "        cmap          = plt.cm.gray_r,\n",
    "        interpolation = \"nearest\"\n",
    "    )\n",
    "    plt.show()\n",
    "    print(\"LABEL: %i\"%labels[index])\n",
    "    return"
   ]
  },
  {
   "cell_type": "code",
   "execution_count": 7,
   "metadata": {},
   "outputs": [
    {
     "name": "stdout",
     "output_type": "stream",
     "text": [
      "INPUT:\n"
     ]
    },
    {
     "data": {
      "image/png": "[encoded data removed]",
      "text/plain": [
       "<Figure size 432x288 with 1 Axes>"
      ]
     },
     "metadata": {
      "needs_background": "light"
     },
     "output_type": "display_data"
    },
    {
     "name": "stdout",
     "output_type": "stream",
     "text": [
      "LABEL: 5\n",
      "INPUT:\n"
     ]
    },
    {
     "data": {
      "image/png": "[encoded data removed]",
      "text/plain": [
       "<Figure size 432x288 with 1 Axes>"
      ]
     },
     "metadata": {
      "needs_background": "light"
     },
     "output_type": "display_data"
    },
    {
     "name": "stdout",
     "output_type": "stream",
     "text": [
      "LABEL: 2\n",
      "INPUT:\n"
     ]
    },
    {
     "data": {
      "image/png": "[encoded data removed]",
      "text/plain": [
       "<Figure size 432x288 with 1 Axes>"
      ]
     },
     "metadata": {
      "needs_background": "light"
     },
     "output_type": "display_data"
    },
    {
     "name": "stdout",
     "output_type": "stream",
     "text": [
      "LABEL: 4\n",
      "INPUT:\n"
     ]
    },
    {
     "data": {
      "image/png": "[encoded data removed]",
      "text/plain": [
       "<Figure size 432x288 with 1 Axes>"
      ]
     },
     "metadata": {
      "needs_background": "light"
     },
     "output_type": "display_data"
    },
    {
     "name": "stdout",
     "output_type": "stream",
     "text": [
      "LABEL: 2\n"
     ]
    }
   ],
   "source": [
    "#let's try the plotting function\n",
    "plot_input(X_train,y_train,5)\n",
    "plot_input(X_test,y_test,50)\n",
    "plot_input(X_test,y_test,500)\n",
    "plot_input(X_test,y_test,5000)"
   ]
  },
  {
   "cell_type": "markdown",
   "metadata": {},
   "source": [
    "## TO DO 1\n",
    "Use a SVM classifier with cross validation to pick a model. Use a 4-fold cross-validation. Let's start with a Linear kernel:"
   ]
  },
  {
   "cell_type": "code",
   "execution_count": 8,
   "metadata": {},
   "outputs": [
    {
     "name": "stdout",
     "output_type": "stream",
     "text": [
      "RESULTS FOR LINEAR KERNEL\n",
      "Best parameters set found:\n",
      "{'C': 0.05}\n",
      "Score with best parameters:\n",
      "0.768\n",
      "All scores on the grid:\n",
      "[0.294 0.718 0.768 0.752 0.752 0.752 0.752]\n"
     ]
    },
    {
     "name": "stderr",
     "output_type": "stream",
     "text": [
      "/Users/alicepagano/anaconda3/lib/python3.7/site-packages/sklearn/model_selection/_search.py:814: DeprecationWarning: The default of the `iid` parameter will change from True to False in version 0.22 and will be removed in 0.24. This will change numeric results when test-set sizes are unequal.\n",
      "  DeprecationWarning)\n"
     ]
    }
   ],
   "source": [
    "#import SVC\n",
    "from sklearn.svm import SVC\n",
    "#import for Cross-Validation\n",
    "from sklearn.model_selection import GridSearchCV\n",
    "\n",
    "# parameters for linear SVM\n",
    "parameters = {'C': [0.0005, 0.005, 0.05, 0.5, 5, 50, 500]}\n",
    "\n",
    "svc = SVC(kernel = 'linear')\n",
    "clf_linear = GridSearchCV(svc, parameters, cv = 4)\n",
    "\n",
    "clf_linear.fit(X_train, y_train)\n",
    "\n",
    "#run linear SVM\n",
    "#for parameter in parameters['C']:\n",
    "#    svc = SVC(kernel ='linear', C = parameter).fit(X_train, y_train)\n",
    "#print(clf.predict(X_train))\n",
    "print ('RESULTS FOR LINEAR KERNEL')\n",
    "\n",
    "print(\"Best parameters set found:\")\n",
    "print(clf_linear.best_params_)\n",
    "\n",
    "print(\"Score with best parameters:\")\n",
    "print(clf_linear.best_score_)\n",
    "\n",
    "print(\"All scores on the grid:\")\n",
    "#print(clf.cv_results_)\n",
    "means_linear = clf_linear.cv_results_['mean_test_score']\n",
    "print(means_linear)"
   ]
  },
  {
   "cell_type": "markdown",
   "metadata": {},
   "source": [
    "## TO DO 2\n",
    "Pick a model for the Polynomial kernel with degree=2:"
   ]
  },
  {
   "cell_type": "code",
   "execution_count": 9,
   "metadata": {},
   "outputs": [
    {
     "name": "stdout",
     "output_type": "stream",
     "text": [
      "RESULTS FOR POLY DEGREE=2 KERNEL\n",
      "Best parameters set found:\n",
      "{'C': 0.05, 'gamma': 0.5}\n",
      "Score with best parameters:\n",
      "0.73\n",
      "All scores on the grid:\n",
      "[0.7  0.73 0.73 0.72 0.73 0.73 0.73 0.73 0.73]\n"
     ]
    },
    {
     "name": "stderr",
     "output_type": "stream",
     "text": [
      "/Users/alicepagano/anaconda3/lib/python3.7/site-packages/sklearn/model_selection/_search.py:814: DeprecationWarning: The default of the `iid` parameter will change from True to False in version 0.22 and will be removed in 0.24. This will change numeric results when test-set sizes are unequal.\n",
      "  DeprecationWarning)\n"
     ]
    }
   ],
   "source": [
    "# parameters for poly with degree 2 kernel\n",
    "parameters = {'C': [0.05, 0.5, 5],'gamma':[0.05,0.5,5.]}\n",
    "\n",
    "#run SVM with poly of degree 2 kernel\n",
    "\n",
    "degree = 2\n",
    "svc = SVC(kernel = 'poly', degree = degree)\n",
    "clf_p2 = GridSearchCV(svc, parameters, cv = 4)\n",
    "\n",
    "clf_p2.fit(X_train, y_train)\n",
    "\n",
    "print ('RESULTS FOR POLY DEGREE=2 KERNEL')\n",
    "\n",
    "print(\"Best parameters set found:\")\n",
    "print(clf_p2.best_params_)\n",
    "\n",
    "print(\"Score with best parameters:\")\n",
    "print(clf_p2.best_score_)\n",
    "\n",
    "print(\"All scores on the grid:\")\n",
    "#print(clf.cv_results_)\n",
    "means_p2 = clf_p2.cv_results_['mean_test_score']\n",
    "print(means_p2)"
   ]
  },
  {
   "cell_type": "markdown",
   "metadata": {},
   "source": [
    "## TO DO 3\n",
    "\n",
    "Now let's try a higher degree for the polynomial kernel."
   ]
  },
  {
   "cell_type": "code",
   "execution_count": 10,
   "metadata": {},
   "outputs": [
    {
     "name": "stdout",
     "output_type": "stream",
     "text": [
      "RESULTS FOR POLY DEGREE= 3  KERNEL\n",
      "Best parameters set found:\n",
      "{'C': 0.5, 'gamma': 0.05}\n",
      "Score with best parameters:\n",
      "0.71\n",
      "All scores on the grid:\n",
      "[0.684 0.704 0.704 0.71  0.704 0.704 0.704 0.704 0.704]\n"
     ]
    },
    {
     "name": "stderr",
     "output_type": "stream",
     "text": [
      "/Users/alicepagano/anaconda3/lib/python3.7/site-packages/sklearn/model_selection/_search.py:814: DeprecationWarning: The default of the `iid` parameter will change from True to False in version 0.22 and will be removed in 0.24. This will change numeric results when test-set sizes are unequal.\n",
      "  DeprecationWarning)\n"
     ]
    }
   ],
   "source": [
    "# parameters for poly with higher degree kernel\n",
    "parameters = {'C': [0.05, 0.5, 5],'gamma':[0.05,0.5,5.]}\n",
    "\n",
    "#run SVM with poly of higher degree kernel\n",
    "\n",
    "degree = 3\n",
    "svc = SVC(kernel = 'poly', degree = degree)\n",
    "clf_p3 = GridSearchCV(svc, parameters, cv = 4)\n",
    "\n",
    "clf_p3.fit(X_train, y_train)\n",
    "\n",
    "print ('RESULTS FOR POLY DEGREE=', degree, ' KERNEL')\n",
    "\n",
    "print(\"Best parameters set found:\")\n",
    "print(clf_p3.best_params_)\n",
    "\n",
    "print(\"Score with best parameters:\")\n",
    "print(clf_p3.best_score_)\n",
    "\n",
    "print(\"All scores on the grid:\")\n",
    "#print(clf.cv_results_)\n",
    "means_p3 = clf_p3.cv_results_['mean_test_score']\n",
    "print(means_p3)"
   ]
  },
  {
   "cell_type": "markdown",
   "metadata": {},
   "source": [
    "## TO DO 4\n",
    "Pick a model for the Radial Basis Function kernel:"
   ]
  },
  {
   "cell_type": "code",
   "execution_count": 11,
   "metadata": {},
   "outputs": [
    {
     "name": "stdout",
     "output_type": "stream",
     "text": [
      "RESULTS FOR rbf KERNEL\n",
      "Best parameters set found:\n",
      "{'C': 5, 'gamma': 0.005}\n",
      "Score with best parameters:\n",
      "0.77\n",
      "All scores on the grid:\n",
      "[0.712 0.644 0.12  0.12  0.77  0.724 0.14  0.12  0.766 0.724 0.14  0.12\n",
      " 0.766 0.724 0.14  0.12 ]\n"
     ]
    },
    {
     "name": "stderr",
     "output_type": "stream",
     "text": [
      "/Users/alicepagano/anaconda3/lib/python3.7/site-packages/sklearn/model_selection/_search.py:814: DeprecationWarning: The default of the `iid` parameter will change from True to False in version 0.22 and will be removed in 0.24. This will change numeric results when test-set sizes are unequal.\n",
      "  DeprecationWarning)\n"
     ]
    }
   ],
   "source": [
    "# parameters for rbf SVM\n",
    "parameters = {'C': [0.5, 5, 50, 500],'gamma':[0.005, 0.05, 0.5,5]}\n",
    "\n",
    "#run SVM with rbf kernel\n",
    "\n",
    "svc = SVC(kernel = 'rbf')\n",
    "clf_rbf = GridSearchCV(svc, parameters, cv = 4)\n",
    "\n",
    "clf_rbf.fit(X_train, y_train)\n",
    "\n",
    "print ('RESULTS FOR rbf KERNEL')\n",
    "\n",
    "print(\"Best parameters set found:\")\n",
    "print(clf_rbf.best_params_)\n",
    "\n",
    "print(\"Score with best parameters:\")\n",
    "print(clf_rbf.best_score_)\n",
    "\n",
    "print(\"All scores on the grid:\")\n",
    "#print(clf.cv_results_)\n",
    "means_rbf = clf_rbf.cv_results_['mean_test_score']\n",
    "print(means_rbf)"
   ]
  },
  {
   "cell_type": "markdown",
   "metadata": {},
   "source": [
    "## TO DO5\n",
    "What do you observe when using RBF and polynomial kernels on this dataset ?\n",
    "\n",
    "### ANSWER TO THE QUESTION\n",
    "\n",
    "RBF kernel results as the best one. For the polynomial kernels, we observe that the best is the linear one and that the score values decrease increasing the degree of the polynomial. "
   ]
  },
  {
   "cell_type": "markdown",
   "metadata": {},
   "source": [
    "## TO DO 6\n",
    "Report here the best SVM kernel and parameters"
   ]
  },
  {
   "cell_type": "code",
   "execution_count": 12,
   "metadata": {},
   "outputs": [
    {
     "name": "stdout",
     "output_type": "stream",
     "text": [
      "Best SVM training error: 0.058000\n",
      "Best SVM test error: 0.209630\n"
     ]
    }
   ],
   "source": [
    "#get training and test error for the best SVM model from CV\n",
    "best_SVM = clf_rbf\n",
    "\n",
    "training_error = 1. - best_SVM.score(X_train,y_train)\n",
    "test_error = 1. - best_SVM.score(X_test,y_test)\n",
    "\n",
    "print (\"Best SVM training error: %f\" % training_error)\n",
    "print (\"Best SVM test error: %f\" % test_error)"
   ]
  },
  {
   "cell_type": "markdown",
   "metadata": {},
   "source": [
    "## More data\n",
    "Now let's do the same but using more data points for training.\n",
    "\n",
    "\n",
    "Choose a new number of data points."
   ]
  },
  {
   "cell_type": "code",
   "execution_count": 13,
   "metadata": {},
   "outputs": [
    {
     "name": "stdout",
     "output_type": "stream",
     "text": [
      "Labels in training dataset:  [0 1 2 3 4 5 6 7 8 9]\n",
      "Frequencies in training dataset:  [199 214 191 201 191 179 218 191 195 221]\n"
     ]
    }
   ],
   "source": [
    "X = X[permutation]\n",
    "y = y[permutation]\n",
    "\n",
    "m_training = 2000 # TODO number of data points, adjust depending on the capabilities of your PC\n",
    "\n",
    "X_train, X_test = X[:m_training], X[m_training:]\n",
    "y_train, y_test = y[:m_training], y[m_training:]\n",
    "\n",
    "labels, freqs = np.unique(y_train, return_counts=True)\n",
    "print(\"Labels in training dataset: \", labels)\n",
    "print(\"Frequencies in training dataset: \", freqs)"
   ]
  },
  {
   "cell_type": "markdown",
   "metadata": {},
   "source": [
    "Let's try to use SVM with parameters obtained from the best model for $m_{training} =  2000$. Since it may take a long time to run, you can decide to just let it run for some time and stop it if it does not complete. If you decide to do this, report it in the TO DO 9 cell below.\n",
    "\n",
    "### TO DO 7"
   ]
  },
  {
   "cell_type": "code",
   "execution_count": 14,
   "metadata": {
    "scrolled": true
   },
   "outputs": [
    {
     "name": "stdout",
     "output_type": "stream",
     "text": [
      "RESULTS FOR rbf KERNEL\n",
      "Best parameters set found:\n",
      "{'C': 5, 'gamma': 0.005}\n",
      "Score with best parameters:\n",
      "0.8345\n",
      "All scores on the grid:\n",
      "[0.771  0.766  0.1105 0.1105 0.8345 0.8125 0.1705 0.1105 0.822  0.8125\n",
      " 0.1705 0.1105 0.822  0.8125 0.1705 0.1105]\n",
      "Best SVM training error: 0.062000\n",
      "Best SVM test error: 0.167466\n"
     ]
    }
   ],
   "source": [
    "#get training and test error for the best SVM model from CV\n",
    "\n",
    "# parameters for rbf SVM\n",
    "parameters = {'C': [0.5, 5, 50, 500],'gamma':[0.005, 0.05, 0.5,5]}\n",
    "\n",
    "#run SVM with rbf kernel\n",
    "\n",
    "svc = SVC(kernel = 'rbf')\n",
    "clf_rbf = GridSearchCV(svc, parameters, cv = 4)\n",
    "\n",
    "clf_rbf.fit(X_train, y_train)\n",
    "\n",
    "print ('RESULTS FOR rbf KERNEL')\n",
    "\n",
    "print(\"Best parameters set found:\")\n",
    "print(clf_rbf.best_params_)\n",
    "\n",
    "print(\"Score with best parameters:\")\n",
    "print(clf_rbf.best_score_)\n",
    "\n",
    "print(\"All scores on the grid:\")\n",
    "#print(clf.cv_results_)\n",
    "means_rbf = clf_rbf.cv_results_['mean_test_score']\n",
    "print(means_rbf)\n",
    "\n",
    "\n",
    "#get training and test error for the best SVM model from CV\n",
    "best_SVM = clf_rbf\n",
    "\n",
    "training_error = 1. - best_SVM.score(X_train,y_train)\n",
    "test_error = 1. - best_SVM.score(X_test,y_test)\n",
    "\n",
    "print (\"Best SVM training error: %f\" % training_error)\n",
    "print (\"Best SVM test error: %f\" % test_error)\n"
   ]
  },
  {
   "cell_type": "markdown",
   "metadata": {},
   "source": [
    "Just for comparison, let's also use logistic regression (with standard parameters from scikit-learn, i.e. some regularization is included).\n",
    "\n",
    "### TO DO 8 Try first without regularization (use a very large large C)"
   ]
  },
  {
   "cell_type": "code",
   "execution_count": 15,
   "metadata": {},
   "outputs": [
    {
     "name": "stderr",
     "output_type": "stream",
     "text": [
      "/Users/alicepagano/anaconda3/lib/python3.7/site-packages/sklearn/linear_model/logistic.py:469: FutureWarning: Default multi_class will be changed to 'auto' in 0.22. Specify the multi_class option to silence this warning.\n",
      "  \"this warning.\", FutureWarning)\n"
     ]
    },
    {
     "name": "stdout",
     "output_type": "stream",
     "text": [
      "Best logistic regression training error: 0.000000\n",
      "Best logistic regression test error: 0.239310\n"
     ]
    }
   ],
   "source": [
    "from sklearn import linear_model\n",
    "from sklearn import metrics\n",
    "\n",
    "reg = linear_model.LogisticRegression(C = 1e12, solver='newton-cg')\n",
    "reg.fit(X_train, y_train)\n",
    "\n",
    "# predictions on training data \n",
    "y_training_prediction_LR = reg.predict(X_train)\n",
    "\n",
    "# predictions on test data \n",
    "y_test_prediction_LR =reg.predict(X_test)\n",
    "\n",
    "training_error = 1 - metrics.accuracy_score(y_train, y_training_prediction_LR)\n",
    "test_error = 1 - metrics.accuracy_score(y_test, y_test_prediction_LR)\n",
    "\n",
    "print (\"Best logistic regression training error: %f\" % training_error)\n",
    "print (\"Best logistic regression test error: %f\" % test_error)"
   ]
  },
  {
   "cell_type": "markdown",
   "metadata": {},
   "source": [
    "### TO DO 9 Then use also some regularization "
   ]
  },
  {
   "cell_type": "code",
   "execution_count": 16,
   "metadata": {},
   "outputs": [
    {
     "name": "stderr",
     "output_type": "stream",
     "text": [
      "/Users/alicepagano/anaconda3/lib/python3.7/site-packages/sklearn/linear_model/logistic.py:469: FutureWarning: Default multi_class will be changed to 'auto' in 0.22. Specify the multi_class option to silence this warning.\n",
      "  \"this warning.\", FutureWarning)\n"
     ]
    },
    {
     "name": "stdout",
     "output_type": "stream",
     "text": [
      "Values of parameter C tried in 10-fold Cross-Validation: [         1         10        100       1000      10000     100000\n",
      "    1000000   10000000  100000000 1000000000]\n",
      "Accuracies obtained for the different values of C with 10-fold Cross-Validation: [0.99597713 0.9969847  0.99648718 0.99648718 0.99648718 0.99648718\n",
      " 0.99648718 0.99648718 0.99648718 0.99648718]\n",
      "Best value of parameter C according to 10-fold Cross-Validation: 1\n",
      "10-fold Cross-Validation accuracies obtained with the best value of parameter C: 1.0\n"
     ]
    },
    {
     "name": "stderr",
     "output_type": "stream",
     "text": [
      "/Users/alicepagano/anaconda3/lib/python3.7/site-packages/sklearn/linear_model/logistic.py:469: FutureWarning: Default multi_class will be changed to 'auto' in 0.22. Specify the multi_class option to silence this warning.\n",
      "  \"this warning.\", FutureWarning)\n"
     ]
    },
    {
     "name": "stdout",
     "output_type": "stream",
     "text": [
      "Best regularized logistic regression training error: 0.033000\n",
      "Best regularized logistic regression test error: 0.187914\n"
     ]
    }
   ],
   "source": [
    "#define the model using LogisticRegressionCV passing an appropriate solver, cv value, and choice of penalty\n",
    "reg = linear_model.LogisticRegressionCV(Cs=[1*np.power(10,i) for i in range(0,10,1)], solver='newton-cg',cv=10)\n",
    "\n",
    "#fit the model on training data\n",
    "reg.fit(X_train, y_train)\n",
    "\n",
    "# the attribute 'Cs_' contains ALL the values of C evaluated in cross-validation;\n",
    "# let's print them\n",
    "print(\"Values of parameter C tried in 10-fold Cross-Validation: {}\".format( reg.Cs_ ))\n",
    "\n",
    "# the attribute 'scores_' contains the accuracy obtained in each fold, for each value \n",
    "# of C tried; we now compute the average accuracy across the 10 folds\n",
    "\n",
    "CV_accuracies = np.divide(np.sum(reg.scores_[1],axis=0),10)\n",
    "\n",
    "# let's print the average accuracies obtained for the various values of C\n",
    "\n",
    "print(\"Accuracies obtained for the different values of C with 10-fold Cross-Validation: {}\".format( CV_accuracies ))\n",
    "\n",
    "# the attribute 'C_' contains the best value of C as identified by cross-validation;\n",
    "# let's print it\n",
    "\n",
    "print(\"Best value of parameter C according to 10-fold Cross-Validation: {}\".format( reg.C_[0] ))\n",
    "\n",
    "# let's store the best CV accuracy, and then print it\n",
    "#print(regL2.scores_[1])\n",
    "reg_best_CV_accuracy = np.max(reg.scores_[1])\n",
    "print(\"10-fold Cross-Validation accuracies obtained with the best value of parameter C: {}\".format( reg_best_CV_accuracy ))\n",
    "\n",
    "#define the model using the best C and an appropriate solver\n",
    "\n",
    "reg_full = linear_model.LogisticRegression(C=1,solver='newton-cg')\n",
    "\n",
    "#fit the model using the best C on the entire training set\n",
    "\n",
    "reg_full.fit(X_train,y_train)\n",
    "\n",
    "# predictions on training data \n",
    "y_training_prediction_LR_regularized = reg.predict(X_train)\n",
    "\n",
    "# predictions on test data \n",
    "y_test_prediction_LR_regularized =reg.predict(X_test)\n",
    "\n",
    "training_error = 1 - metrics.accuracy_score(y_train, y_training_prediction_LR_regularized)\n",
    "test_error = 1 - metrics.accuracy_score(y_test, y_test_prediction_LR_regularized)\n",
    "\n",
    "print (\"Best regularized logistic regression training error: %f\" % training_error)\n",
    "print (\"Best regularized logistic regression test error: %f\" % test_error)"
   ]
  },
  {
   "cell_type": "markdown",
   "metadata": {},
   "source": [
    "## TO DO 10\n",
    "Compare and discuss:\n",
    "- the results from SVM with m=500 and with m=2000 training data points. If you stopped the SVM, include such aspect in your comparison.\n",
    "- the results of SVM and of Logistic Regression with and without regularization\n",
    "\n",
    "### ANSWER TO THE QUESTION\n",
    "\n",
    "For the SVM we have:\n",
    "\n",
    "m |Score with best parameters | Best SVM training error | Best SVM test error\n",
    "                           ---|-----|------------|--------------\n",
    "500  | 0.79 | 0.054000 | 0.211748\n",
    "2000 | 0.819 |0.000000 | 0.172776\n",
    "\n",
    "\n",
    "For the logistic regression: \n",
    "\n",
    " regularization |  Best SVM training error | Best SVM test error \n",
    "   ---|------------|--------------\n",
    "without  | 0.000000 | 0.232155\n",
    "with   |0.029500 | 0.186345\n",
    "\n",
    "I can see that for the SVM increasing the dataset the training error goes to zero. It is a \"strange\" result, indeed what I expected was that the training error would not dramatically decreased as obtained. Maybe it is due to an instability given by the small dataset used. \n",
    "The test error improved increasing the dataset.\n",
    "For the logistic regression we obtain that the training error without regularization is zero, while the one with regularization is not zero. Maybe with the regularization we have partially solved the instability of the data. The test error improved adding regularization.\n"
   ]
  },
  {
   "cell_type": "markdown",
   "metadata": {},
   "source": [
    "## TO DO 10\n",
    "Plot an item of clothing that is missclassified by logistic regression and correctly classified by SVM."
   ]
  },
  {
   "cell_type": "code",
   "execution_count": 17,
   "metadata": {},
   "outputs": [
    {
     "name": "stdout",
     "output_type": "stream",
     "text": [
      "[8, 27, 45, 53, 91, 131, 140, 146, 171, 194, 205, 218, 285, 337, 373, 374, 399, 419, 423, 432, 435, 453, 478, 486, 490, 506, 534, 539, 545, 581, 666, 667, 669, 723, 751, 768, 775, 782, 783, 797, 798, 799, 863, 881, 890, 896, 906, 929, 945, 958, 968, 973, 995, 1001, 1044, 1066, 1072, 1073, 1084, 1091, 1126, 1184, 1185, 1186, 1203, 1205, 1220, 1225, 1257, 1269, 1286, 1288, 1310, 1400, 1413, 1415, 1444, 1461, 1472, 1486, 1520, 1526, 1542, 1558, 1576, 1581, 1597, 1622, 1624, 1631, 1640, 1658, 1662, 1689, 1707, 1733, 1736, 1750, 1839, 1845, 1847, 1856, 1870, 1882, 1906, 1909, 1927, 1946, 2030, 2036, 2059, 2068, 2069, 2074, 2078, 2081, 2084, 2098, 2104, 2119, 2125, 2129, 2133, 2162, 2191, 2248, 2303, 2316, 2337, 2345, 2367, 2369, 2400, 2417, 2484, 2511, 2527, 2574, 2620, 2627, 2630, 2653, 2660, 2694, 2718, 2774, 2796, 2797, 2805, 2807, 2825, 2851, 2868, 2896, 2904, 2932, 2934, 2958, 2987, 2989, 3004, 3019, 3112, 3136, 3145, 3156, 3224, 3229, 3275, 3294, 3311, 3321, 3337, 3377, 3381, 3390, 3491, 3504, 3508, 3543, 3568, 3618, 3623, 3633, 3636, 3645, 3676, 3693, 3734, 3795, 3797, 3812, 3823, 3839, 3841, 3861, 3904, 4035, 4045, 4074, 4076, 4086, 4094, 4103, 4108, 4114, 4121, 4182, 4200, 4232, 4335, 4336, 4347, 4394, 4398, 4407, 4426, 4428, 4459, 4460, 4514, 4564, 4610, 4635, 4654, 4658, 4666, 4686, 4700, 4703, 4760, 4791, 4794, 4806, 4809, 4829, 4864, 4912, 4916, 4927, 4935, 4944, 4991, 4993, 5008, 5014, 5029, 5030, 5036, 5065, 5093, 5115, 5155, 5170, 5186, 5254, 5278, 5300, 5306, 5307, 5316, 5383, 5388, 5409, 5442, 5444, 5447, 5451, 5458, 5459, 5467, 5520, 5522, 5534, 5540, 5550, 5558, 5559, 5566, 5578, 5586, 5593, 5603, 5615, 5632, 5676, 5690, 5694, 5727, 5743, 5745, 5825, 5830, 5859, 5898, 5902, 5915, 5946, 5974, 5994, 6015, 6022, 6024, 6027, 6041, 6062, 6105, 6138, 6149, 6195, 6201, 6205, 6230, 6248, 6284, 6290, 6312, 6352, 6406, 6415, 6528, 6560, 6660, 6690, 6702, 6719, 6721, 6734, 6763, 6773, 6774, 6789, 6801, 6811, 6860, 6905, 6918, 6927, 7021, 7024, 7025, 7027, 7035, 7045, 7049, 7099, 7102, 7107, 7121, 7122, 7140, 7143, 7156, 7169, 7208, 7233, 7242, 7248, 7257, 7286, 7299, 7306, 7326, 7333, 7360, 7378, 7381, 7426, 7439, 7441, 7447, 7453, 7467, 7471, 7478, 7513, 7531, 7535, 7565, 7566, 7574, 7667, 7679, 7686, 7689, 7698, 7704, 7724, 7727, 7737, 7738, 7767, 7770, 7813, 7816, 7842, 7843, 7864, 7872, 7886, 7910, 7920, 7927, 7934, 7935, 7941, 8004, 8047, 8058, 8071, 8082, 8094, 8108, 8124, 8141, 8147, 8152, 8163, 8232, 8240, 8253, 8295, 8305, 8354, 8362, 8426, 8441, 8442, 8455, 8484, 8493, 8498, 8551, 8578, 8603, 8628, 8679, 8690, 8696, 8716, 8719, 8762, 8782, 8811, 8817, 8825, 8892, 8912, 8919, 8937, 8945, 8956, 8960, 8980, 8983, 8987, 8996, 9000, 9010, 9015, 9032, 9041, 9049, 9058, 9063, 9073, 9081, 9096, 9118, 9119, 9129, 9131, 9136, 9163, 9172, 9219, 9223, 9232, 9265, 9282, 9305, 9307, 9308, 9326, 9338, 9341, 9350, 9391, 9397, 9431, 9444, 9460, 9473, 9492, 9528, 9539, 9546, 9564, 9573, 9589, 9593, 9594, 9599, 9607, 9621, 9627, 9643, 9648, 9677, 9699, 9702, 9757, 9758, 9765, 9844, 9851, 9862, 9872, 9900, 9963, 9978, 10004, 10046, 10069, 10094, 10130, 10149, 10165, 10170, 10177, 10186, 10190, 10193, 10215, 10228, 10236, 10243, 10257, 10283, 10287, 10345, 10373, 10380, 10384, 10389, 10399, 10407, 10409, 10441, 10467, 10492, 10494, 10512, 10559, 10570, 10580, 10626, 10635, 10639, 10650, 10664, 10672, 10736, 10792, 10808, 10830, 10834, 10864, 10873, 10880, 10886, 10928, 10932, 10998, 11011, 11012, 11063, 11064, 11117, 11136, 11141, 11159, 11169, 11177, 11182, 11185, 11211, 11223, 11230, 11251, 11271, 11318, 11365, 11383, 11411, 11433, 11440, 11483, 11486, 11516, 11519, 11531, 11534, 11561, 11566, 11572, 11589, 11603, 11634, 11647, 11727, 11729, 11741, 11789, 11790, 11807, 11815, 11828, 11863, 11865, 11866, 11880, 11887, 11930, 11945, 11958, 11961, 11983, 12013, 12034, 12039, 12050, 12051, 12054, 12064, 12095, 12098, 12108, 12125, 12142, 12154, 12177, 12224, 12238, 12278, 12293, 12298, 12308, 12314, 12317, 12325, 12351, 12360, 12398, 12414, 12473, 12500, 12545, 12600, 12627, 12656, 12681, 12684, 12690, 12723, 12748, 12772, 12844, 12899, 12909, 12914, 12923, 12930, 12971, 12993, 13004, 13066, 13069, 13074, 13104, 13229, 13243, 13248, 13323, 13350, 13374, 13396, 13494, 13518, 13524, 13532, 13543, 13549, 13567, 13574, 13637, 13641, 13650, 13655, 13662, 13706, 13719, 13730, 13735, 13757, 13828, 13845, 13848, 13880, 13908, 13912, 13934, 13946, 13952, 13955, 13993, 14030, 14037, 14038, 14042, 14052, 14068, 14080, 14091, 14101, 14108, 14112, 14162, 14166, 14167, 14169, 14193, 14194, 14207, 14228, 14231, 14292, 14312, 14331, 14347, 14366, 14385, 14393, 14449, 14453, 14469, 14474, 14479, 14503, 14535, 14554, 14564, 14571, 14577, 14582, 14630, 14643, 14644, 14648, 14671, 14676, 14696, 14699, 14760, 14765, 14773, 14785, 14809, 14822, 14825, 14832, 14835, 14864, 14874, 14895, 14937, 14942, 14956, 15040, 15057, 15090, 15096, 15103, 15115, 15123, 15137, 15186, 15209, 15226, 15238, 15242, 15259, 15263, 15269, 15276, 15303, 15356, 15384, 15427, 15472, 15478, 15496, 15505, 15519, 15529, 15545, 15554, 15559, 15578, 15610, 15622, 15631, 15636, 15640, 15652, 15653, 15691, 15711, 15747, 15758, 15812, 15824, 15845, 15856, 15864, 15913, 15936, 15949, 15952, 15973, 16001, 16002, 16069, 16091, 16103, 16122, 16128, 16149, 16150, 16152, 16160, 16168, 16175, 16207, 16217, 16225, 16243, 16248, 16252, 16301, 16331, 16334, 16340, 16350, 16367, 16400, 16403, 16404, 16423, 16447, 16458, 16515, 16520, 16566, 16574, 16586, 16590, 16596, 16598, 16688, 16695, 16696, 16701, 16711, 16760, 16770, 16774, 16789, 16790, 16796, 16798, 16802, 16806, 16845, 16848, 16856, 16870, 16883, 16885, 16965, 16999, 17000, 17026, 17066, 17076, 17112, 17114, 17120, 17123, 17158, 17175, 17181, 17286, 17289, 17311, 17319, 17337, 17340, 17369, 17371, 17375, 17424, 17440, 17454, 17464, 17475, 17492, 17503, 17504, 17512, 17527, 17528, 17568, 17571, 17586, 17591, 17665, 17677, 17694, 17710, 17712, 17802, 17828, 17832, 17901, 17904, 17928, 17937, 17968, 17982, 18005, 18018, 18097, 18104, 18135, 18156, 18158, 18168, 18191, 18236, 18240, 18248, 18252, 18258, 18274, 18323, 18336, 18354, 18356, 18360, 18382, 18399, 18441, 18461, 18463, 18468, 18474, 18513, 18518, 18539, 18541, 18544, 18580, 18589, 18634, 18656, 18700, 18715, 18748, 18781, 18821, 18824, 18832, 18837, 18874, 18880, 18903, 18907, 18921, 18969, 18989, 18994, 18996, 19011, 19019, 19033, 19043, 19044, 19049, 19082, 19090, 19110, 19232, 19236, 19253, 19270, 19272, 19273, 19278, 19281, 19290, 19293, 19325, 19337, 19339, 19370, 19448, 19454, 19455, 19457, 19475, 19479, 19489, 19497, 19504, 19512, 19548, 19553, 19556, 19568, 19575, 19625, 19679, 19718, 19734, 19735, 19751, 19755, 19773, 19795, 19798, 19816, 19868, 19885, 19938, 19944, 19946, 19977, 19983, 20037, 20043, 20049, 20051, 20060, 20096, 20109, 20124, 20138, 20148, 20150, 20166, 20170, 20173, 20175, 20180, 20191, 20206, 20224, 20237, 20272, 20293, 20312, 20338, 20394, 20416, 20436, 20442, 20443, 20451, 20452, 20453, 20473, 20475, 20523, 20530, 20594, 20595, 20607, 20642, 20680, 20684, 20704, 20727, 20738, 20759, 20762, 20803, 20811, 20826, 20839, 20862, 20873, 20874, 20884, 20891, 20905, 20932, 20937, 20961, 21000, 21020, 21060, 21071, 21084, 21093, 21103, 21166, 21177, 21230, 21232, 21257, 21276, 21286, 21295, 21357, 21362, 21387, 21397, 21434, 21435, 21438, 21444, 21467, 21473, 21526, 21592, 21616, 21627, 21629, 21631, 21714, 21723, 21724, 21744, 21780, 21811, 21817, 21827, 21848, 21851, 21871, 21921, 22010, 22012, 22044, 22047, 22055, 22073, 22101, 22134, 22136, 22149, 22192, 22212, 22239, 22241, 22248, 22254, 22258, 22372, 22375, 22394, 22399, 22414, 22431, 22446, 22452, 22464, 22500, 22521, 22565, 22578, 22585, 22633, 22645, 22653, 22676, 22692, 22696, 22697, 22740, 22776, 22787, 22801, 22808, 22839, 22841, 22861, 22926, 22981, 22989, 22990, 22993, 22997, 23018, 23048, 23055, 23061, 23066, 23067, 23068, 23088, 23098, 23105, 23125, 23127, 23130, 23156, 23271, 23286, 23340, 23363, 23367, 23404, 23418, 23438, 23450, 23451, 23476, 23539, 23550, 23552, 23562, 23581, 23621, 23629, 23633, 23665, 23725, 23756, 23815, 23821, 23873, 23874, 23877, 23886, 23888, 23943, 23975, 24016, 24021, 24027, 24056, 24060, 24089, 24115, 24135, 24160, 24181, 24185, 24215, 24216, 24219, 24231, 24266, 24295, 24297, 24303, 24332, 24339, 24349, 24357, 24371, 24372, 24375, 24376, 24416, 24437, 24454, 24492, 24538, 24540, 24545, 24546, 24563, 24565, 24605, 24621, 24657, 24692, 24695, 24740, 24747, 24771, 24836, 24864, 24901, 24908, 24920, 24929, 24938, 24953, 24954, 24991, 25000, 25004, 25009, 25033, 25037, 25061, 25066, 25082, 25107, 25168, 25175, 25176, 25216, 25228, 25240, 25244, 25321, 25339, 25349, 25350, 25353, 25365, 25366, 25409, 25413, 25431, 25439, 25457, 25473, 25521, 25527, 25536, 25557, 25613, 25633, 25635, 25639, 25669, 25715, 25728, 25738, 25752, 25773, 25783, 25836, 25896, 25902, 25903, 25989, 26000, 26026, 26043, 26047, 26051, 26069, 26093, 26113, 26131, 26141, 26150, 26198, 26215, 26354, 26358, 26363, 26408, 26411, 26449, 26451, 26493, 26508, 26518, 26533, 26581, 26620, 26632, 26667, 26682, 26705, 26707, 26709, 26734, 26755, 26761, 26783, 26789, 26799, 26818, 26907, 26931, 26932, 26937, 26951, 26968, 26969, 26975, 26997, 26998, 27011, 27017, 27021, 27042, 27059, 27128, 27142, 27196, 27222, 27244, 27257, 27261, 27274, 27307, 27316, 27323, 27378, 27430, 27450, 27462, 27467, 27468, 27478, 27481, 27504, 27524, 27525, 27527, 27539, 27565, 27567, 27568, 27590, 27598, 27637, 27645, 27662, 27667, 27680, 27688, 27746, 27760, 27773, 27798, 27799, 27801, 27820, 27823, 27830, 27866, 27884, 27888, 27910, 27929, 27960, 27978, 28040, 28054, 28083, 28095, 28112, 28113, 28115, 28133, 28143, 28156, 28160, 28195, 28201, 28218, 28231, 28250, 28260, 28271, 28316, 28468, 28469, 28472, 28531, 28627, 28630, 28664, 28704, 28724, 28763, 28766, 28782, 28802, 28807, 28810, 28883, 28908, 28968, 28981, 28996, 29018, 29029, 29058, 29059, 29070, 29087, 29097, 29120, 29143, 29190, 29226, 29249, 29266, 29280, 29300, 29321, 29325, 29382, 29388, 29390, 29428, 29450, 29456, 29475, 29477, 29495, 29551, 29573, 29578, 29600, 29604, 29619, 29641, 29674, 29689, 29804, 29824, 29846, 29856, 29865, 29866, 29872, 29876, 29884, 29889, 29894, 29914, 29919, 29929, 29930, 29937, 29946, 29957, 29959, 29962, 29967, 29997, 30024, 30027, 30028, 30038, 30054, 30075, 30091, 30103, 30143, 30150, 30168, 30170, 30184, 30204, 30225, 30232, 30240, 30272, 30274, 30288, 30296, 30365, 30369, 30374, 30376, 30377, 30503, 30564, 30573, 30657, 30659, 30661, 30669, 30685, 30693, 30711, 30712, 30731, 30745, 30758, 30763, 30764, 30766, 30797, 30809, 30826, 30843, 30849, 30850, 30853, 30865, 30875, 30954, 30956, 30990, 31002, 31004, 31009, 31015, 31022, 31032, 31034, 31043, 31069, 31077, 31079, 31092, 31127, 31140, 31155, 31175, 31212, 31226, 31229, 31240, 31242, 31255, 31263, 31264, 31294, 31341, 31343, 31345, 31368, 31369, 31382, 31392, 31403, 31411, 31417, 31418, 31438, 31454, 31489, 31502, 31510, 31531, 31579, 31581, 31585, 31587, 31588, 31600, 31603, 31606, 31671, 31713, 31738, 31745, 31770, 31772, 31795, 31809, 31838, 31862, 31866, 31884, 31903, 31908, 31925, 31959, 31971, 31996, 32015, 32023, 32029, 32089, 32114, 32135, 32142, 32146, 32151, 32160, 32232, 32261, 32262, 32302, 32305, 32311, 32315, 32332, 32340, 32369, 32382, 32385, 32409, 32419, 32425, 32435, 32445, 32460, 32463, 32466, 32471, 32496, 32554, 32563, 32579, 32583, 32718, 32720, 32728, 32733, 32751, 32769, 32774, 32783, 32794, 32804, 32810, 32818, 32833, 32869, 32883, 32891, 32900, 32916, 32927, 32947, 32951, 32954, 32971, 32980, 32997, 32998, 33034, 33092, 33151, 33152, 33171, 33199, 33202, 33245, 33256, 33304, 33358, 33373, 33392, 33421, 33450, 33458, 33460, 33463, 33477, 33485, 33487, 33504, 33517, 33561, 33581, 33595, 33619, 33621, 33642, 33663, 33667, 33672, 33733, 33740, 33742, 33771, 33806, 33831, 33849, 33861, 33884, 33904, 33913, 33929, 33941, 33944, 33960, 33966, 33991, 34006, 34009, 34037, 34077, 34094, 34110, 34136, 34155, 34160, 34165, 34170, 34183, 34210, 34279, 34294, 34296, 34314, 34355, 34385, 34390, 34424, 34436, 34437, 34480, 34482, 34500, 34502, 34518, 34553, 34564, 34574, 34619, 34663, 34669, 34677, 34685, 34691, 34749, 34773, 34779, 34799, 34807, 34812, 34844, 34849, 34856, 34884, 34886, 34894, 34917, 34920, 34949, 34969, 35015, 35028, 35051, 35057, 35084, 35090, 35108, 35142, 35146, 35147, 35154, 35172, 35178, 35186, 35187, 35193, 35217, 35225, 35243, 35257, 35285, 35308, 35336, 35349, 35452, 35455, 35464, 35475, 35485, 35507, 35526, 35550, 35551, 35602, 35619, 35620, 35647, 35677, 35687, 35700, 35736, 35742, 35764, 35822, 35824, 35841, 35847, 35952, 35964, 35970, 35988, 36000, 36069, 36072, 36077, 36083, 36186, 36218, 36232, 36247, 36249, 36280, 36293, 36296, 36319, 36329, 36339, 36398, 36407, 36425, 36441, 36447, 36484, 36491, 36500, 36512, 36517, 36528, 36578, 36581, 36593, 36615, 36622, 36626, 36649, 36660, 36666, 36703, 36726, 36729, 36748, 36762, 36764, 36820, 36840, 36863, 36874, 36908, 36917, 36936, 36938, 36979, 37099, 37154, 37155, 37162, 37163, 37168, 37173, 37185, 37204, 37250, 37292, 37317, 37323, 37349, 37356, 37364, 37387, 37388, 37405, 37412, 37419, 37424, 37452, 37478, 37495, 37498, 37507, 37516, 37518, 37538, 37556, 37557, 37578, 37600, 37610, 37645, 37673, 37681, 37734, 37755, 37776, 37866, 37902, 37944, 37956, 37957, 37969, 37970, 37977, 37993, 37994, 38004, 38122, 38129, 38137, 38141, 38168, 38193, 38211, 38243, 38246, 38268, 38271, 38274, 38277, 38278, 38334, 38347, 38351, 38366, 38379, 38394, 38395, 38441, 38457, 38463, 38477, 38489, 38490, 38492, 38507, 38513, 38518, 38525, 38551, 38552, 38563, 38570, 38608, 38663, 38664, 38673, 38711, 38733, 38742, 38765, 38767, 38789, 38804, 38831, 38863, 38883, 38915, 38936, 38937, 38960, 38965, 38976, 38978, 39024, 39056, 39059, 39065, 39066, 39076, 39103, 39139, 39167, 39179, 39194, 39263, 39266, 39284, 39294, 39306, 39329, 39334, 39391, 39446, 39447, 39483, 39484, 39500, 39501, 39583, 39632, 39687, 39731, 39739, 39756, 39763, 39777, 39844, 39870, 39878, 39883, 39889, 39902, 39966, 39992, 39999, 40021, 40052, 40057, 40084, 40102, 40108, 40127, 40129, 40163, 40164, 40172, 40174, 40186, 40197, 40210, 40232, 40235, 40297, 40309, 40313, 40341, 40349, 40353, 40369, 40385, 40396, 40417, 40418, 40423, 40490, 40502, 40564, 40574, 40595, 40598, 40607, 40623, 40647, 40675, 40687, 40708, 40731, 40758, 40759, 40761, 40778, 40799, 40821, 40833, 40835, 40858, 40891, 40940, 40941, 40965, 41042, 41062, 41081, 41131, 41145, 41177, 41200, 41205, 41235, 41244, 41261, 41265, 41272, 41299, 41322, 41326, 41350, 41353, 41365, 41367, 41383, 41391, 41392, 41428, 41441, 41446, 41463, 41508, 41550, 41579, 41599, 41607, 41633, 41691, 41706, 41712, 41727, 41732, 41737, 41743, 41761, 41763, 41769, 41786, 41788, 41799, 41821, 41834, 41844, 41899, 41919, 41924, 41970, 41981, 41993, 42034, 42042, 42053, 42074, 42084, 42091, 42113, 42132, 42155, 42165, 42172, 42173, 42187, 42191, 42222, 42230, 42245, 42247, 42256, 42277, 42408, 42412, 42413, 42451, 42471, 42475, 42487, 42493, 42495, 42527, 42533, 42539, 42548, 42557, 42566, 42642, 42647, 42675, 42680, 42681, 42699, 42703, 42708, 42711, 42713, 42722, 42756, 42757, 42784, 42786, 42796, 42824, 42826, 42834, 42845, 42873, 42882, 42885, 42907, 42931, 42974, 42996, 42998, 43013, 43022, 43037, 43047, 43058, 43065, 43081, 43083, 43087, 43089, 43116, 43127, 43161, 43167, 43179, 43193, 43208, 43212, 43235, 43259, 43275, 43288, 43293, 43305, 43336, 43342, 43344, 43394, 43412, 43429, 43447, 43477, 43489, 43526, 43592, 43611, 43638, 43678, 43680, 43687, 43717, 43792, 43808, 43848, 43863, 43879, 43883, 43885, 43941, 43949, 43962, 43965, 43969, 43970, 43990, 44016, 44022, 44035, 44117, 44120, 44131, 44136, 44138, 44140, 44182, 44214, 44231, 44256, 44285, 44307, 44308, 44311, 44333, 44364, 44387, 44422, 44438, 44529, 44587, 44613, 44676, 44689, 44726, 44739, 44759, 44764, 44779, 44809, 44817, 44838, 44850, 44860, 44865, 44894, 44898, 44922, 44974, 44990, 44998, 44999, 45078, 45089, 45099, 45109, 45138, 45154, 45221, 45305, 45346, 45368, 45379, 45405, 45462, 45464, 45499, 45516, 45559, 45562, 45572, 45603, 45619, 45627, 45657, 45664, 45671, 45698, 45730, 45734, 45736, 45752, 45770, 45791, 45802, 45827, 45857, 45863, 45867, 45872, 45887, 45928, 45933, 45942, 45949, 45956, 45961, 45962, 45969, 45980, 45993, 46025, 46029, 46034, 46046, 46055, 46058, 46068, 46069, 46074, 46076, 46094, 46098, 46136, 46148, 46176, 46179, 46217, 46235, 46248, 46251, 46263, 46269, 46322, 46375, 46384, 46474, 46484, 46501, 46509, 46516, 46525, 46536, 46582, 46620, 46634, 46647, 46658, 46716, 46737, 46758, 46769, 46812, 46822, 46849, 46854, 46855, 46862, 46870, 46871, 46903, 46937, 46970, 46988, 46992, 47010, 47025, 47040, 47115, 47124, 47170, 47176, 47202, 47204, 47207, 47233, 47234, 47252, 47254, 47267, 47268, 47269, 47297, 47313, 47320, 47353, 47354, 47357, 47366, 47377, 47400, 47425, 47446, 47471, 47492, 47534, 47560, 47592, 47632, 47673, 47680, 47700, 47706, 47710, 47715, 47732, 47737, 47744, 47746, 47767, 47784, 47809, 47816, 47831, 47837, 47843, 47904, 47912, 47915, 47922, 47927, 47932, 47951, 47974, 47978, 48000, 48020, 48026, 48034, 48053, 48062, 48114, 48132, 48183, 48197, 48199, 48208, 48216, 48262, 48269, 48271, 48300, 48301, 48310, 48350, 48357, 48363, 48384, 48388, 48403, 48411, 48473, 48479, 48487, 48490, 48513, 48528, 48532, 48533, 48546, 48563, 48570, 48574, 48586, 48599, 48649, 48650, 48671, 48691, 48719, 48725, 48728, 48816, 48821, 48823, 48844, 48854, 48882, 48883, 48897, 48902, 48907, 48935, 48963, 48964, 48992, 49004, 49005, 49007, 49040, 49049, 49064, 49075, 49100, 49104, 49111, 49128, 49132, 49166, 49180, 49188, 49243, 49256, 49356, 49357, 49373, 49383, 49409, 49413, 49425, 49458, 49478, 49481, 49489, 49491, 49500, 49514, 49518, 49521, 49524, 49554, 49571, 49578, 49592, 49607, 49616, 49617, 49660, 49668, 49676, 49693, 49732, 49748, 49754, 49780, 49833, 49863, 49895, 49896, 49918, 50000, 50003, 50014, 50039, 50041, 50046, 50077, 50080, 50093, 50101, 50119, 50145, 50176, 50193, 50234, 50238, 50254, 50283, 50287, 50330, 50336, 50342, 50345, 50353, 50376, 50403, 50404, 50405, 50416, 50434, 50493, 50560, 50564, 50587, 50670, 50688, 50693, 50696, 50704, 50732, 50746, 50794, 50825, 50837, 50874, 50894, 50910, 50940, 50947, 50961, 50967, 50974, 51088, 51110, 51111, 51112, 51124, 51129, 51132, 51165, 51171, 51186, 51194, 51199, 51203, 51207, 51220, 51234, 51254, 51265, 51275, 51279, 51307, 51347, 51363, 51367, 51416, 51426, 51428, 51429, 51452, 51481, 51494, 51520, 51531, 51625, 51659, 51666, 51700, 51726, 51729, 51731, 51738, 51750, 51758, 51773, 51806, 51853, 51855, 51867, 51881, 51918, 51923, 51948, 51968, 52000, 52011, 52053, 52066, 52073, 52088, 52122, 52128, 52145, 52184, 52189, 52191, 52204, 52241, 52245, 52263, 52299, 52320, 52331, 52332, 52333, 52345, 52346, 52348, 52397, 52410, 52417, 52422, 52441, 52472, 52495, 52498, 52499, 52538, 52560, 52563, 52568, 52574, 52600, 52627, 52670, 52678, 52709, 52723, 52732, 52739, 52760, 52761, 52770, 52789, 52793, 52816, 52836, 52839, 52841, 52859, 52868, 52879, 52888, 52889, 52895, 52902, 52906, 52923, 53018, 53066, 53087, 53102, 53106, 53152, 53170, 53182, 53250, 53263, 53367, 53377, 53417, 53422, 53438, 53447, 53457, 53461, 53488, 53489, 53527, 53532, 53608, 53623, 53655, 53657, 53680, 53681, 53704, 53718, 53723, 53729, 53732, 53734, 53770, 53781, 53787, 53788, 53812, 53844, 53874, 53877, 53893, 53894, 53902, 53906, 53999, 54005, 54006, 54008, 54021, 54028, 54043, 54049, 54075, 54077, 54154, 54167, 54214, 54271, 54273, 54276, 54284, 54294, 54300, 54301, 54317, 54323, 54343, 54353, 54368, 54408, 54412, 54420, 54426, 54456, 54467, 54474, 54477, 54499, 54518, 54555, 54584, 54587, 54640, 54647, 54718, 54724, 54739, 54742, 54797, 54811, 54817, 54819, 54853, 54861, 54878, 54884, 54888, 54901, 54907, 54908, 54913, 54917, 54927, 54948, 54954, 54957, 54960, 54972, 55017, 55021, 55029, 55047, 55049, 55052, 55064, 55099, 55102, 55107, 55117, 55119, 55142, 55144, 55148, 55197, 55198, 55222, 55232, 55252, 55268, 55271, 55273, 55278, 55319, 55326, 55380, 55426, 55487, 55552, 55569, 55587, 55619, 55659, 55724, 55746, 55758, 55795, 55809, 55813, 55817, 55828, 55903, 55945, 55962, 55969, 55973, 55991, 56039, 56064, 56071, 56077, 56091, 56113, 56124, 56130, 56139, 56143, 56169, 56194, 56197, 56238, 56256, 56272, 56282, 56295, 56339, 56345, 56347, 56432, 56443, 56457, 56482, 56486, 56489, 56509, 56529, 56552, 56560, 56561, 56567, 56586, 56622, 56646, 56652, 56688, 56689, 56712, 56722, 56726, 56796, 56821, 56852, 56866, 56905, 56924, 56938, 56958, 56959, 56968, 56973, 56980, 56991, 56997, 57017, 57021, 57028, 57044, 57048, 57074, 57104, 57126, 57160, 57169, 57171, 57178, 57182, 57196, 57215, 57228, 57243, 57262, 57280, 57351, 57371, 57407, 57427, 57444, 57477, 57558, 57570, 57579, 57586, 57610, 57617, 57627, 57638, 57739, 57753, 57765, 57775, 57785, 57788, 57799, 57804, 57809, 57824, 57828, 57849, 57875, 57877, 57884, 57898, 57911, 57917, 57933, 57934, 57936, 57958, 57985]\n",
      "3084\n"
     ]
    }
   ],
   "source": [
    "LR_prediction = reg_full.predict(X_test)\n",
    "SVM_prediction = clf_rbf.predict(X_test)\n",
    "\n",
    "missclassified = []\n",
    "for i in range(0,len(y_test)):\n",
    "    if LR_prediction[i] != y_test[i] and SVM_prediction[i] == y_test[i]:\n",
    "        missclassified.append(i)\n",
    "\n",
    "print(missclassified)\n",
    "print(len(missclassified))"
   ]
  },
  {
   "cell_type": "code",
   "execution_count": 18,
   "metadata": {},
   "outputs": [],
   "source": [
    "#function for plotting a image and printing the corresponding label\n",
    "def plot_input(X_matrix, labels, index):\n",
    "    print(\"INPUT:\")\n",
    "    plt.imshow(\n",
    "        X_matrix[index].reshape(28,28),\n",
    "        cmap          = plt.cm.gray_r,\n",
    "        interpolation = \"nearest\"\n",
    "    )\n",
    "    plt.show()\n",
    "    print(\"LABEL: %i\"%labels[index])\n",
    "    return"
   ]
  },
  {
   "cell_type": "code",
   "execution_count": 19,
   "metadata": {},
   "outputs": [
    {
     "name": "stdout",
     "output_type": "stream",
     "text": [
      "3084\n",
      "Missclassified sample index: 8\n",
      "LR prediction label: 6\n",
      "SVM prediction label: 2\n",
      "INPUT:\n"
     ]
    },
    {
     "data": {
      "image/png": "[encoded data removed]",
      "text/plain": [
       "<Figure size 432x288 with 1 Axes>"
      ]
     },
     "metadata": {
      "needs_background": "light"
     },
     "output_type": "display_data"
    },
    {
     "name": "stdout",
     "output_type": "stream",
     "text": [
      "LABEL: 2\n",
      "Missclassified sample index: 27\n",
      "LR prediction label: 3\n",
      "SVM prediction label: 1\n",
      "INPUT:\n"
     ]
    },
    {
     "data": {
      "image/png": "[encoded data removed]",
      "text/plain": [
       "<Figure size 432x288 with 1 Axes>"
      ]
     },
     "metadata": {
      "needs_background": "light"
     },
     "output_type": "display_data"
    },
    {
     "name": "stdout",
     "output_type": "stream",
     "text": [
      "LABEL: 1\n",
      "Missclassified sample index: 45\n",
      "LR prediction label: 7\n",
      "SVM prediction label: 9\n",
      "INPUT:\n"
     ]
    },
    {
     "data": {
      "image/png": "[encoded data removed]",
      "text/plain": [
       "<Figure size 432x288 with 1 Axes>"
      ]
     },
     "metadata": {
      "needs_background": "light"
     },
     "output_type": "display_data"
    },
    {
     "name": "stdout",
     "output_type": "stream",
     "text": [
      "LABEL: 9\n",
      "Missclassified sample index: 53\n",
      "LR prediction label: 5\n",
      "SVM prediction label: 7\n",
      "INPUT:\n"
     ]
    },
    {
     "data": {
      "image/png": "[encoded data removed]",
      "text/plain": [
       "<Figure size 432x288 with 1 Axes>"
      ]
     },
     "metadata": {
      "needs_background": "light"
     },
     "output_type": "display_data"
    },
    {
     "name": "stdout",
     "output_type": "stream",
     "text": [
      "LABEL: 7\n",
      "Missclassified sample index: 91\n",
      "LR prediction label: 4\n",
      "SVM prediction label: 3\n",
      "INPUT:\n"
     ]
    },
    {
     "data": {
      "image/png": "[encoded data removed]",
      "text/plain": [
       "<Figure size 432x288 with 1 Axes>"
      ]
     },
     "metadata": {
      "needs_background": "light"
     },
     "output_type": "display_data"
    },
    {
     "name": "stdout",
     "output_type": "stream",
     "text": [
      "LABEL: 3\n",
      "Missclassified sample index: 131\n",
      "LR prediction label: 4\n",
      "SVM prediction label: 2\n",
      "INPUT:\n"
     ]
    },
    {
     "data": {
      "image/png": "[encoded data removed]",
      "text/plain": [
       "<Figure size 432x288 with 1 Axes>"
      ]
     },
     "metadata": {
      "needs_background": "light"
     },
     "output_type": "display_data"
    },
    {
     "name": "stdout",
     "output_type": "stream",
     "text": [
      "LABEL: 2\n",
      "Missclassified sample index: 140\n",
      "LR prediction label: 7\n",
      "SVM prediction label: 5\n",
      "INPUT:\n"
     ]
    },
    {
     "data": {
      "image/png": "[encoded data removed]",
      "text/plain": [
       "<Figure size 432x288 with 1 Axes>"
      ]
     },
     "metadata": {
      "needs_background": "light"
     },
     "output_type": "display_data"
    },
    {
     "name": "stdout",
     "output_type": "stream",
     "text": [
      "LABEL: 5\n",
      "Missclassified sample index: 146\n",
      "LR prediction label: 5\n",
      "SVM prediction label: 9\n",
      "INPUT:\n"
     ]
    },
    {
     "data": {
      "image/png": "[encoded data removed]",
      "text/plain": [
       "<Figure size 432x288 with 1 Axes>"
      ]
     },
     "metadata": {
      "needs_background": "light"
     },
     "output_type": "display_data"
    },
    {
     "name": "stdout",
     "output_type": "stream",
     "text": [
      "LABEL: 9\n"
     ]
    }
   ],
   "source": [
    "print(len(missclassified))\n",
    "\n",
    "for index in missclassified[0:8]:\n",
    "    print('Missclassified sample index:', index)\n",
    "    print('LR prediction label:', LR_prediction[index])\n",
    "    print('SVM prediction label:', SVM_prediction[index])\n",
    "    plot_input(X_test,y_test,index)"
   ]
  },
  {
   "cell_type": "markdown",
   "metadata": {},
   "source": [
    "## TO DO 11\n",
    "Plot the confusion matrix for the SVM classifier and for logistic regression.\n",
    "The confusion matrix has one column for each predicted label and one row for each true label. \n",
    "It shows for each class in the corresponding row how many samples belonging to that class gets each possible output label.\n",
    "Notice that the diagonal contains the correctly classified samples, while the other cells correspond to errors.\n",
    "You can obtain it with the sklearn.metrics.confusion_matrix function (see the documentation).\n",
    "Try also to normalize the confusion matrix by the number of samples in each class in order to measure the accuracy on each single class.\n"
   ]
  },
  {
   "cell_type": "code",
   "execution_count": 20,
   "metadata": {},
   "outputs": [
    {
     "name": "stdout",
     "output_type": "stream",
     "text": [
      "Labels and frequencies in test set:  [5801 5786 5809 5799 5809 5821 5782 5809 5805 5779]\n",
      "\n",
      " Confusion matrix SVM  \n",
      " \n",
      " [[4566    2   57  405   12    6  703    0   48    2]\n",
      " [  29 5473   62  193    6    0   21    0    2    0]\n",
      " [  76    4 4123   60  907    3  611    0   25    0]\n",
      " [ 175   20   70 5153  108    0  250    0   23    0]\n",
      " [  18    4  415  397 4416    3  538    0   17    1]\n",
      " [   9    1   15   10    0 5199   10  392   38  147]\n",
      " [ 900    4  683  178  595    3 3343    0   74    2]\n",
      " [   0    0    0    0    0  297    0 5087   11  414]\n",
      " [  38    2   42   28   18   50  139   28 5449   11]\n",
      " [   1    0    5   10    1  106    5  170    3 5478]]\n",
      "\n",
      " Confusion matrix SVM (normalized)   \n",
      " \n",
      " [[0.79 0.   0.01 0.07 0.   0.   0.12 0.   0.01 0.  ]\n",
      " [0.01 0.95 0.01 0.03 0.   0.   0.   0.   0.   0.  ]\n",
      " [0.01 0.   0.71 0.01 0.16 0.   0.11 0.   0.   0.  ]\n",
      " [0.03 0.   0.01 0.89 0.02 0.   0.04 0.   0.   0.  ]\n",
      " [0.   0.   0.07 0.07 0.76 0.   0.09 0.   0.   0.  ]\n",
      " [0.   0.   0.   0.   0.   0.89 0.   0.07 0.01 0.03]\n",
      " [0.16 0.   0.12 0.03 0.1  0.   0.58 0.   0.01 0.  ]\n",
      " [0.   0.   0.   0.   0.   0.05 0.   0.88 0.   0.07]\n",
      " [0.01 0.   0.01 0.   0.   0.01 0.02 0.   0.94 0.  ]\n",
      " [0.   0.   0.   0.   0.   0.02 0.   0.03 0.   0.95]]\n",
      "\n",
      " Confusion matrix LR  \n",
      " \n",
      " [[4433    7  123  353   25   11  761    1   85    2]\n",
      " [  41 5465   72  159   19    0   25    1    4    0]\n",
      " [ 102    4 3889   57 1032    5  668    1   51    0]\n",
      " [ 279   59  113 4837  171    6  312    1   21    0]\n",
      " [  56    5  451  228 4391    2  634    0   41    1]\n",
      " [   7    0   31   17    0 5003   18  477   77  191]\n",
      " [ 922   13  671  192  709   10 3148    2  114    1]\n",
      " [   0    0    2    0    0  321    0 5108   15  363]\n",
      " [  47    2   62   43   34   36  147   29 5395   10]\n",
      " [   7    0    4    5    1  137    5  198    2 5420]]\n",
      "\n",
      " Confusion matrix LR (normalized)   \n",
      " \n",
      " [[0.76 0.   0.02 0.06 0.   0.   0.13 0.   0.01 0.  ]\n",
      " [0.01 0.94 0.01 0.03 0.   0.   0.   0.   0.   0.  ]\n",
      " [0.02 0.   0.67 0.01 0.18 0.   0.11 0.   0.01 0.  ]\n",
      " [0.05 0.01 0.02 0.83 0.03 0.   0.05 0.   0.   0.  ]\n",
      " [0.01 0.   0.08 0.04 0.76 0.   0.11 0.   0.01 0.  ]\n",
      " [0.   0.   0.01 0.   0.   0.86 0.   0.08 0.01 0.03]\n",
      " [0.16 0.   0.12 0.03 0.12 0.   0.54 0.   0.02 0.  ]\n",
      " [0.   0.   0.   0.   0.   0.06 0.   0.88 0.   0.06]\n",
      " [0.01 0.   0.01 0.01 0.01 0.01 0.03 0.   0.93 0.  ]\n",
      " [0.   0.   0.   0.   0.   0.02 0.   0.03 0.   0.94]]\n"
     ]
    }
   ],
   "source": [
    "from sklearn.metrics import confusion_matrix\n",
    "\n",
    "# for better aligned printing of confusion matrix use floatmode='fixed' (not supported in all versions of Python)\n",
    "np.set_printoptions(precision=2, suppress=True) \n",
    "\n",
    "u, counts = np.unique(y_test, return_counts=True)\n",
    "print(\"Labels and frequencies in test set: \", counts)\n",
    "\n",
    "confusion_SVM = confusion_matrix(y_test, SVM_prediction)\n",
    "print(\"\\n Confusion matrix SVM  \\n \\n\", confusion_SVM)\n",
    "print(\"\\n Confusion matrix SVM (normalized)   \\n \\n\", confusion_SVM /counts[:,None] )\n",
    "\n",
    "confusion_LR = confusion_matrix(y_test, LR_prediction)\n",
    "print(\"\\n Confusion matrix LR  \\n \\n\", confusion_LR)\n",
    "print(\"\\n Confusion matrix LR (normalized)   \\n \\n\", confusion_LR /counts[:,None] )"
   ]
  },
  {
   "cell_type": "markdown",
   "metadata": {},
   "source": [
    "## TO DO 12\n",
    "Have a look at the confusion matrices and comment on the obtained accuracies. Why some classes have lower accuracies and others an higher one ? Make some guesses on the possible causes.\n",
    "\n",
    "### ANSWER TO THE QUESTION\n",
    "The accuracy of each class depends on the fact that some classes are easier classifed as others because of the similiarity of the images. For example the trousers are the best one classified because they are the most different images with respect for example the dress, the t-shirt etc.\n",
    "The t-shirt are the worst classified because they are similar to most of other classes.\n"
   ]
  },
  {
   "cell_type": "code",
   "execution_count": null,
   "metadata": {},
   "outputs": [],
   "source": []
  }
 ],
 "metadata": {
  "kernelspec": {
   "display_name": "Python 3",
   "language": "python",
   "name": "python3"
  },
  "language_info": {
   "codemirror_mode": {
    "name": "ipython",
    "version": 3
   },
   "file_extension": ".py",
   "mimetype": "text/x-python",
   "name": "python",
   "nbconvert_exporter": "python",
   "pygments_lexer": "ipython3",
   "version": "3.7.2"
  }
 },
 "nbformat": 4,
 "nbformat_minor": 2
}
