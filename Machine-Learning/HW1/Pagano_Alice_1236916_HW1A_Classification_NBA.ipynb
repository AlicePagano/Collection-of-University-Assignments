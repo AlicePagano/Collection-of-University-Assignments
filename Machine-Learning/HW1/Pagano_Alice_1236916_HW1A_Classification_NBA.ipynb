{
 "cells": [
  {
   "cell_type": "markdown",
   "metadata": {},
   "source": [
    "# Classification of NBA players role\n",
    "\n",
    "## IMPORTANT: make sure to rerun all the code from the beginning to obtain the results for the final version of your notebook, since this is the way we will do it before evaluting your notebook! Only the notebook file will be submitted, do not change the data filenames, file content or paths we'll use the provided ones."
   ]
  },
  {
   "cell_type": "markdown",
   "metadata": {},
   "source": [
    "Student name: Alice Pagano <br>\n",
    "ID Number: 1236916"
   ]
  },
  {
   "cell_type": "markdown",
   "metadata": {},
   "source": [
    "### Dataset description\n",
    "\n",
    "We will be working with a dataset of NBA basketball players data (you can get from https://www.kaggle.com/jacobbaruch/nba-player-of-the-week the full dataset).\n",
    "\n",
    "The provided data is a subset of the full dataset containing the players that have the role of Center and of Point Guard. For each player the dataset contains the height, weight and age.\n",
    "\n",
    "From Wikipedia:\n",
    "\n",
    "The **Center** (C), also known as the five, or the big man, is one of the five positions in a regular basketball game. The center is normally the tallest player on the team, and often has a great deal of strength and body mass as well. In the NBA, the center is usually 6' 10\" (2.08 m) or taller and usually weighs 240 lbs (109 kg) or more. \n",
    "\n",
    "**Point Guards** (PG, a.k.a. as \"play maker\") are expected to run the team's offense by controlling the ball and making sure that it gets to the right players at the right time. In the NBA, point guards are usually about 6' 3\" (1.93 m) or shorter, and average about 6' 2\" (1.88 m). Having above-average size (height, muscle) is considered advantageous, although size is secondary to situational awareness, speed, quickness, and ball handling skills. Shorter players tend to be better dribblers since they are closer to the floor, and thus have better control of the ball while dribbling. \n",
    "\n",
    "\n",
    "As it is clear from the description, the height and weight of the player are good hints to predict their role and in this lab we will exploit this features to estimate the role.\n",
    "\n",
    "\n",
    "### Three features (regressors) are considered for this dataset:\n",
    "\n",
    "\n",
    "1) Height in cm\n",
    "\n",
    "2) Weight in kg\n",
    "\n",
    "3) Age in years"
   ]
  },
  {
   "cell_type": "markdown",
   "metadata": {},
   "source": [
    "We first import all the packages that are needed."
   ]
  },
  {
   "cell_type": "code",
   "execution_count": 1,
   "metadata": {},
   "outputs": [],
   "source": [
    "%matplotlib inline\n",
    "import matplotlib.pyplot as plt\n",
    "import csv\n",
    "\n",
    "import numpy as np\n",
    "import scipy as sp\n",
    "import sklearn as sl\n",
    "from scipy import stats\n",
    "from sklearn import datasets\n",
    "from sklearn import linear_model"
   ]
  },
  {
   "cell_type": "markdown",
   "metadata": {},
   "source": [
    "# Perceptron\n",
    "We will implement the perceptron algorithm and use it to learn a halfspace."
   ]
  },
  {
   "cell_type": "markdown",
   "metadata": {},
   "source": [
    "**TO DO** Set the random seed (you can use your ID (matricola) or any other number!)."
   ]
  },
  {
   "cell_type": "code",
   "execution_count": 2,
   "metadata": {},
   "outputs": [],
   "source": [
    "IDnumber = 1236916 # try also to change the seed to see the impact of random initialization on the results\n",
    "np.random.seed(IDnumber)"
   ]
  },
  {
   "cell_type": "markdown",
   "metadata": {},
   "source": [
    "Load the dataset and then split in training set and test set (the training set is typically larger, you can use a 75% tranining 25% test split) after applying a random permutation to the datset."
   ]
  },
  {
   "cell_type": "markdown",
   "metadata": {},
   "source": [
    "A) Load dataset and perform permutation"
   ]
  },
  {
   "cell_type": "code",
   "execution_count": 3,
   "metadata": {},
   "outputs": [
    {
     "name": "stdout",
     "output_type": "stream",
     "text": [
      "['Position', 'Height cm', 'kg', 'Age']\n"
     ]
    }
   ],
   "source": [
    "#load the dataset\n",
    "filename = 'data/NBA.csv' # do not change the file name or content\n",
    "NBA = csv.reader(open(filename, newline=''), delimiter=',')\n",
    "\n",
    "header = next(NBA) #skip first line\n",
    "print(header)\n",
    "\n",
    "dataset = list(NBA)\n",
    "for i in range(len(dataset)):\n",
    "    dataset[i] = [int(x) for x in dataset[i]]\n",
    "    \n",
    "dataset = np.asarray(dataset)\n",
    "\n",
    "X = dataset[:,1:4] #columns 1,2,3 contain the features\n",
    "Y = dataset[:,0]  # column 0: labels\n",
    "\n",
    "\n",
    "Y = Y*2-1  # set labels to -1, 1 as required by perceptron implementation\n",
    "\n",
    "m = dataset.shape[0]\n",
    "permutation = np.random.permutation(m) # random permurtation\n",
    "\n",
    "X = X[permutation]\n",
    "Y = Y[permutation]\n",
    "\n",
    "#print(X)"
   ]
  },
  {
   "cell_type": "markdown",
   "metadata": {},
   "source": [
    "We are going to classify class \"1\" (Center) vs class \"-1\" (Point Guard)"
   ]
  },
  {
   "cell_type": "markdown",
   "metadata": {},
   "source": [
    "B) **TO DO** Divide the data into training set and test set (3/4 of the data in the first set, 1/4 in the second one)"
   ]
  },
  {
   "cell_type": "code",
   "execution_count": 4,
   "metadata": {},
   "outputs": [
    {
     "name": "stdout",
     "output_type": "stream",
     "text": [
      "[ 1 -1  1  1 -1  1 -1 -1  1  1  1 -1 -1  1  1 -1  1  1 -1  1  1  1 -1 -1\n",
      "  1 -1 -1 -1  1 -1  1 -1  1 -1  1 -1  1  1 -1  1 -1  1 -1 -1 -1  1  1 -1\n",
      " -1  1 -1 -1  1  1  1 -1 -1 -1 -1 -1  1  1  1  1  1  1 -1  1  1 -1  1  1\n",
      " -1 -1 -1 -1 -1  1  1 -1 -1 -1 -1  1  1  1  1  1  1 -1  1 -1 -1  1  1  1\n",
      " -1  1  1 -1  1  1  1  1  1 -1  1  1 -1  1 -1 -1 -1 -1  1 -1 -1  1  1 -1\n",
      "  1 -1  1 -1  1 -1  1 -1  1 -1  1  1 -1 -1 -1  1 -1  1  1 -1 -1  1  1 -1\n",
      "  1  1 -1  1  1  1  1  1  1  1  1 -1  1  1  1  1  1 -1 -1 -1  1 -1 -1 -1\n",
      "  1  1  1  1  1 -1 -1  1 -1  1  1 -1 -1  1  1 -1 -1 -1  1  1  1  1  1 -1\n",
      "  1  1 -1]\n",
      "65\n",
      "Shape of training set: (195, 3)\n",
      "Shape of test set: (65, 3)\n"
     ]
    }
   ],
   "source": [
    "#Divide in training and test: make sure that your training set\n",
    "#contains at least 10 elements from class 1 and at least 10 elements\n",
    "#from class -1! If it does not, modify the code so to apply more random\n",
    "#permutations (or the same permutation multiple times) until this happens.\n",
    "#IMPORTANT: do not change the random seed.\n",
    "\n",
    "#m_training needs to be the number of samples in the training set\n",
    "m_training = int(3/4*X.shape[0])\n",
    "\n",
    "#m_test needs to be the number of samples in the test set\n",
    "m_test = int(1/4*X.shape[0])\n",
    "\n",
    "#X_training = instances for training set\n",
    "X_training = X[:m_training,:]\n",
    "#Y_training = labels for the training set\n",
    "Y_training = Y[:m_training]\n",
    "\n",
    "#X_test = instances for test set\n",
    "X_test =  X[m_training:m_test+m_training,:]\n",
    "#Y_test = labels for the test set\n",
    "Y_test = Y[m_training:m_test+m_training]\n",
    "\n",
    "print(Y_training) #to make sure that Y_training contains both 1 and -1\n",
    "print(m_test)\n",
    "\n",
    "print(\"Shape of training set: \" + str(X_training.shape))\n",
    "print(\"Shape of test set: \" + str(X_test.shape))"
   ]
  },
  {
   "cell_type": "markdown",
   "metadata": {},
   "source": [
    "**TO DO** Now add a 1 in front of each sample so that we can use a vector in homogeneous coordinates to describe all the coefficients of the model. You can use the function $hstack$ in $numpy$"
   ]
  },
  {
   "cell_type": "code",
   "execution_count": 5,
   "metadata": {},
   "outputs": [],
   "source": [
    "#add a 1 to each sample (homogeneous coordinates)\n",
    "\n",
    "one = np.ones((X_training.shape[0],1))\n",
    "\n",
    "X_training_1 = np.hstack((one,X_training))\n",
    "\n",
    "#print(X_training_1)\n",
    "#print(Y_training)\n",
    "\n",
    "one = np.ones((X_test.shape[0],1))\n",
    "X_test_1 = np.hstack((one,X_test))"
   ]
  },
  {
   "cell_type": "markdown",
   "metadata": {},
   "source": [
    "**TO DO** Now complete the function *perceptron*. Since the perceptron does not terminate if the data is not linearly separable, your implementation should return the desired output (see below) if it reached the termination condition seen in class or if a maximum number of iterations have already been run, where one iteration corresponds to one update of the perceptron weights. In case the termination is reached because the maximum number of iterations have been completed, the implementation should return **the best model** seen up to now.\n",
    "\n",
    "The input parameters to pass are:\n",
    "- $X$: the matrix of input features, one row for each sample\n",
    "- $Y$: the vector of labels for the input features matrix X\n",
    "- $max\\_num\\_iterations$: the maximum number of iterations for running the perceptron\n",
    "\n",
    "The output values are:\n",
    "- $best\\_w$: the vector with the coefficients of the best model\n",
    "- $best\\_error$: the *fraction* of missclassified samples for the best model"
   ]
  },
  {
   "cell_type": "code",
   "execution_count": 6,
   "metadata": {},
   "outputs": [],
   "source": [
    "def perceptron(X, Y, max_num_iterations):\n",
    "    \n",
    "    w = np.zeros(X.shape[1])\n",
    "    \n",
    "    all_err = []\n",
    "    all_w = []\n",
    "    t=1\n",
    "    \n",
    "    \n",
    "    while (t<= max_num_iterations):\n",
    "        \n",
    "        for i in range(X.shape[0]):\n",
    "            \n",
    "            if ( Y[i]*np.dot(w,X[i]) ) <= 0:\n",
    "                w = w + Y[i]*X[i]\n",
    "                err = 0\n",
    "                \n",
    "                for j in range(X.shape[0]):\n",
    "                    if ( Y[j]*np.dot(w,X[j]) ) <= 0:\n",
    "                        err += 1    \n",
    "                        \n",
    "                all_err.append(err/X.shape[0])\n",
    "                all_w.append(w)       \n",
    "                t+=1\n",
    "                break\n",
    "                \n",
    "            if (i==X.shape[0]-1):  \n",
    "                best_w = all_w[-1]   \n",
    "                best_error = all_err[-1]\n",
    "                return best_w,best_error   \n",
    "            else:\n",
    "                continue  \n",
    "    \n",
    "    index = np.argmin(all_err)\n",
    "    best_w = all_w[index]\n",
    "    best_error = all_err[index]\n",
    "    \n",
    "    print('number of iteration:',t)\n",
    "    return best_w, best_error\n"
   ]
  },
  {
   "cell_type": "markdown",
   "metadata": {},
   "source": [
    "Now we use the implementation above of the perceptron to learn a model from the training data using 100 iterations and print the error of the best model we have found."
   ]
  },
  {
   "cell_type": "code",
   "execution_count": 7,
   "metadata": {},
   "outputs": [
    {
     "name": "stdout",
     "output_type": "stream",
     "text": [
      "number of iteration: 101\n",
      "Training Error of perpceptron (100 iterations): 0.07179487179487179\n"
     ]
    }
   ],
   "source": [
    "#now run the perceptron for 100 iterations\n",
    "w_found, error = perceptron(X_training_1,Y_training, 100)\n",
    "print(\"Training Error of perpceptron (100 iterations): \" + str(error))"
   ]
  },
  {
   "cell_type": "markdown",
   "metadata": {},
   "source": [
    "**TO DO** use the best model $w\\_found$ to predict the labels for the test dataset and print the fraction of missclassified samples in the test set (the test error that is an estimate of the true loss)."
   ]
  },
  {
   "cell_type": "code",
   "execution_count": 8,
   "metadata": {},
   "outputs": [
    {
     "name": "stdout",
     "output_type": "stream",
     "text": [
      "Test Error of perpceptron (100 iterations): 0.09230769230769231\n",
      "Difference:0.020512820512820523\n"
     ]
    }
   ],
   "source": [
    "#now use the w_found to make predictions on test dataset\n",
    "\n",
    "num_errors = 0\n",
    "\n",
    "for i in range(X_test_1.shape[0]):   \n",
    "            if ( Y_test[i]*np.dot(w_found,X_test_1[i]) ) <= 0:\n",
    "                num_errors += 1\n",
    "                \n",
    "true_loss_estimate = num_errors/m_test  # error rate on the test set\n",
    "#NOTE: you can avoid using num_errors if you prefer, as long as true_loss_estimate is correct\n",
    "print(\"Test Error of perpceptron (100 iterations): \" + str(true_loss_estimate))\n",
    "\n",
    "diff_error = true_loss_estimate - error\n",
    "print(\"Difference:\"+ str(diff_error))"
   ]
  },
  {
   "cell_type": "markdown",
   "metadata": {},
   "source": [
    "**TO DO** **[Answer the following]** What about the difference betweeen the training error and the test error  in terms of fraction of missclassified samples)? Explain what you observe. [Write the answer in this cell]\n",
    "\n",
    "**ANSWE QUESTION 1** <br>\n",
    "The difference is $\\sim0.0205$ and it is due to the fact that the training error deriving from the algorithm is influenced by the data itself, while the error in the test_set is greater than the former because there is not this effect, indeed the test data is unknown. "
   ]
  },
  {
   "cell_type": "markdown",
   "metadata": {},
   "source": [
    "**TO DO** Copy the code from the last 2 cells above in the cell below and repeat the training with 5000 iterations. Then print the error in the training set and the estimate of the true loss obtained from the test set."
   ]
  },
  {
   "cell_type": "code",
   "execution_count": 9,
   "metadata": {
    "scrolled": true
   },
   "outputs": [
    {
     "name": "stdout",
     "output_type": "stream",
     "text": [
      "number of iteration: 5001\n",
      "Training Error of perpceptron (5000 iterations): 0.07179487179487179\n",
      "Test Error of perpceptron (5000 iterations): 0.09230769230769231\n",
      "Difference:0.020512820512820523\n"
     ]
    }
   ],
   "source": [
    "#now run the perceptron for 5000 iterations here!\n",
    "\n",
    "w_found, error = perceptron(X_training_1,Y_training, 5000)\n",
    "print(\"Training Error of perpceptron (5000 iterations): \" + str(error))\n",
    "\n",
    "num_errors = 0\n",
    "\n",
    "for i in range(X_test_1.shape[0]):   \n",
    "            if ( Y_test[i]*np.dot(w_found,X_test_1[i]) ) <= 0:\n",
    "                num_errors += 1\n",
    "                \n",
    "true_loss_estimate = num_errors/m_test  # error rate on the test set\n",
    "#NOTE: you can avoid using num_errors if you prefer, as long as true_loss_estimate is correct\n",
    "print(\"Test Error of perpceptron (5000 iterations): \" + str(true_loss_estimate))\n",
    "\n",
    "diff_error = true_loss_estimate - error\n",
    "print(\"Difference:\"+ str(diff_error))"
   ]
  },
  {
   "cell_type": "markdown",
   "metadata": {},
   "source": [
    "**TO DO** [Answer the following] What about the difference betweeen the training error and the test error  in terms of fraction of missclassified samples) when running for a larger number of iterations ? Explain what you observe and compare with the previous case. [Write the answer in this cell]\n",
    "\n",
    "**ANSWER QUESTION 2**\n",
    "The difference it is the same maybe because the best_w and it is relative best_err have been already founded in the first 100 iterations."
   ]
  },
  {
   "cell_type": "markdown",
   "metadata": {},
   "source": [
    "# Logistic Regression\n",
    "Now we use logistic regression, as implemented in Scikit-learn, to predict labels. We will also plot the decision region of logistic regression.\n",
    "\n",
    "We first load the dataset again."
   ]
  },
  {
   "cell_type": "code",
   "execution_count": 10,
   "metadata": {},
   "outputs": [
    {
     "name": "stdout",
     "output_type": "stream",
     "text": [
      "['Position', 'Height cm', 'kg', 'Age']\n"
     ]
    }
   ],
   "source": [
    "filename = 'data/NBA.csv'\n",
    "NBA = csv.reader(open(filename, newline=''), delimiter=',')\n",
    "\n",
    "header = next(NBA)\n",
    "print(header)\n",
    "\n",
    "dataset = list(NBA)\n",
    "for i in range(len(dataset)):\n",
    "    dataset[i] = [int(x) for x in dataset[i]]\n",
    "    \n",
    "dataset = np.asarray(dataset)\n",
    "\n",
    "X = dataset[:,1:]\n",
    "Y = dataset[:,0]\n",
    "\n",
    "Y = Y*2-1  # set labels to {-1, 1} as required by perceptron implementation\n",
    "\n",
    "m = dataset.shape[0]\n",
    "permutation = np.random.permutation(m)\n",
    "\n",
    "X = X[permutation]\n",
    "Y = Y[permutation]"
   ]
  },
  {
   "cell_type": "markdown",
   "metadata": {},
   "source": [
    "**TO DO** As for the previous part, divide the data into training and test (75%-25%) and add a 1 as first component to each sample."
   ]
  },
  {
   "cell_type": "code",
   "execution_count": 11,
   "metadata": {},
   "outputs": [
    {
     "name": "stdout",
     "output_type": "stream",
     "text": [
      "[-1 -1  1  1  1  1  1 -1  1  1  1  1  1  1 -1  1 -1  1  1  1  1  1 -1  1\n",
      "  1 -1  1  1  1  1  1  1 -1  1  1  1 -1 -1  1 -1  1  1  1  1 -1 -1 -1 -1\n",
      "  1 -1 -1 -1 -1 -1  1  1  1  1  1  1  1 -1 -1  1  1  1  1  1  1 -1 -1  1\n",
      "  1  1 -1 -1  1 -1  1  1  1  1  1 -1  1  1  1  1 -1  1 -1 -1 -1 -1  1 -1\n",
      "  1 -1  1  1 -1 -1  1  1  1 -1  1  1  1  1 -1 -1  1  1 -1  1  1  1  1  1\n",
      " -1 -1 -1 -1  1 -1 -1  1 -1  1  1  1  1 -1 -1  1  1  1 -1  1  1 -1 -1 -1\n",
      " -1 -1  1 -1 -1  1 -1  1  1  1  1 -1 -1 -1  1 -1 -1  1  1 -1  1 -1  1 -1\n",
      "  1  1 -1  1 -1 -1  1  1  1 -1  1  1 -1 -1 -1  1 -1 -1 -1 -1 -1 -1  1  1\n",
      " -1 -1 -1]\n",
      "65\n",
      "Shape of training set: (195, 3)\n",
      "Shape of test set: (65, 3)\n"
     ]
    }
   ],
   "source": [
    "#Divide in training and test: make sure that your training set\n",
    "#contains at least 10 elements from class 1 and at least 10 elements\n",
    "#from class -1! If it does not, modify the code so to apply more random\n",
    "#permutations (or the same permutation multiple times) until this happens.\n",
    "#IMPORTANT: do not change the random seed.\n",
    "\n",
    "m_training = int(3/4*X.shape[0])\n",
    "m_test = int(1/4*X.shape[0])\n",
    "\n",
    "X_training =  X[:m_training,:]\n",
    "Y_training = Y[:m_training]\n",
    "\n",
    "X_test = X[m_training:m_test+m_training,:]\n",
    "Y_test = Y[m_training:m_test+m_training]\n",
    "\n",
    "print(Y_training) #to make sure that Y_training contains both 1 and -1\n",
    "print(m_test)\n",
    "\n",
    "print(\"Shape of training set: \" + str(X_training.shape))\n",
    "print(\"Shape of test set: \" + str(X_test.shape))\n",
    "\n",
    "one = np.ones((X_training.shape[0],1))\n",
    "\n",
    "X_training_1 = np.hstack((one,X_training))\n",
    "\n",
    "#print(X_training_1)\n",
    "#print(Y_training)\n",
    "\n",
    "one = np.ones((X_test.shape[0],1))\n",
    "X_test_1 = np.hstack((one,X_test))"
   ]
  },
  {
   "cell_type": "markdown",
   "metadata": {},
   "source": [
    "To define a logistic regression model in Scikit-learn use the instruction\n",
    "\n",
    "$linear\\_model.LogisticRegression(C=1e5)$\n",
    "\n",
    "($C$ is a parameter related to *regularization*, a technique that\n",
    "we will see later in the course. Setting it to a high value is almost\n",
    "as ignoring regularization, so the instruction above corresponds to the\n",
    "logistic regression you have seen in class.)\n",
    "\n",
    "To learn the model you need to use the $fit(...)$ instruction and to predict you need to use the $predict(...)$ function. See the Scikit-learn documentation for how to use it.\n",
    "\n",
    "**TO DO** Define the logistic regression model, then learn the model using the training set and predict on the test set. Then print the fraction of samples missclassified in the training set and in the test set."
   ]
  },
  {
   "cell_type": "code",
   "execution_count": 12,
   "metadata": {},
   "outputs": [
    {
     "name": "stdout",
     "output_type": "stream",
     "text": [
      "LogisticRegression(C=100000.0, class_weight=None, dual=False,\n",
      "                   fit_intercept=True, intercept_scaling=1, l1_ratio=None,\n",
      "                   max_iter=100, multi_class='warn', n_jobs=None, penalty='l2',\n",
      "                   random_state=None, solver='warn', tol=0.0001, verbose=0,\n",
      "                   warm_start=False)\n",
      "Error rate on training set: 0.06153846153846154\n",
      "Error rate on test set: 0.07692307692307693\n"
     ]
    },
    {
     "name": "stderr",
     "output_type": "stream",
     "text": [
      "/Users/alicepagano/anaconda3/lib/python3.7/site-packages/sklearn/linear_model/logistic.py:432: FutureWarning: Default solver will be changed to 'lbfgs' in 0.22. Specify a solver to silence this warning.\n",
      "  FutureWarning)\n"
     ]
    }
   ],
   "source": [
    "#part on logistic regression for 2 classes\n",
    "\n",
    "logreg = linear_model.LogisticRegression(C=1e5)\n",
    "\n",
    "#learn from training set\n",
    "\n",
    "reg = logreg.fit(X_training_1,Y_training)\n",
    "\n",
    "print(reg)\n",
    "#predict on training set\n",
    "\n",
    "pred = logreg.predict(X_training_1)\n",
    "\n",
    "#print the error rate = fraction of missclassified samples\n",
    "error_rate_training = 0\n",
    "\n",
    "for i in range(pred.shape[0]):   \n",
    "            if pred[i] != Y_training[i]:\n",
    "                error_rate_training += 1\n",
    "                \n",
    "error_rate_training = error_rate_training/m_training\n",
    "\n",
    "print(\"Error rate on training set: \"+str(error_rate_training))\n",
    "\n",
    "#predict on test set\n",
    "\n",
    "pred = logreg.predict(X_test_1)\n",
    "\n",
    "#print the error rate = fraction of missclassified samples\n",
    "error_rate_test = 0 \n",
    "\n",
    "for i in range(pred.shape[0]):   \n",
    "            if pred[i] != Y_test[i]:\n",
    "                error_rate_test += 1\n",
    "                \n",
    "error_rate_test = error_rate_test/m_test\n",
    "\n",
    "print(\"Error rate on test set: \" + str(error_rate_test))"
   ]
  },
  {
   "cell_type": "markdown",
   "metadata": {},
   "source": [
    "**TO DO** Now pick two features and restrict the dataset to include only two features, whose indices are specified in the $feature$ vector below. Then split into training and test. Which features are you going to select ?"
   ]
  },
  {
   "cell_type": "code",
   "execution_count": 13,
   "metadata": {},
   "outputs": [],
   "source": [
    "#to make the plot we need to reduce the data to 2D, so we choose two features\n",
    "features_list = ['height', 'weight', 'age']\n",
    "labels_list = ['Center', 'Point guard']\n",
    "\n",
    "index_feature1 = 0\n",
    "index_feature2 = 1\n",
    "features = [index_feature1, index_feature2]\n",
    "\n",
    "feature_name0 = features_list[features[0]]\n",
    "feature_name1 = features_list[features[1]]\n",
    "\n",
    "X_reduced = X[:,features]\n",
    "\n",
    "#print(X_reduced)\n",
    "m_training = int(3/4*X_reduced.shape[0])\n",
    "m_test = int(1/4*X_reduced.shape[0])\n",
    "\n",
    "\n",
    "X_training = X_reduced[:m_training,:]\n",
    "Y_training = Y[:m_training]\n",
    "\n",
    "X_test = X_reduced[m_training:m_test+m_training,:]\n",
    "Y_test = Y[m_training:m_test+m_training]\n",
    "\n",
    "one = np.ones((X_training.shape[0],1))\n",
    "\n",
    "X_training_1 = np.hstack((one,X_training))\n",
    "\n",
    "#print(X_training_1)\n",
    "#print(Y_training)\n",
    "\n",
    "one = np.ones((X_test.shape[0],1))\n",
    "X_test_1 = np.hstack((one,X_test))"
   ]
  },
  {
   "cell_type": "markdown",
   "metadata": {},
   "source": [
    "Now learn a model using the training data and measure the performances."
   ]
  },
  {
   "cell_type": "code",
   "execution_count": 14,
   "metadata": {},
   "outputs": [
    {
     "name": "stdout",
     "output_type": "stream",
     "text": [
      "LogisticRegression(C=100000.0, class_weight=None, dual=False,\n",
      "                   fit_intercept=True, intercept_scaling=1, l1_ratio=None,\n",
      "                   max_iter=100, multi_class='warn', n_jobs=None, penalty='l2',\n",
      "                   random_state=None, solver='warn', tol=0.0001, verbose=0,\n",
      "                   warm_start=False)\n",
      "Error rate on training set: 0.06666666666666667\n"
     ]
    },
    {
     "name": "stderr",
     "output_type": "stream",
     "text": [
      "/Users/alicepagano/anaconda3/lib/python3.7/site-packages/sklearn/linear_model/logistic.py:432: FutureWarning: Default solver will be changed to 'lbfgs' in 0.22. Specify a solver to silence this warning.\n",
      "  FutureWarning)\n"
     ]
    }
   ],
   "source": [
    "# learning from training data\n",
    "\n",
    "#part on logistic regression for 2 classes\n",
    "\n",
    "logreg = linear_model.LogisticRegression(C=1e5)\n",
    "\n",
    "#learn from training set\n",
    "\n",
    "reg = logreg.fit(X_training,Y_training)\n",
    "\n",
    "print(reg)\n",
    "#predict on training set\n",
    "\n",
    "pred = logreg.predict(X_training)\n",
    "\n",
    "#print the error rate = fraction of missclassified samples\n",
    "error_rate_training = 0\n",
    "\n",
    "for i in range(pred.shape[0]):   \n",
    "            if pred[i] != Y_training[i]:\n",
    "                error_rate_training += 1\n",
    "                \n",
    "error_rate_training = error_rate_training/m_training\n",
    "\n",
    "print(\"Error rate on training set: \"+str(error_rate_training))"
   ]
  },
  {
   "cell_type": "code",
   "execution_count": 15,
   "metadata": {},
   "outputs": [
    {
     "name": "stdout",
     "output_type": "stream",
     "text": [
      "[[195  94]\n",
      " [185  81]\n",
      " [222 125]\n",
      " [185 108]\n",
      " [186 103]\n",
      " [216 146]\n",
      " [219 117]\n",
      " [182  78]\n",
      " [219 117]\n",
      " [213 103]\n",
      " [185 126]\n",
      " [231 139]\n",
      " [225 112]\n",
      " [186 119]\n",
      " [155  81]\n",
      " [216 112]\n",
      " [210 114]\n",
      " [213 119]\n",
      " [213 114]\n",
      " [186 119]\n",
      " [185 108]\n",
      " [186 119]\n",
      " [182  74]\n",
      " [186 119]\n",
      " [213 114]\n",
      " [155  87]\n",
      " [185 108]\n",
      " [213 128]\n",
      " [186 119]\n",
      " [213 128]\n",
      " [186 119]\n",
      " [219 117]\n",
      " [185  76]\n",
      " [219 101]\n",
      " [219 117]\n",
      " [186 103]\n",
      " [185  81]\n",
      " [182  78]\n",
      " [210 126]\n",
      " [182  78]\n",
      " [213 128]\n",
      " [216 112]\n",
      " [186 119]\n",
      " [213 114]\n",
      " [195  94]\n",
      " [182  78]\n",
      " [210 114]\n",
      " [185  81]\n",
      " [216 146]\n",
      " [182  78]\n",
      " [198  85]\n",
      " [198  85]\n",
      " [195  94]\n",
      " [185  81]\n",
      " [216 112]\n",
      " [213 120]\n",
      " [216 146]\n",
      " [213 117]\n",
      " [213 108]\n",
      " [185 126]\n",
      " [186 119]\n",
      " [182  75]\n",
      " [185  76]\n",
      " [186 116]\n",
      " [213 114]\n",
      " [213 117]\n",
      " [186 119]\n",
      " [213 120]\n",
      " [185  96]\n",
      " [185  88]\n",
      " [192  76]\n",
      " [186 119]\n",
      " [213 110]\n",
      " [222 117]\n",
      " [188  83]\n",
      " [195  94]\n",
      " [216 146]\n",
      " [195  94]\n",
      " [186 108]\n",
      " [186 119]\n",
      " [231 139]\n",
      " [216 146]\n",
      " [213 108]\n",
      " [195  94]\n",
      " [213 114]\n",
      " [216 112]\n",
      " [216 112]\n",
      " [213 114]\n",
      " [182  78]\n",
      " [213 108]\n",
      " [192  76]\n",
      " [195  94]\n",
      " [210 114]\n",
      " [182  78]\n",
      " [231 139]\n",
      " [192  85]\n",
      " [186 121]\n",
      " [192  90]\n",
      " [213 114]\n",
      " [186 119]\n",
      " [204  87]\n",
      " [182  78]\n",
      " [219 117]\n",
      " [186 119]\n",
      " [185 108]\n",
      " [182  78]\n",
      " [185 126]\n",
      " [213 108]\n",
      " [213 108]\n",
      " [216 146]\n",
      " [195  94]\n",
      " [210 114]\n",
      " [186 103]\n",
      " [210  94]\n",
      " [192  90]\n",
      " [213 108]\n",
      " [216 114]\n",
      " [216 146]\n",
      " [186 119]\n",
      " [213 108]\n",
      " [210 114]\n",
      " [185  81]\n",
      " [185  76]\n",
      " [192  85]\n",
      " [210 117]\n",
      " [179  83]\n",
      " [185  76]\n",
      " [216 146]\n",
      " [195  94]\n",
      " [185 126]\n",
      " [213 119]\n",
      " [185 108]\n",
      " [213 114]\n",
      " [195  94]\n",
      " [192  90]\n",
      " [213 114]\n",
      " [213 110]\n",
      " [213 108]\n",
      " [195  94]\n",
      " [216 112]\n",
      " [186 125]\n",
      " [192  85]\n",
      " [210 114]\n",
      " [195  94]\n",
      " [155  73]\n",
      " [182  78]\n",
      " [186 119]\n",
      " [195  94]\n",
      " [195  94]\n",
      " [213 114]\n",
      " [210 114]\n",
      " [216 112]\n",
      " [216 112]\n",
      " [216 112]\n",
      " [216 146]\n",
      " [182  78]\n",
      " [195  94]\n",
      " [192  76]\n",
      " [216 146]\n",
      " [182  78]\n",
      " [185  81]\n",
      " [219 117]\n",
      " [216 146]\n",
      " [210 114]\n",
      " [186 119]\n",
      " [195  94]\n",
      " [213 108]\n",
      " [185  76]\n",
      " [231 139]\n",
      " [216 146]\n",
      " [185  81]\n",
      " [231 139]\n",
      " [195  94]\n",
      " [185  88]\n",
      " [216 117]\n",
      " [213 109]\n",
      " [216 112]\n",
      " [182  78]\n",
      " [213 114]\n",
      " [216 146]\n",
      " [192  78]\n",
      " [188  83]\n",
      " [201  85]\n",
      " [213 114]\n",
      " [185  88]\n",
      " [182  76]\n",
      " [155  73]\n",
      " [192  85]\n",
      " [185  88]\n",
      " [210 114]\n",
      " [213 108]\n",
      " [216 146]\n",
      " [182  76]\n",
      " [192  90]\n",
      " [182  78]\n",
      " [213 103]\n",
      " [192  85]\n",
      " [195  94]\n",
      " [186 121]\n",
      " [185 126]\n",
      " [210 114]\n",
      " [185  81]\n",
      " [195  94]\n",
      " [219 117]\n",
      " [210 114]\n",
      " [195  94]\n",
      " [192  76]\n",
      " [182  78]\n",
      " [179  83]\n",
      " [182  67]\n",
      " [219 117]\n",
      " [213 117]\n",
      " [155  87]\n",
      " [192  90]\n",
      " [185 108]\n",
      " [216 112]\n",
      " [204  87]\n",
      " [216 146]\n",
      " [216 112]\n",
      " [210 114]\n",
      " [186 119]\n",
      " [225 112]\n",
      " [185  96]\n",
      " [186 108]\n",
      " [186 121]\n",
      " [216 112]\n",
      " [213 108]\n",
      " [185  85]\n",
      " [216 146]\n",
      " [185  81]\n",
      " [216 146]\n",
      " [185  76]\n",
      " [182  78]\n",
      " [213 110]\n",
      " [195  94]\n",
      " [192  90]\n",
      " [186 119]\n",
      " [182  78]\n",
      " [216 112]\n",
      " [216 146]\n",
      " [213 120]\n",
      " [216 146]\n",
      " [188  87]\n",
      " [185  83]\n",
      " [185 108]\n",
      " [219 117]\n",
      " [216 112]\n",
      " [216 146]\n",
      " [213 108]\n",
      " [192  90]\n",
      " [186 121]\n",
      " [155  81]\n",
      " [185  88]\n",
      " [231 139]\n",
      " [192  90]\n",
      " [185 108]\n",
      " [195  94]\n",
      " [179  83]\n",
      " [185  81]\n",
      " [182  78]]\n"
     ]
    }
   ],
   "source": [
    "print(X_reduced)"
   ]
  },
  {
   "cell_type": "markdown",
   "metadata": {},
   "source": [
    "**TO DO** [Answer the following] Which features did you select and why ? Compare the perfromances with the ones of the case with all the 3 features and comment about the results. [Write the answer in this cell]\n",
    "\n",
    "**ANSWER QUESTION 3**\n",
    "\n",
    "I selected the height and the weight, because they are more relevant for the role a player can have than the age. The performance in the case with all the 3 features and the one with only height and weight are equivalent. \n",
    "It means that the height and the weight are well correlated with the role of a player.\n",
    "\n",
    "I've also selected the height and the age, but the error measured is very high meaning that they are not well correlated with the role. \n",
    "\n",
    "Finally, the weight and the age have a training error similar to the case with height and weight."
   ]
  },
  {
   "cell_type": "markdown",
   "metadata": {},
   "source": [
    "If everything is ok, the code below uses the model in $logreg$ to plot the decision region for the two features chosen above, with colors denoting the predicted value. It also plots the points (with correct labels) in the training set. It makes a similar plot for the test set."
   ]
  },
  {
   "cell_type": "code",
   "execution_count": 16,
   "metadata": {},
   "outputs": [
    {
     "data": {
      "image/png": "[encoded data removed]",
      "text/plain": [
       "<Figure size 288x216 with 1 Axes>"
      ]
     },
     "metadata": {},
     "output_type": "display_data"
    },
    {
     "data": {
      "image/png": "[encoded data removed]",
      "text/plain": [
       "<Figure size 288x216 with 1 Axes>"
      ]
     },
     "metadata": {},
     "output_type": "display_data"
    }
   ],
   "source": [
    "# Plot the decision boundary. For that, we will assign a color to each\n",
    "# point in the mesh [x_min, x_max]x[y_min, y_max].\n",
    "\n",
    "# NOTICE: This visualization code has been developed for a \"standard\" solution of the notebook, \n",
    "# it could be necessary to make some fixes to adapt to your implementation\n",
    "\n",
    "\n",
    "h = .02  # step size in the mesh\n",
    "x_min, x_max = X_reduced[:, 0].min() - .5, X_reduced[:, 0].max() + .5\n",
    "y_min, y_max = X_reduced[:, 1].min() - .5, X_reduced[:, 1].max() + .5\n",
    "xx, yy = np.meshgrid(np.arange(x_min, x_max, h), np.arange(y_min, y_max, h))\n",
    "\n",
    "Z = logreg.predict(np.c_[xx.ravel(), yy.ravel()])\n",
    "\n",
    "# Put the result into a color plot\n",
    "Z = Z.reshape(xx.shape)\n",
    "\n",
    "plt.figure(1, figsize=(4, 3))\n",
    "plt.pcolormesh(xx, yy, Z, cmap=plt.cm.Paired)\n",
    "\n",
    "# Plot also the training points\n",
    "plt.scatter(X_training[:, 0], X_training[:, 1], c=Y_training, edgecolors='k', cmap=plt.cm.Paired)\n",
    "plt.xlabel(feature_name0)\n",
    "plt.ylabel(feature_name1)\n",
    "\n",
    "plt.xlim(xx.min(), xx.max())\n",
    "plt.ylim(yy.min(), yy.max())\n",
    "plt.xticks(())\n",
    "plt.yticks(())\n",
    "plt.title('Training set')\n",
    "\n",
    "plt.show()\n",
    "\n",
    "# Put the result into a color plot\n",
    "Z = Z.reshape(xx.shape)\n",
    "plt.figure(1, figsize=(4, 3))\n",
    "plt.pcolormesh(xx, yy, Z, cmap=plt.cm.Paired)\n",
    "\n",
    "# Plot also the test points \n",
    "plt.scatter(X_test[:, 0], X_test[:, 1], c=Y_test, edgecolors='k', cmap=plt.cm.Paired, marker='s')\n",
    "plt.xlabel(feature_name0)\n",
    "plt.ylabel(feature_name1)\n",
    "\n",
    "plt.xlim(xx.min(), xx.max())\n",
    "plt.ylim(yy.min(), yy.max())\n",
    "plt.xticks(())\n",
    "plt.yticks(())\n",
    "plt.title('Test set')\n",
    "\n",
    "plt.show()"
   ]
  },
  {
   "cell_type": "code",
   "execution_count": null,
   "metadata": {},
   "outputs": [],
   "source": []
  },
  {
   "cell_type": "code",
   "execution_count": null,
   "metadata": {},
   "outputs": [],
   "source": []
  }
 ],
 "metadata": {
  "anaconda-cloud": {},
  "kernelspec": {
   "display_name": "Python 3",
   "language": "python",
   "name": "python3"
  },
  "language_info": {
   "codemirror_mode": {
    "name": "ipython",
    "version": 3
   },
   "file_extension": ".py",
   "mimetype": "text/x-python",
   "name": "python",
   "nbconvert_exporter": "python",
   "pygments_lexer": "ipython3",
   "version": "3.7.2"
  }
 },
 "nbformat": 4,
 "nbformat_minor": 2
}
